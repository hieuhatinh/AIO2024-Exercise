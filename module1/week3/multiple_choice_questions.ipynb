{
 "cells": [
  {
   "cell_type": "code",
   "execution_count": 1,
   "metadata": {},
   "outputs": [
    {
     "data": {
      "text/plain": [
       "tensor([0.0900, 0.2447, 0.6652])"
      ]
     },
     "execution_count": 1,
     "metadata": {},
     "output_type": "execute_result"
    }
   ],
   "source": [
    "import torch\n",
    "import torch.nn as nn\n",
    "\n",
    "data = torch.Tensor([1, 2, 3])\n",
    "softmax_function = nn.Softmax(dim=0)\n",
    "output = softmax_function(data)\n",
    "assert round(output[0]. item(), 2) == 0.09\n",
    "output"
   ]
  },
  {
   "cell_type": "code",
   "execution_count": 1,
   "metadata": {},
   "outputs": [
    {
     "data": {
      "text/plain": [
       "tensor([0.7054, 0.0351, 0.2595])"
      ]
     },
     "execution_count": 1,
     "metadata": {},
     "output_type": "execute_result"
    }
   ],
   "source": [
    "# cau 2\n",
    "import torch\n",
    "import torch.nn as nn\n",
    "\n",
    "\n",
    "class MySoftmax(nn.Module):\n",
    "    def __init__(self):\n",
    "        super().__init__()\n",
    "\n",
    "    def forward(self, x):\n",
    "        exp_x = torch.exp(x)\n",
    "        sum_exp_x = torch.sum(exp_x)\n",
    "        return exp_x / sum_exp_x\n",
    "\n",
    "\n",
    "data = torch . Tensor([5, 2, 4])\n",
    "my_softmax = MySoftmax()\n",
    "output = my_softmax(data)\n",
    "assert round(output[-1]. item(), 2) == 0.26\n",
    "output"
   ]
  },
  {
   "cell_type": "code",
   "execution_count": 6,
   "metadata": {},
   "outputs": [
    {
     "data": {
      "text/plain": [
       "tensor([0., 0., nan])"
      ]
     },
     "execution_count": 6,
     "metadata": {},
     "output_type": "execute_result"
    }
   ],
   "source": [
    "# cau 3\n",
    "data = torch.Tensor([1, 2, 300000000])\n",
    "my_softmax = MySoftmax()\n",
    "output = my_softmax(data)\n",
    "assert round(output[0].item(), 2) == 0.0\n",
    "output"
   ]
  },
  {
   "cell_type": "code",
   "execution_count": 7,
   "metadata": {},
   "outputs": [
    {
     "data": {
      "text/plain": [
       "tensor([0.0900, 0.2447, 0.6652])"
      ]
     },
     "execution_count": 7,
     "metadata": {},
     "output_type": "execute_result"
    }
   ],
   "source": [
    "# cau 4\n",
    "import torch\n",
    "import torch.nn as nn\n",
    "\n",
    "\n",
    "class SoftmaxStable(nn.Module):\n",
    "    def __init__(self):\n",
    "        super().__init__()\n",
    "\n",
    "    def forward(self, x):\n",
    "        x_max = torch.max(x, dim=0, keepdims=True)\n",
    "        x_exp = torch.exp(x - x_max.values)\n",
    "        partition = x_exp.sum(0, keepdims=True)\n",
    "        return x_exp / partition\n",
    "\n",
    "\n",
    "data = torch.Tensor([1, 2, 3])\n",
    "softmax_stable = SoftmaxStable()\n",
    "output = softmax_stable(data)\n",
    "assert round(output[-1].item(), 2) == 0.67\n",
    "output"
   ]
  },
  {
   "cell_type": "code",
   "execution_count": 13,
   "metadata": {},
   "outputs": [
    {
     "name": "stdout",
     "output_type": "stream",
     "text": [
      "Student - Name: studentZ2023 - YoB: 2011 - Grade: 6\n",
      "Student - Name: teacherZ2023 - YoB: 1991 - Grade: History\n",
      "Student - Name: doctorZ2023 - YoB: 1981 - Grade: Endocrinologists\n"
     ]
    }
   ],
   "source": [
    "# cau 5, 6, 7\n",
    "from abc import ABC, abstractmethod\n",
    "\n",
    "\n",
    "class Person(ABC):\n",
    "    def __init__(self, name: str, yob: int):\n",
    "        self._name = name\n",
    "        self._yob = yob\n",
    "\n",
    "    def get_yob(self):\n",
    "        return self._yob\n",
    "\n",
    "    @abstractmethod\n",
    "    def describe(self):\n",
    "        return f'Name: {self._name} - YoB: {self._yob}'\n",
    "\n",
    "\n",
    "class Student(Person):\n",
    "    def __init__(self, name: str, yob: int, grade: str):\n",
    "        super().__init__(name, yob)\n",
    "        self._grade = grade\n",
    "\n",
    "    def describe(self):\n",
    "        print(f'Student - {super().describe()} - Grade: {self._grade}')\n",
    "\n",
    "\n",
    "class Teacher(Person):\n",
    "    def __init__(self, name: str, yob: int, subject: str):\n",
    "        super().__init__(name, yob)\n",
    "        self._subject = subject\n",
    "\n",
    "    def describe(self):\n",
    "        print(f'Student - {super().describe()} - Grade: {self._subject}')\n",
    "\n",
    "\n",
    "class Doctor(Person):\n",
    "    def __init__(self, name: str, yob: int, specialist: str):\n",
    "        super().__init__(name, yob)\n",
    "        self._specialist = specialist\n",
    "\n",
    "    def describe(self):\n",
    "        print(f'Student - {super().describe()} - Grade: {self._specialist}')\n",
    "\n",
    "\n",
    "student1 = Student(name='studentZ2023', yob=2011, grade='6')\n",
    "assert student1._yob == 2011\n",
    "student1.describe()\n",
    "\n",
    "teacher1 = Teacher(name='teacherZ2023', yob=1991, subject='History')\n",
    "assert teacher1._yob == 1991\n",
    "teacher1.describe()\n",
    "\n",
    "doctor1 = Doctor(name='doctorZ2023', yob=1981, specialist='Endocrinologists')\n",
    "assert doctor1._yob == 1981\n",
    "doctor1.describe()"
   ]
  },
  {
   "cell_type": "code",
   "execution_count": 19,
   "metadata": {},
   "outputs": [
    {
     "data": {
      "text/plain": [
       "2"
      ]
     },
     "execution_count": 19,
     "metadata": {},
     "output_type": "execute_result"
    }
   ],
   "source": [
    "# cau 8\n",
    "class Ward:\n",
    "    def __init__(self, name):\n",
    "        self.__name = name\n",
    "        self.__listPeople = list()\n",
    "\n",
    "    def add_person(self, person: Person):\n",
    "        self.__listPeople.append(person)\n",
    "\n",
    "    def descrie(self):\n",
    "        print(f'Ward Name: {self.__name}')\n",
    "        for p in self.__listPeople:\n",
    "            p.describe()\n",
    "\n",
    "    def count_doctor(self):\n",
    "        number_doctors = 0\n",
    "        for person in self.__listPeople:\n",
    "            if isinstance(person, Doctor):\n",
    "                number_doctors += 1\n",
    "        return number_doctors\n",
    "\n",
    "\n",
    "student1 = Student(name=\" studentA \", yob=2010, grade=\"7\")\n",
    "teacher1 = Teacher(name=\" teacherA \", yob=1969, subject=\" Math \")\n",
    "teacher2 = Teacher(name=\" teacherB \", yob=1995, subject=\" History \")\n",
    "doctor1 = Doctor(name=\" doctorA \", yob=1945, specialist=\" Endocrinologists \")\n",
    "doctor2 = Doctor(name=\" doctorB \", yob=1975, specialist=\" Cardiologists \")\n",
    "ward1 = Ward(name=\" Ward1 \")\n",
    "ward1.add_person(student1)\n",
    "ward1.add_person(teacher1)\n",
    "ward1.add_person(teacher2)\n",
    "ward1.add_person(doctor1)\n",
    "assert ward1.count_doctor() == 1\n",
    "ward1.add_person(doctor2)\n",
    "ward1.count_doctor()"
   ]
  },
  {
   "cell_type": "code",
   "execution_count": 16,
   "metadata": {},
   "outputs": [
    {
     "name": "stdout",
     "output_type": "stream",
     "text": [
      "False\n",
      "2\n"
     ]
    }
   ],
   "source": [
    "# cau 9, 10\n",
    "class MyStack:\n",
    "    def __init__(self, capacity):\n",
    "        self.__capacity = capacity\n",
    "        self.__stack = []\n",
    "\n",
    "    def is_empty(self):\n",
    "        return len(self.__stack) == 0\n",
    "\n",
    "    def is_full(self):\n",
    "        return len(self.__stack) == self.__capacity\n",
    "\n",
    "    def push(self, value):\n",
    "        if self.is_full():\n",
    "            print('stack is full')\n",
    "            return\n",
    "        self.__stack.append(value)\n",
    "\n",
    "    def top(self):\n",
    "        return self.__stack[-1]\n",
    "\n",
    "\n",
    "stack1 = MyStack(capacity=5)\n",
    "stack1.push(1)\n",
    "assert stack1.is_full() == False\n",
    "stack1.push(2)\n",
    "print(stack1.is_full())\n",
    "print(stack1.top())"
   ]
  },
  {
   "cell_type": "code",
   "execution_count": 18,
   "metadata": {},
   "outputs": [
    {
     "name": "stdout",
     "output_type": "stream",
     "text": [
      "False\n",
      "1\n"
     ]
    }
   ],
   "source": [
    "# cau 11, 12\n",
    "class MyQueue:\n",
    "    def __init__(self, capacity):\n",
    "        self.__capacity = capacity\n",
    "        self.__queue = []\n",
    "\n",
    "    def is_empty(self):\n",
    "        return len(self.__queue) == 0\n",
    "\n",
    "    def is_full(self):\n",
    "        return len(self.__queue) == self.__capacity\n",
    "\n",
    "    def dequeue(self):\n",
    "        if self.is_empty():\n",
    "            print('queue is empy')\n",
    "            return\n",
    "        return self.__queue.pop(0)\n",
    "\n",
    "    def enqueue(self, value):\n",
    "        if self.is_full():\n",
    "            print('queue is full')\n",
    "        self.__queue.append(value)\n",
    "\n",
    "    def front(self):\n",
    "        return self.__queue[0]\n",
    "    \n",
    "queue1 = MyQueue(capacity=5)\n",
    "queue1.enqueue(1)\n",
    "assert queue1.is_full() == False\n",
    "queue1.enqueue(2)\n",
    "print(queue1.is_full())\n",
    "print(queue1.front())"
   ]
  },
  {
   "cell_type": "code",
   "execution_count": null,
   "metadata": {},
   "outputs": [],
   "source": []
  }
 ],
 "metadata": {
  "kernelspec": {
   "display_name": "Python 3",
   "language": "python",
   "name": "python3"
  },
  "language_info": {
   "codemirror_mode": {
    "name": "ipython",
    "version": 3
   },
   "file_extension": ".py",
   "mimetype": "text/x-python",
   "name": "python",
   "nbconvert_exporter": "python",
   "pygments_lexer": "ipython3",
   "version": "3.11.9"
  }
 },
 "nbformat": 4,
 "nbformat_minor": 2
}
