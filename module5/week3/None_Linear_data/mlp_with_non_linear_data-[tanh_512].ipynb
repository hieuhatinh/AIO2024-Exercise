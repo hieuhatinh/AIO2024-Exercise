{
 "cells": [
  {
   "cell_type": "code",
   "execution_count": 1,
   "metadata": {},
   "outputs": [],
   "source": [
    "import numpy as np\n",
    "import pandas as pd\n",
    "import matplotlib.pyplot as plt\n",
    "import torch\n",
    "import torch.nn as nn\n",
    "import torch.nn.functional as F\n",
    "from torch.utils.data import Dataset, DataLoader\n",
    "\n",
    "from sklearn.model_selection import train_test_split\n",
    "from sklearn.preprocessing import StandardScaler"
   ]
  },
  {
   "cell_type": "code",
   "execution_count": 2,
   "metadata": {},
   "outputs": [],
   "source": [
    "# cài đặt giá trị ngẫu nhiên cố định và thiết bị tính toán\n",
    "device = torch.device('cuda' if torch.cuda.is_available() else 'cpu')\n",
    "random_state = 59\n",
    "np.random.seed(random_state)\n",
    "torch.manual_seed(random_state)\n",
    "if torch.cuda.is_available():\n",
    "    torch.cuda.manual_seed(random_state)"
   ]
  },
  {
   "cell_type": "markdown",
   "metadata": {},
   "source": [
    "#### Đọc bộ dữ liệu"
   ]
  },
  {
   "cell_type": "code",
   "execution_count": 3,
   "metadata": {},
   "outputs": [],
   "source": [
    "data_path = '../data/NonLinear_data.npy'\n",
    "data = np.load(data_path, allow_pickle=True).item()\n",
    "X, y = data['X'], data['labels']"
   ]
  },
  {
   "cell_type": "code",
   "execution_count": 4,
   "metadata": {},
   "outputs": [
    {
     "name": "stdout",
     "output_type": "stream",
     "text": [
      "(300, 2) (300,)\n"
     ]
    }
   ],
   "source": [
    "print(X.shape, y.shape)"
   ]
  },
  {
   "cell_type": "code",
   "execution_count": 5,
   "metadata": {},
   "outputs": [
    {
     "data": {
      "text/plain": [
       "array([[ 0.        ,  0.        ],\n",
       "       [ 0.00096008,  0.01005528],\n",
       "       [ 0.01045864,  0.01728405],\n",
       "       [ 0.00087922,  0.03029027],\n",
       "       [ 0.00991727,  0.03916803],\n",
       "       [ 0.00677283,  0.05004887],\n",
       "       [ 0.01419082,  0.05892126],\n",
       "       [ 0.03115796,  0.06347182],\n",
       "       [-0.00803244,  0.08040787],\n",
       "       [ 0.04447445,  0.07928736]])"
      ]
     },
     "execution_count": 5,
     "metadata": {},
     "output_type": "execute_result"
    }
   ],
   "source": [
    "X[:10]"
   ]
  },
  {
   "cell_type": "code",
   "execution_count": 6,
   "metadata": {},
   "outputs": [
    {
     "data": {
      "text/plain": [
       "array([0, 0, 0, 0, 0, 0, 0, 0, 0, 0], dtype=uint8)"
      ]
     },
     "execution_count": 6,
     "metadata": {},
     "output_type": "execute_result"
    }
   ],
   "source": [
    "y[:10]"
   ]
  },
  {
   "cell_type": "markdown",
   "metadata": {},
   "source": [
    "#### Chia bộ dữ liệu train/vale/test theo tỉ lệ 7:2:1\n"
   ]
  },
  {
   "cell_type": "code",
   "execution_count": 7,
   "metadata": {},
   "outputs": [],
   "source": [
    "val_size = 0.2\n",
    "test_size = 0.125\n",
    "is_shuffle = True\n",
    "\n",
    "X_train, X_val, y_train, y_val = train_test_split(\n",
    "    X, y, \n",
    "    test_size=val_size, \n",
    "    shuffle=is_shuffle, \n",
    "    random_state=random_state\n",
    ")\n",
    "\n",
    "X_train, X_test, y_train, y_test = train_test_split(\n",
    "    X_train, y_train, \n",
    "    test_size=test_size, \n",
    "    shuffle=is_shuffle, \n",
    "    random_state=random_state\n",
    ")"
   ]
  },
  {
   "cell_type": "markdown",
   "metadata": {},
   "source": [
    "#### Chuẩn hóa đặc trưng đầu vào"
   ]
  },
  {
   "cell_type": "code",
   "execution_count": 8,
   "metadata": {},
   "outputs": [],
   "source": [
    "normalizer = StandardScaler()\n",
    "X_train = normalizer.fit_transform(X_train)\n",
    "X_val = normalizer.transform(X_val)\n",
    "X_test = normalizer.transform(X_test)\n",
    "\n",
    "X_train = torch.tensor(X_train, dtype=torch.float32)\n",
    "X_val = torch.tensor(X_val, dtype=torch.float32)\n",
    "X_test = torch.tensor(X_test, dtype=torch.float32)\n",
    "y_train = torch.tensor(y_train, dtype=torch.long)\n",
    "y_val = torch.tensor(y_val, dtype=torch.long)\n",
    "y_test = torch.tensor(y_test, dtype=torch.long)"
   ]
  },
  {
   "cell_type": "code",
   "execution_count": 9,
   "metadata": {},
   "outputs": [],
   "source": [
    "class CustomDataset(Dataset):\n",
    "    def __init__(self, X, y):\n",
    "        self.X = X\n",
    "        self.y = y\n",
    "\n",
    "    def __len__(self):\n",
    "        return len(self.y)\n",
    "    \n",
    "    def __getitem__(self, idx):\n",
    "        return self.X[idx], self.y[idx]"
   ]
  },
  {
   "cell_type": "code",
   "execution_count": 10,
   "metadata": {},
   "outputs": [],
   "source": [
    "batch_size = 32\n",
    "train_dataset = CustomDataset(X_train, y_train)\n",
    "val_dataset = CustomDataset(X_val, y_val)\n",
    "test_dataset = CustomDataset(X_test, y_test)\n",
    "train_loader = DataLoader(train_dataset, \n",
    "                          batch_size=batch_size, \n",
    "                          shuffle=True)\n",
    "val_loader = DataLoader(val_dataset, \n",
    "                        batch_size=batch_size, \n",
    "                        shuffle=False)\n",
    "test_loader = DataLoader(test_dataset, \n",
    "                        batch_size=batch_size, \n",
    "                        shuffle=False)"
   ]
  },
  {
   "cell_type": "markdown",
   "metadata": {},
   "source": [
    "#### Xây dựng mạng MLP\n"
   ]
  },
  {
   "cell_type": "code",
   "execution_count": 11,
   "metadata": {},
   "outputs": [],
   "source": [
    "# Bài 9.3: chuyển hàm kích hoạt thành tanh và hidden_dims=512\n",
    "class MLP(nn.Module):\n",
    "    def __init__(self, input_dims, hidden_dims, output_dims):\n",
    "        super(MLP, self).__init__()\n",
    "        self.linear1 = nn.Linear(input_dims, hidden_dims)\n",
    "        self.output = nn.Linear(hidden_dims, output_dims)\n",
    "        self.relu = nn.ReLU()\n",
    "\n",
    "    def forward(self, x):\n",
    "        x = self.linear1(x)\n",
    "        x = self.relu(x)\n",
    "        x = self.output(x)\n",
    "        return x.squeeze(1)"
   ]
  },
  {
   "cell_type": "code",
   "execution_count": 12,
   "metadata": {},
   "outputs": [],
   "source": [
    "input_dims = X_train.shape[1]\n",
    "output_dims = torch.unique(y_train).shape[0]\n",
    "hidden_dims = 512\n",
    "\n",
    "model = MLP(input_dims=input_dims, \n",
    "            hidden_dims=hidden_dims, \n",
    "            output_dims=output_dims).to(device)"
   ]
  },
  {
   "cell_type": "markdown",
   "metadata": {},
   "source": [
    "#### Khai báo hàm los và optimizer\n"
   ]
  },
  {
   "cell_type": "code",
   "execution_count": 13,
   "metadata": {},
   "outputs": [],
   "source": [
    "lr = 1e-1\n",
    "criterion = nn.CrossEntropyLoss()\n",
    "optimizer = torch.optim.SGD(model.parameters(), lr=lr)"
   ]
  },
  {
   "cell_type": "markdown",
   "metadata": {},
   "source": [
    "#### Xây dựng hàm tính độ chính xác"
   ]
  },
  {
   "cell_type": "code",
   "execution_count": 14,
   "metadata": {},
   "outputs": [],
   "source": [
    "def compute_accuracy(y_hat, y_true):\n",
    "    _, y_hat = torch.max(y_hat, dim=1)\n",
    "    correct = (y_hat == y_true).sum().item()\n",
    "    accuracy = correct / len(y_true)\n",
    "    return accuracy"
   ]
  },
  {
   "cell_type": "markdown",
   "metadata": {},
   "source": [
    "#### Huấn luyện mô hình"
   ]
  },
  {
   "cell_type": "code",
   "execution_count": 15,
   "metadata": {},
   "outputs": [
    {
     "name": "stdout",
     "output_type": "stream",
     "text": [
      "\n",
      "EPOCH 1:\tTraining Loss: 1.032\tValidation Loss: 1.237\n",
      "\n",
      "EPOCH 2:\tTraining Loss: 0.841\tValidation Loss: 0.896\n",
      "\n",
      "EPOCH 3:\tTraining Loss: 0.699\tValidation Loss: 0.666\n",
      "\n",
      "EPOCH 4:\tTraining Loss: 0.637\tValidation Loss: 0.703\n",
      "\n",
      "EPOCH 5:\tTraining Loss: 0.547\tValidation Loss: 0.652\n",
      "\n",
      "EPOCH 6:\tTraining Loss: 0.499\tValidation Loss: 0.567\n",
      "\n",
      "EPOCH 7:\tTraining Loss: 0.511\tValidation Loss: 0.518\n",
      "\n",
      "EPOCH 8:\tTraining Loss: 0.470\tValidation Loss: 0.589\n",
      "\n",
      "EPOCH 9:\tTraining Loss: 0.436\tValidation Loss: 0.428\n",
      "\n",
      "EPOCH 10:\tTraining Loss: 0.377\tValidation Loss: 0.411\n",
      "\n",
      "EPOCH 11:\tTraining Loss: 0.370\tValidation Loss: 0.425\n",
      "\n",
      "EPOCH 12:\tTraining Loss: 0.361\tValidation Loss: 0.391\n",
      "\n",
      "EPOCH 13:\tTraining Loss: 0.340\tValidation Loss: 0.388\n",
      "\n",
      "EPOCH 14:\tTraining Loss: 0.348\tValidation Loss: 0.345\n",
      "\n",
      "EPOCH 15:\tTraining Loss: 0.298\tValidation Loss: 0.327\n",
      "\n",
      "EPOCH 16:\tTraining Loss: 0.316\tValidation Loss: 0.337\n",
      "\n",
      "EPOCH 17:\tTraining Loss: 0.300\tValidation Loss: 0.383\n",
      "\n",
      "EPOCH 18:\tTraining Loss: 0.297\tValidation Loss: 0.294\n",
      "\n",
      "EPOCH 19:\tTraining Loss: 0.271\tValidation Loss: 0.320\n",
      "\n",
      "EPOCH 20:\tTraining Loss: 0.274\tValidation Loss: 0.283\n",
      "\n",
      "EPOCH 21:\tTraining Loss: 0.263\tValidation Loss: 0.301\n",
      "\n",
      "EPOCH 22:\tTraining Loss: 0.251\tValidation Loss: 0.291\n",
      "\n",
      "EPOCH 23:\tTraining Loss: 0.261\tValidation Loss: 0.271\n",
      "\n",
      "EPOCH 24:\tTraining Loss: 0.249\tValidation Loss: 0.265\n",
      "\n",
      "EPOCH 25:\tTraining Loss: 0.230\tValidation Loss: 0.246\n",
      "\n",
      "EPOCH 26:\tTraining Loss: 0.239\tValidation Loss: 0.243\n",
      "\n",
      "EPOCH 27:\tTraining Loss: 0.240\tValidation Loss: 0.243\n",
      "\n",
      "EPOCH 28:\tTraining Loss: 0.220\tValidation Loss: 0.229\n",
      "\n",
      "EPOCH 29:\tTraining Loss: 0.219\tValidation Loss: 0.231\n",
      "\n",
      "EPOCH 30:\tTraining Loss: 0.206\tValidation Loss: 0.242\n",
      "\n",
      "EPOCH 31:\tTraining Loss: 0.214\tValidation Loss: 0.246\n",
      "\n",
      "EPOCH 32:\tTraining Loss: 0.221\tValidation Loss: 0.245\n",
      "\n",
      "EPOCH 33:\tTraining Loss: 0.206\tValidation Loss: 0.215\n",
      "\n",
      "EPOCH 34:\tTraining Loss: 0.189\tValidation Loss: 0.219\n",
      "\n",
      "EPOCH 35:\tTraining Loss: 0.193\tValidation Loss: 0.228\n",
      "\n",
      "EPOCH 36:\tTraining Loss: 0.193\tValidation Loss: 0.220\n",
      "\n",
      "EPOCH 37:\tTraining Loss: 0.185\tValidation Loss: 0.196\n",
      "\n",
      "EPOCH 38:\tTraining Loss: 0.177\tValidation Loss: 0.205\n",
      "\n",
      "EPOCH 39:\tTraining Loss: 0.175\tValidation Loss: 0.214\n",
      "\n",
      "EPOCH 40:\tTraining Loss: 0.167\tValidation Loss: 0.198\n",
      "\n",
      "EPOCH 41:\tTraining Loss: 0.172\tValidation Loss: 0.198\n",
      "\n",
      "EPOCH 42:\tTraining Loss: 0.162\tValidation Loss: 0.186\n",
      "\n",
      "EPOCH 43:\tTraining Loss: 0.178\tValidation Loss: 0.180\n",
      "\n",
      "EPOCH 44:\tTraining Loss: 0.170\tValidation Loss: 0.179\n",
      "\n",
      "EPOCH 45:\tTraining Loss: 0.166\tValidation Loss: 0.177\n",
      "\n",
      "EPOCH 46:\tTraining Loss: 0.166\tValidation Loss: 0.177\n",
      "\n",
      "EPOCH 47:\tTraining Loss: 0.160\tValidation Loss: 0.174\n",
      "\n",
      "EPOCH 48:\tTraining Loss: 0.156\tValidation Loss: 0.175\n",
      "\n",
      "EPOCH 49:\tTraining Loss: 0.153\tValidation Loss: 0.207\n",
      "\n",
      "EPOCH 50:\tTraining Loss: 0.155\tValidation Loss: 0.177\n",
      "\n",
      "EPOCH 51:\tTraining Loss: 0.156\tValidation Loss: 0.183\n",
      "\n",
      "EPOCH 52:\tTraining Loss: 0.147\tValidation Loss: 0.180\n",
      "\n",
      "EPOCH 53:\tTraining Loss: 0.148\tValidation Loss: 0.179\n",
      "\n",
      "EPOCH 54:\tTraining Loss: 0.144\tValidation Loss: 0.174\n",
      "\n",
      "EPOCH 55:\tTraining Loss: 0.142\tValidation Loss: 0.168\n",
      "\n",
      "EPOCH 56:\tTraining Loss: 0.135\tValidation Loss: 0.174\n",
      "\n",
      "EPOCH 57:\tTraining Loss: 0.156\tValidation Loss: 0.164\n",
      "\n",
      "EPOCH 58:\tTraining Loss: 0.138\tValidation Loss: 0.172\n",
      "\n",
      "EPOCH 59:\tTraining Loss: 0.134\tValidation Loss: 0.177\n",
      "\n",
      "EPOCH 60:\tTraining Loss: 0.137\tValidation Loss: 0.166\n",
      "\n",
      "EPOCH 61:\tTraining Loss: 0.134\tValidation Loss: 0.160\n",
      "\n",
      "EPOCH 62:\tTraining Loss: 0.133\tValidation Loss: 0.155\n",
      "\n",
      "EPOCH 63:\tTraining Loss: 0.136\tValidation Loss: 0.153\n",
      "\n",
      "EPOCH 64:\tTraining Loss: 0.132\tValidation Loss: 0.147\n",
      "\n",
      "EPOCH 65:\tTraining Loss: 0.130\tValidation Loss: 0.163\n",
      "\n",
      "EPOCH 66:\tTraining Loss: 0.126\tValidation Loss: 0.155\n",
      "\n",
      "EPOCH 67:\tTraining Loss: 0.126\tValidation Loss: 0.152\n",
      "\n",
      "EPOCH 68:\tTraining Loss: 0.125\tValidation Loss: 0.154\n",
      "\n",
      "EPOCH 69:\tTraining Loss: 0.126\tValidation Loss: 0.142\n",
      "\n",
      "EPOCH 70:\tTraining Loss: 0.132\tValidation Loss: 0.156\n",
      "\n",
      "EPOCH 71:\tTraining Loss: 0.130\tValidation Loss: 0.140\n",
      "\n",
      "EPOCH 72:\tTraining Loss: 0.126\tValidation Loss: 0.139\n",
      "\n",
      "EPOCH 73:\tTraining Loss: 0.126\tValidation Loss: 0.139\n",
      "\n",
      "EPOCH 74:\tTraining Loss: 0.121\tValidation Loss: 0.171\n",
      "\n",
      "EPOCH 75:\tTraining Loss: 0.126\tValidation Loss: 0.141\n",
      "\n",
      "EPOCH 76:\tTraining Loss: 0.116\tValidation Loss: 0.154\n",
      "\n",
      "EPOCH 77:\tTraining Loss: 0.122\tValidation Loss: 0.158\n",
      "\n",
      "EPOCH 78:\tTraining Loss: 0.116\tValidation Loss: 0.150\n",
      "\n",
      "EPOCH 79:\tTraining Loss: 0.116\tValidation Loss: 0.142\n",
      "\n",
      "EPOCH 80:\tTraining Loss: 0.120\tValidation Loss: 0.144\n",
      "\n",
      "EPOCH 81:\tTraining Loss: 0.113\tValidation Loss: 0.136\n",
      "\n",
      "EPOCH 82:\tTraining Loss: 0.113\tValidation Loss: 0.146\n",
      "\n",
      "EPOCH 83:\tTraining Loss: 0.120\tValidation Loss: 0.138\n",
      "\n",
      "EPOCH 84:\tTraining Loss: 0.127\tValidation Loss: 0.151\n",
      "\n",
      "EPOCH 85:\tTraining Loss: 0.121\tValidation Loss: 0.133\n",
      "\n",
      "EPOCH 86:\tTraining Loss: 0.117\tValidation Loss: 0.139\n",
      "\n",
      "EPOCH 87:\tTraining Loss: 0.104\tValidation Loss: 0.131\n",
      "\n",
      "EPOCH 88:\tTraining Loss: 0.111\tValidation Loss: 0.142\n",
      "\n",
      "EPOCH 89:\tTraining Loss: 0.106\tValidation Loss: 0.143\n",
      "\n",
      "EPOCH 90:\tTraining Loss: 0.106\tValidation Loss: 0.127\n",
      "\n",
      "EPOCH 91:\tTraining Loss: 0.112\tValidation Loss: 0.129\n",
      "\n",
      "EPOCH 92:\tTraining Loss: 0.105\tValidation Loss: 0.129\n",
      "\n",
      "EPOCH 93:\tTraining Loss: 0.102\tValidation Loss: 0.137\n",
      "\n",
      "EPOCH 94:\tTraining Loss: 0.101\tValidation Loss: 0.130\n",
      "\n",
      "EPOCH 95:\tTraining Loss: 0.112\tValidation Loss: 0.118\n",
      "\n",
      "EPOCH 96:\tTraining Loss: 0.112\tValidation Loss: 0.123\n",
      "\n",
      "EPOCH 97:\tTraining Loss: 0.100\tValidation Loss: 0.127\n",
      "\n",
      "EPOCH 98:\tTraining Loss: 0.112\tValidation Loss: 0.125\n",
      "\n",
      "EPOCH 99:\tTraining Loss: 0.106\tValidation Loss: 0.125\n",
      "\n",
      "EPOCH 100:\tTraining Loss: 0.102\tValidation Loss: 0.121\n"
     ]
    }
   ],
   "source": [
    "epochs = 100\n",
    "train_losses = []\n",
    "val_losses = []\n",
    "train_accs = []\n",
    "val_accs = []\n",
    "\n",
    "for epoch in range(epochs):\n",
    "    train_loss = 0.0\n",
    "    train_target = []\n",
    "    train_predict = []\n",
    "    model.train()\n",
    "    for X_samples, y_samples in train_loader:\n",
    "        X_samples = X_samples.to(device)\n",
    "        y_samples = y_samples.to(device)\n",
    "        optimizer.zero_grad()\n",
    "        outputs = model(X_samples)\n",
    "        loss = criterion(outputs, y_samples)\n",
    "        loss.backward()\n",
    "        optimizer.step()\n",
    "        train_loss += loss.item()\n",
    "\n",
    "        train_predict.append(outputs.detach().cpu())\n",
    "        train_target.append(y_samples.cpu())\n",
    "\n",
    "    train_loss /= len(train_loader)\n",
    "    train_losses.append(train_loss)\n",
    "\n",
    "    train_predict = torch.cat(train_predict)\n",
    "    train_target = torch.cat(train_target)\n",
    "    train_acc = compute_accuracy(train_predict, train_target)\n",
    "    train_accs.append(train_acc)\n",
    "\n",
    "    val_loss = 0.0\n",
    "    val_target = []\n",
    "    val_predict = []\n",
    "    model.eval()\n",
    "    with torch.no_grad():\n",
    "        for X_samples, y_samples in val_loader:\n",
    "            X_samples = X_samples.to(device)\n",
    "            y_samples = y_samples.to(device)\n",
    "            outputs = model(X_samples)\n",
    "            val_loss += criterion(outputs, y_samples).item()\n",
    "\n",
    "            val_predict.append(outputs.cpu())\n",
    "            val_target.append(y_samples.cpu())\n",
    "\n",
    "    val_loss /= len(val_loader)\n",
    "    val_losses.append(val_loss)\n",
    "\n",
    "    val_predict = torch.cat(val_predict)\n",
    "    val_target = torch.cat(val_target)\n",
    "    val_acc = compute_accuracy(val_predict, val_target)\n",
    "    val_accs.append(val_acc)\n",
    "\n",
    "    print(f'\\nEPOCH {epoch+1}:\\tTraining Loss: {train_loss:.3f}\\tValidation Loss: {val_loss:.3f}')"
   ]
  },
  {
   "cell_type": "code",
   "execution_count": 16,
   "metadata": {},
   "outputs": [
    {
     "data": {
      "image/png": "[encoded data removed]",
      "text/plain": [
       "<Figure size 1200x1000 with 4 Axes>"
      ]
     },
     "metadata": {},
     "output_type": "display_data"
    }
   ],
   "source": [
    "fig, ax = plt.subplots(2, 2, figsize=(12, 10))\n",
    "ax[0, 0].plot(train_losses, color='green')\n",
    "ax[0, 0].set(xlabel='Epoch', ylabel='Loss')\n",
    "ax[0, 0].set_title('Training Loss')\n",
    "\n",
    "ax[0, 1].plot(val_losses, color='orange')\n",
    "ax[0, 1].set(xlabel='Epoch', ylabel='Loss')\n",
    "ax[0, 1].set_title('Validation Loss')\n",
    "\n",
    "ax[1, 0].plot(train_accs, color='green')\n",
    "ax[1, 0].set(xlabel='Epoch', ylabel='Accuracy')\n",
    "ax[1, 0].set_title('Training Accuracy')\n",
    "\n",
    "ax[1, 1].plot(val_accs, color='orange')\n",
    "ax[1, 1].set(xlabel='Epoch', ylabel='Accuracy')\n",
    "ax[1, 1].set_title('Validation Accuracy')\n",
    "\n",
    "plt.show()"
   ]
  },
  {
   "cell_type": "markdown",
   "metadata": {},
   "source": [
    "#### Đánh giá mô hình"
   ]
  },
  {
   "cell_type": "code",
   "execution_count": 17,
   "metadata": {},
   "outputs": [
    {
     "name": "stdout",
     "output_type": "stream",
     "text": [
      "Evaluation on test set:\n",
      "Accuracy: 0.9333333333333333\n"
     ]
    }
   ],
   "source": [
    "test_target = []\n",
    "test_predict = []\n",
    "model.eval()\n",
    "with torch.no_grad():\n",
    "    for X_samples, y_samples in test_loader:\n",
    "        X_samples = X_samples.to(device)\n",
    "        y_samples = y_samples.to(device)\n",
    "        outputs = model(X_samples)\n",
    "\n",
    "        test_predict.append(outputs.cpu())\n",
    "        test_target.append(y_samples.cpu())\n",
    "\n",
    "test_predict = torch.cat(test_predict)\n",
    "test_target = torch.cat(test_target)\n",
    "test_acc = compute_accuracy(test_predict, test_target)\n",
    "\n",
    "print('Evaluation on test set:')\n",
    "print(f'Accuracy: {test_acc}')"
   ]
  }
 ],
 "metadata": {
  "kernelspec": {
   "display_name": "aio2024-exercise",
   "language": "python",
   "name": "python3"
  },
  "language_info": {
   "codemirror_mode": {
    "name": "ipython",
    "version": 3
   },
   "file_extension": ".py",
   "mimetype": "text/x-python",
   "name": "python",
   "nbconvert_exporter": "python",
   "pygments_lexer": "ipython3",
   "version": "3.11.9"
  }
 },
 "nbformat": 4,
 "nbformat_minor": 2
}
