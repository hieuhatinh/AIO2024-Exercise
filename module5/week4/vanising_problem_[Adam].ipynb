{
 "cells": [
  {
   "cell_type": "code",
   "execution_count": 1,
   "metadata": {
    "executionInfo": {
     "elapsed": 8739,
     "status": "ok",
     "timestamp": 1732348853943,
     "user": {
      "displayName": "Hiếu Nguyễn Trung",
      "userId": "10826423541046348028"
     },
     "user_tz": -420
    },
    "id": "mZYpxsYYBxON"
   },
   "outputs": [],
   "source": [
    "import torch\n",
    "import torch.nn as nn\n",
    "from torch.optim import Adam\n",
    "from torchvision import transforms\n",
    "from torchvision.datasets import FashionMNIST\n",
    "from torch.utils.data import DataLoader"
   ]
  },
  {
   "cell_type": "code",
   "execution_count": 2,
   "metadata": {
    "executionInfo": {
     "elapsed": 7,
     "status": "ok",
     "timestamp": 1732348853943,
     "user": {
      "displayName": "Hiếu Nguyễn Trung",
      "userId": "10826423541046348028"
     },
     "user_tz": -420
    },
    "id": "pkB7rjVZBxOP"
   },
   "outputs": [],
   "source": [
    "batch_size = 512\n",
    "num_epochs = 300\n",
    "lr = 0.01"
   ]
  },
  {
   "cell_type": "code",
   "execution_count": 3,
   "metadata": {
    "executionInfo": {
     "elapsed": 6,
     "status": "ok",
     "timestamp": 1732348853943,
     "user": {
      "displayName": "Hiếu Nguyễn Trung",
      "userId": "10826423541046348028"
     },
     "user_tz": -420
    },
    "id": "bQxHNQ1hBxOP"
   },
   "outputs": [],
   "source": [
    "train_dataset = FashionMNIST(root='./data', train=True,\n",
    "                             download=True, transform=transforms.ToTensor())\n",
    "train_loader = DataLoader(train_dataset, batch_size, shuffle=True)\n",
    "test_dataset = FashionMNIST(root='./data', train=False,\n",
    "                            download=True, transform=transforms.ToTensor())\n",
    "test_loader = DataLoader(test_dataset, batch_size)"
   ]
  },
  {
   "cell_type": "code",
   "execution_count": 4,
   "metadata": {
    "executionInfo": {
     "elapsed": 5,
     "status": "ok",
     "timestamp": 1732348853943,
     "user": {
      "displayName": "Hiếu Nguyễn Trung",
      "userId": "10826423541046348028"
     },
     "user_tz": -420
    },
    "id": "Ml6pq-XQBxOQ"
   },
   "outputs": [],
   "source": [
    "class MLP(nn.Module):\n",
    "    def __init__(self, input_dims, hidden_dims, output_dims):\n",
    "        super(MLP, self).__init__()\n",
    "        self.layer1 = nn.Linear(input_dims, hidden_dims)\n",
    "        self.layer2 = nn.Linear(hidden_dims, hidden_dims)\n",
    "        self.layer3 = nn.Linear(hidden_dims, hidden_dims)\n",
    "        self.layer4 = nn.Linear(hidden_dims, hidden_dims)\n",
    "        self.layer5 = nn.Linear(hidden_dims, hidden_dims)\n",
    "        self.output = nn.Linear(hidden_dims, output_dims)\n",
    "        self.sigmoid = nn.Sigmoid()\n",
    "\n",
    "    def forward(self, x):\n",
    "        x = nn.Flatten()(x)\n",
    "        x = self.layer1(x)\n",
    "        x = self.sigmoid(x)\n",
    "        x = self.layer2(x)\n",
    "        x = self.sigmoid(x)\n",
    "        x = self.layer3(x)\n",
    "        x = self.sigmoid(x)\n",
    "        x = self.layer4(x)\n",
    "        x = self.sigmoid(x)\n",
    "        x = self.layer5(x)\n",
    "        x = self.sigmoid(x)\n",
    "        output = self.output(x)\n",
    "        return output"
   ]
  },
  {
   "cell_type": "code",
   "execution_count": 5,
   "metadata": {
    "executionInfo": {
     "elapsed": 5,
     "status": "ok",
     "timestamp": 1732348853943,
     "user": {
      "displayName": "Hiếu Nguyễn Trung",
      "userId": "10826423541046348028"
     },
     "user_tz": -420
    },
    "id": "hchOksokBxOQ"
   },
   "outputs": [],
   "source": [
    "device = torch.device('cuda' if torch.cuda.is_available() else 'cpu')"
   ]
  },
  {
   "cell_type": "code",
   "execution_count": 6,
   "metadata": {
    "executionInfo": {
     "elapsed": 6,
     "status": "ok",
     "timestamp": 1732348853944,
     "user": {
      "displayName": "Hiếu Nguyễn Trung",
      "userId": "10826423541046348028"
     },
     "user_tz": -420
    },
    "id": "5SUdg2PnBxOQ"
   },
   "outputs": [],
   "source": [
    "model = MLP(input_dims=784,\n",
    "            hidden_dims=128,\n",
    "            output_dims=10).to(device)\n",
    "criterion = nn.CrossEntropyLoss()\n",
    "optimizer = Adam(model.parameters(), lr=lr, betas=(0.9, 0.999), eps=1e-6)"
   ]
  },
  {
   "cell_type": "code",
   "execution_count": 7,
   "metadata": {
    "colab": {
     "base_uri": "https://localhost:8080/"
    },
    "executionInfo": {
     "elapsed": 3937403,
     "status": "ok",
     "timestamp": 1732352791341,
     "user": {
      "displayName": "Hiếu Nguyễn Trung",
      "userId": "10826423541046348028"
     },
     "user_tz": -420
    },
    "id": "YNUAc1z7BxOQ",
    "outputId": "68a7cecb-16c0-439c-a2eb-dc4799a8d8e9"
   },
   "outputs": [
    {
     "name": "stdout",
     "output_type": "stream",
     "text": [
      "Epoch 1\tTraining Loss: 1.734\tValidation Loss: 1.142\n",
      "Epoch 2\tTraining Loss: 0.898\tValidation Loss: 0.649\n",
      "Epoch 3\tTraining Loss: 0.534\tValidation Loss: 0.501\n",
      "Epoch 4\tTraining Loss: 0.445\tValidation Loss: 0.465\n",
      "Epoch 5\tTraining Loss: 0.407\tValidation Loss: 0.457\n",
      "Epoch 6\tTraining Loss: 0.384\tValidation Loss: 0.416\n",
      "Epoch 7\tTraining Loss: 0.367\tValidation Loss: 0.420\n",
      "Epoch 8\tTraining Loss: 0.338\tValidation Loss: 0.418\n",
      "Epoch 9\tTraining Loss: 0.337\tValidation Loss: 0.397\n",
      "Epoch 10\tTraining Loss: 0.320\tValidation Loss: 0.402\n",
      "Epoch 11\tTraining Loss: 0.312\tValidation Loss: 0.414\n",
      "Epoch 12\tTraining Loss: 0.305\tValidation Loss: 0.429\n",
      "Epoch 13\tTraining Loss: 0.294\tValidation Loss: 0.391\n",
      "Epoch 14\tTraining Loss: 0.293\tValidation Loss: 0.413\n",
      "Epoch 15\tTraining Loss: 0.282\tValidation Loss: 0.402\n",
      "Epoch 16\tTraining Loss: 0.281\tValidation Loss: 0.384\n",
      "Epoch 17\tTraining Loss: 0.278\tValidation Loss: 0.372\n",
      "Epoch 18\tTraining Loss: 0.267\tValidation Loss: 0.383\n",
      "Epoch 19\tTraining Loss: 0.269\tValidation Loss: 0.367\n",
      "Epoch 20\tTraining Loss: 0.259\tValidation Loss: 0.404\n",
      "Epoch 21\tTraining Loss: 0.253\tValidation Loss: 0.356\n",
      "Epoch 22\tTraining Loss: 0.255\tValidation Loss: 0.382\n",
      "Epoch 23\tTraining Loss: 0.249\tValidation Loss: 0.381\n",
      "Epoch 24\tTraining Loss: 0.251\tValidation Loss: 0.390\n",
      "Epoch 25\tTraining Loss: 0.245\tValidation Loss: 0.375\n",
      "Epoch 26\tTraining Loss: 0.240\tValidation Loss: 0.375\n",
      "Epoch 27\tTraining Loss: 0.236\tValidation Loss: 0.362\n",
      "Epoch 28\tTraining Loss: 0.230\tValidation Loss: 0.369\n",
      "Epoch 29\tTraining Loss: 0.224\tValidation Loss: 0.369\n",
      "Epoch 30\tTraining Loss: 0.225\tValidation Loss: 0.377\n",
      "Epoch 31\tTraining Loss: 0.224\tValidation Loss: 0.378\n",
      "Epoch 32\tTraining Loss: 0.224\tValidation Loss: 0.371\n",
      "Epoch 33\tTraining Loss: 0.221\tValidation Loss: 0.370\n",
      "Epoch 34\tTraining Loss: 0.220\tValidation Loss: 0.387\n",
      "Epoch 35\tTraining Loss: 0.208\tValidation Loss: 0.375\n",
      "Epoch 36\tTraining Loss: 0.208\tValidation Loss: 0.389\n",
      "Epoch 37\tTraining Loss: 0.208\tValidation Loss: 0.365\n",
      "Epoch 38\tTraining Loss: 0.202\tValidation Loss: 0.409\n",
      "Epoch 39\tTraining Loss: 0.210\tValidation Loss: 0.413\n",
      "Epoch 40\tTraining Loss: 0.213\tValidation Loss: 0.383\n",
      "Epoch 41\tTraining Loss: 0.205\tValidation Loss: 0.421\n",
      "Epoch 42\tTraining Loss: 0.203\tValidation Loss: 0.387\n",
      "Epoch 43\tTraining Loss: 0.194\tValidation Loss: 0.382\n",
      "Epoch 44\tTraining Loss: 0.199\tValidation Loss: 0.380\n",
      "Epoch 45\tTraining Loss: 0.192\tValidation Loss: 0.403\n",
      "Epoch 46\tTraining Loss: 0.192\tValidation Loss: 0.412\n",
      "Epoch 47\tTraining Loss: 0.190\tValidation Loss: 0.402\n",
      "Epoch 48\tTraining Loss: 0.183\tValidation Loss: 0.376\n",
      "Epoch 49\tTraining Loss: 0.180\tValidation Loss: 0.409\n",
      "Epoch 50\tTraining Loss: 0.192\tValidation Loss: 0.399\n",
      "Epoch 51\tTraining Loss: 0.194\tValidation Loss: 0.390\n",
      "Epoch 52\tTraining Loss: 0.181\tValidation Loss: 0.395\n",
      "Epoch 53\tTraining Loss: 0.177\tValidation Loss: 0.413\n",
      "Epoch 54\tTraining Loss: 0.175\tValidation Loss: 0.439\n",
      "Epoch 55\tTraining Loss: 0.179\tValidation Loss: 0.424\n",
      "Epoch 56\tTraining Loss: 0.177\tValidation Loss: 0.418\n",
      "Epoch 57\tTraining Loss: 0.180\tValidation Loss: 0.387\n",
      "Epoch 58\tTraining Loss: 0.179\tValidation Loss: 0.384\n",
      "Epoch 59\tTraining Loss: 0.168\tValidation Loss: 0.452\n",
      "Epoch 60\tTraining Loss: 0.174\tValidation Loss: 0.411\n",
      "Epoch 61\tTraining Loss: 0.167\tValidation Loss: 0.424\n",
      "Epoch 62\tTraining Loss: 0.170\tValidation Loss: 0.419\n",
      "Epoch 63\tTraining Loss: 0.168\tValidation Loss: 0.407\n",
      "Epoch 64\tTraining Loss: 0.165\tValidation Loss: 0.409\n",
      "Epoch 65\tTraining Loss: 0.171\tValidation Loss: 0.399\n",
      "Epoch 66\tTraining Loss: 0.170\tValidation Loss: 0.410\n",
      "Epoch 67\tTraining Loss: 0.167\tValidation Loss: 0.426\n",
      "Epoch 68\tTraining Loss: 0.162\tValidation Loss: 0.420\n",
      "Epoch 69\tTraining Loss: 0.164\tValidation Loss: 0.425\n",
      "Epoch 70\tTraining Loss: 0.162\tValidation Loss: 0.406\n",
      "Epoch 71\tTraining Loss: 0.154\tValidation Loss: 0.419\n",
      "Epoch 72\tTraining Loss: 0.161\tValidation Loss: 0.453\n",
      "Epoch 73\tTraining Loss: 0.165\tValidation Loss: 0.429\n",
      "Epoch 74\tTraining Loss: 0.156\tValidation Loss: 0.434\n",
      "Epoch 75\tTraining Loss: 0.155\tValidation Loss: 0.409\n",
      "Epoch 76\tTraining Loss: 0.163\tValidation Loss: 0.432\n",
      "Epoch 77\tTraining Loss: 0.155\tValidation Loss: 0.398\n",
      "Epoch 78\tTraining Loss: 0.148\tValidation Loss: 0.447\n",
      "Epoch 79\tTraining Loss: 0.155\tValidation Loss: 0.423\n",
      "Epoch 80\tTraining Loss: 0.144\tValidation Loss: 0.433\n",
      "Epoch 81\tTraining Loss: 0.156\tValidation Loss: 0.437\n",
      "Epoch 82\tTraining Loss: 0.160\tValidation Loss: 0.416\n",
      "Epoch 83\tTraining Loss: 0.156\tValidation Loss: 0.438\n",
      "Epoch 84\tTraining Loss: 0.148\tValidation Loss: 0.451\n",
      "Epoch 85\tTraining Loss: 0.159\tValidation Loss: 0.434\n",
      "Epoch 86\tTraining Loss: 0.148\tValidation Loss: 0.437\n",
      "Epoch 87\tTraining Loss: 0.146\tValidation Loss: 0.450\n",
      "Epoch 88\tTraining Loss: 0.149\tValidation Loss: 0.458\n",
      "Epoch 89\tTraining Loss: 0.155\tValidation Loss: 0.456\n",
      "Epoch 90\tTraining Loss: 0.141\tValidation Loss: 0.450\n",
      "Epoch 91\tTraining Loss: 0.151\tValidation Loss: 0.457\n",
      "Epoch 92\tTraining Loss: 0.141\tValidation Loss: 0.454\n",
      "Epoch 93\tTraining Loss: 0.149\tValidation Loss: 0.444\n",
      "Epoch 94\tTraining Loss: 0.142\tValidation Loss: 0.431\n",
      "Epoch 95\tTraining Loss: 0.143\tValidation Loss: 0.465\n",
      "Epoch 96\tTraining Loss: 0.142\tValidation Loss: 0.500\n",
      "Epoch 97\tTraining Loss: 0.145\tValidation Loss: 0.446\n",
      "Epoch 98\tTraining Loss: 0.142\tValidation Loss: 0.432\n",
      "Epoch 99\tTraining Loss: 0.134\tValidation Loss: 0.449\n",
      "Epoch 100\tTraining Loss: 0.135\tValidation Loss: 0.491\n",
      "Epoch 101\tTraining Loss: 0.136\tValidation Loss: 0.464\n",
      "Epoch 102\tTraining Loss: 0.134\tValidation Loss: 0.463\n",
      "Epoch 103\tTraining Loss: 0.132\tValidation Loss: 0.505\n",
      "Epoch 104\tTraining Loss: 0.136\tValidation Loss: 0.482\n",
      "Epoch 105\tTraining Loss: 0.140\tValidation Loss: 0.492\n",
      "Epoch 106\tTraining Loss: 0.129\tValidation Loss: 0.488\n",
      "Epoch 107\tTraining Loss: 0.124\tValidation Loss: 0.480\n",
      "Epoch 108\tTraining Loss: 0.142\tValidation Loss: 0.453\n",
      "Epoch 109\tTraining Loss: 0.129\tValidation Loss: 0.469\n",
      "Epoch 110\tTraining Loss: 0.130\tValidation Loss: 0.480\n",
      "Epoch 111\tTraining Loss: 0.132\tValidation Loss: 0.502\n",
      "Epoch 112\tTraining Loss: 0.128\tValidation Loss: 0.499\n",
      "Epoch 113\tTraining Loss: 0.129\tValidation Loss: 0.475\n",
      "Epoch 114\tTraining Loss: 0.133\tValidation Loss: 0.480\n",
      "Epoch 115\tTraining Loss: 0.145\tValidation Loss: 0.487\n",
      "Epoch 116\tTraining Loss: 0.139\tValidation Loss: 0.456\n",
      "Epoch 117\tTraining Loss: 0.124\tValidation Loss: 0.461\n",
      "Epoch 118\tTraining Loss: 0.123\tValidation Loss: 0.466\n",
      "Epoch 119\tTraining Loss: 0.129\tValidation Loss: 0.466\n",
      "Epoch 120\tTraining Loss: 0.128\tValidation Loss: 0.475\n",
      "Epoch 121\tTraining Loss: 0.122\tValidation Loss: 0.508\n",
      "Epoch 122\tTraining Loss: 0.128\tValidation Loss: 0.486\n",
      "Epoch 123\tTraining Loss: 0.123\tValidation Loss: 0.478\n",
      "Epoch 125\tTraining Loss: 0.124\tValidation Loss: 0.468\n",
      "Epoch 126\tTraining Loss: 0.121\tValidation Loss: 0.507\n",
      "Epoch 127\tTraining Loss: 0.121\tValidation Loss: 0.478\n",
      "Epoch 128\tTraining Loss: 0.129\tValidation Loss: 0.494\n",
      "Epoch 129\tTraining Loss: 0.120\tValidation Loss: 0.490\n",
      "Epoch 130\tTraining Loss: 0.129\tValidation Loss: 0.481\n",
      "Epoch 131\tTraining Loss: 0.121\tValidation Loss: 0.452\n",
      "Epoch 132\tTraining Loss: 0.136\tValidation Loss: 0.469\n",
      "Epoch 133\tTraining Loss: 0.124\tValidation Loss: 0.475\n",
      "Epoch 134\tTraining Loss: 0.119\tValidation Loss: 0.505\n",
      "Epoch 135\tTraining Loss: 0.118\tValidation Loss: 0.501\n",
      "Epoch 136\tTraining Loss: 0.124\tValidation Loss: 0.476\n",
      "Epoch 137\tTraining Loss: 0.121\tValidation Loss: 0.499\n",
      "Epoch 138\tTraining Loss: 0.120\tValidation Loss: 0.522\n",
      "Epoch 139\tTraining Loss: 0.115\tValidation Loss: 0.531\n",
      "Epoch 140\tTraining Loss: 0.118\tValidation Loss: 0.511\n",
      "Epoch 141\tTraining Loss: 0.117\tValidation Loss: 0.503\n",
      "Epoch 142\tTraining Loss: 0.125\tValidation Loss: 0.505\n",
      "Epoch 143\tTraining Loss: 0.117\tValidation Loss: 0.495\n",
      "Epoch 144\tTraining Loss: 0.125\tValidation Loss: 0.479\n",
      "Epoch 145\tTraining Loss: 0.126\tValidation Loss: 0.503\n",
      "Epoch 146\tTraining Loss: 0.118\tValidation Loss: 0.510\n",
      "Epoch 147\tTraining Loss: 0.110\tValidation Loss: 0.513\n",
      "Epoch 148\tTraining Loss: 0.107\tValidation Loss: 0.531\n",
      "Epoch 149\tTraining Loss: 0.120\tValidation Loss: 0.486\n",
      "Epoch 150\tTraining Loss: 0.113\tValidation Loss: 0.523\n",
      "Epoch 151\tTraining Loss: 0.110\tValidation Loss: 0.512\n",
      "Epoch 152\tTraining Loss: 0.122\tValidation Loss: 0.513\n",
      "Epoch 153\tTraining Loss: 0.118\tValidation Loss: 0.497\n",
      "Epoch 154\tTraining Loss: 0.111\tValidation Loss: 0.518\n",
      "Epoch 155\tTraining Loss: 0.107\tValidation Loss: 0.542\n",
      "Epoch 156\tTraining Loss: 0.114\tValidation Loss: 0.530\n",
      "Epoch 157\tTraining Loss: 0.130\tValidation Loss: 0.517\n",
      "Epoch 158\tTraining Loss: 0.120\tValidation Loss: 0.476\n",
      "Epoch 159\tTraining Loss: 0.126\tValidation Loss: 0.501\n",
      "Epoch 160\tTraining Loss: 0.122\tValidation Loss: 0.515\n",
      "Epoch 161\tTraining Loss: 0.112\tValidation Loss: 0.500\n",
      "Epoch 162\tTraining Loss: 0.103\tValidation Loss: 0.540\n",
      "Epoch 163\tTraining Loss: 0.126\tValidation Loss: 0.490\n",
      "Epoch 164\tTraining Loss: 0.120\tValidation Loss: 0.499\n",
      "Epoch 165\tTraining Loss: 0.112\tValidation Loss: 0.541\n",
      "Epoch 166\tTraining Loss: 0.104\tValidation Loss: 0.540\n",
      "Epoch 167\tTraining Loss: 0.106\tValidation Loss: 0.532\n",
      "Epoch 168\tTraining Loss: 0.135\tValidation Loss: 0.524\n",
      "Epoch 169\tTraining Loss: 0.120\tValidation Loss: 0.494\n",
      "Epoch 170\tTraining Loss: 0.111\tValidation Loss: 0.527\n",
      "Epoch 171\tTraining Loss: 0.107\tValidation Loss: 0.515\n",
      "Epoch 172\tTraining Loss: 0.112\tValidation Loss: 0.473\n",
      "Epoch 173\tTraining Loss: 0.116\tValidation Loss: 0.506\n",
      "Epoch 174\tTraining Loss: 0.117\tValidation Loss: 0.506\n",
      "Epoch 175\tTraining Loss: 0.116\tValidation Loss: 0.518\n",
      "Epoch 176\tTraining Loss: 0.117\tValidation Loss: 0.496\n",
      "Epoch 177\tTraining Loss: 0.118\tValidation Loss: 0.519\n",
      "Epoch 178\tTraining Loss: 0.108\tValidation Loss: 0.500\n",
      "Epoch 179\tTraining Loss: 0.110\tValidation Loss: 0.509\n",
      "Epoch 180\tTraining Loss: 0.111\tValidation Loss: 0.510\n",
      "Epoch 181\tTraining Loss: 0.102\tValidation Loss: 0.529\n",
      "Epoch 182\tTraining Loss: 0.102\tValidation Loss: 0.558\n",
      "Epoch 183\tTraining Loss: 0.096\tValidation Loss: 0.554\n",
      "Epoch 184\tTraining Loss: 0.108\tValidation Loss: 0.551\n",
      "Epoch 185\tTraining Loss: 0.114\tValidation Loss: 0.524\n",
      "Epoch 186\tTraining Loss: 0.111\tValidation Loss: 0.529\n",
      "Epoch 187\tTraining Loss: 0.106\tValidation Loss: 0.532\n",
      "Epoch 188\tTraining Loss: 0.103\tValidation Loss: 0.554\n",
      "Epoch 189\tTraining Loss: 0.103\tValidation Loss: 0.545\n",
      "Epoch 190\tTraining Loss: 0.103\tValidation Loss: 0.540\n",
      "Epoch 191\tTraining Loss: 0.099\tValidation Loss: 0.537\n",
      "Epoch 192\tTraining Loss: 0.099\tValidation Loss: 0.555\n",
      "Epoch 193\tTraining Loss: 0.108\tValidation Loss: 0.522\n",
      "Epoch 194\tTraining Loss: 0.100\tValidation Loss: 0.538\n",
      "Epoch 195\tTraining Loss: 0.104\tValidation Loss: 0.534\n",
      "Epoch 196\tTraining Loss: 0.107\tValidation Loss: 0.544\n",
      "Epoch 197\tTraining Loss: 0.110\tValidation Loss: 0.512\n",
      "Epoch 198\tTraining Loss: 0.102\tValidation Loss: 0.562\n",
      "Epoch 199\tTraining Loss: 0.095\tValidation Loss: 0.598\n",
      "Epoch 200\tTraining Loss: 0.112\tValidation Loss: 0.526\n",
      "Epoch 201\tTraining Loss: 0.113\tValidation Loss: 0.545\n",
      "Epoch 202\tTraining Loss: 0.102\tValidation Loss: 0.555\n",
      "Epoch 203\tTraining Loss: 0.103\tValidation Loss: 0.521\n",
      "Epoch 204\tTraining Loss: 0.099\tValidation Loss: 0.577\n",
      "Epoch 205\tTraining Loss: 0.108\tValidation Loss: 0.539\n",
      "Epoch 206\tTraining Loss: 0.099\tValidation Loss: 0.573\n",
      "Epoch 207\tTraining Loss: 0.098\tValidation Loss: 0.544\n",
      "Epoch 208\tTraining Loss: 0.096\tValidation Loss: 0.564\n",
      "Epoch 209\tTraining Loss: 0.103\tValidation Loss: 0.518\n",
      "Epoch 210\tTraining Loss: 0.106\tValidation Loss: 0.549\n",
      "Epoch 211\tTraining Loss: 0.095\tValidation Loss: 0.559\n",
      "Epoch 212\tTraining Loss: 0.117\tValidation Loss: 0.529\n",
      "Epoch 213\tTraining Loss: 0.097\tValidation Loss: 0.561\n",
      "Epoch 214\tTraining Loss: 0.098\tValidation Loss: 0.561\n",
      "Epoch 215\tTraining Loss: 0.102\tValidation Loss: 0.554\n",
      "Epoch 216\tTraining Loss: 0.089\tValidation Loss: 0.616\n",
      "Epoch 217\tTraining Loss: 0.094\tValidation Loss: 0.560\n",
      "Epoch 218\tTraining Loss: 0.103\tValidation Loss: 0.557\n",
      "Epoch 219\tTraining Loss: 0.100\tValidation Loss: 0.593\n",
      "Epoch 220\tTraining Loss: 0.096\tValidation Loss: 0.560\n",
      "Epoch 221\tTraining Loss: 0.096\tValidation Loss: 0.573\n",
      "Epoch 222\tTraining Loss: 0.097\tValidation Loss: 0.561\n",
      "Epoch 223\tTraining Loss: 0.100\tValidation Loss: 0.579\n",
      "Epoch 224\tTraining Loss: 0.103\tValidation Loss: 0.583\n",
      "Epoch 225\tTraining Loss: 0.107\tValidation Loss: 0.560\n",
      "Epoch 226\tTraining Loss: 0.104\tValidation Loss: 0.544\n",
      "Epoch 227\tTraining Loss: 0.103\tValidation Loss: 0.552\n",
      "Epoch 228\tTraining Loss: 0.098\tValidation Loss: 0.556\n",
      "Epoch 229\tTraining Loss: 0.105\tValidation Loss: 0.511\n",
      "Epoch 230\tTraining Loss: 0.098\tValidation Loss: 0.538\n",
      "Epoch 231\tTraining Loss: 0.096\tValidation Loss: 0.532\n",
      "Epoch 232\tTraining Loss: 0.101\tValidation Loss: 0.546\n",
      "Epoch 233\tTraining Loss: 0.092\tValidation Loss: 0.588\n",
      "Epoch 234\tTraining Loss: 0.114\tValidation Loss: 0.557\n",
      "Epoch 235\tTraining Loss: 0.106\tValidation Loss: 0.567\n",
      "Epoch 236\tTraining Loss: 0.085\tValidation Loss: 0.578\n",
      "Epoch 237\tTraining Loss: 0.096\tValidation Loss: 0.580\n",
      "Epoch 238\tTraining Loss: 0.109\tValidation Loss: 0.544\n",
      "Epoch 239\tTraining Loss: 0.109\tValidation Loss: 0.533\n",
      "Epoch 240\tTraining Loss: 0.115\tValidation Loss: 0.568\n",
      "Epoch 241\tTraining Loss: 0.088\tValidation Loss: 0.593\n",
      "Epoch 242\tTraining Loss: 0.114\tValidation Loss: 0.531\n",
      "Epoch 243\tTraining Loss: 0.113\tValidation Loss: 0.549\n",
      "Epoch 244\tTraining Loss: 0.097\tValidation Loss: 0.566\n",
      "Epoch 245\tTraining Loss: 0.105\tValidation Loss: 0.547\n",
      "Epoch 246\tTraining Loss: 0.098\tValidation Loss: 0.542\n",
      "Epoch 247\tTraining Loss: 0.092\tValidation Loss: 0.574\n",
      "Epoch 248\tTraining Loss: 0.089\tValidation Loss: 0.581\n",
      "Epoch 249\tTraining Loss: 0.098\tValidation Loss: 0.547\n",
      "Epoch 250\tTraining Loss: 0.090\tValidation Loss: 0.619\n",
      "Epoch 251\tTraining Loss: 0.097\tValidation Loss: 0.539\n",
      "Epoch 252\tTraining Loss: 0.099\tValidation Loss: 0.616\n",
      "Epoch 253\tTraining Loss: 0.096\tValidation Loss: 0.613\n",
      "Epoch 254\tTraining Loss: 0.091\tValidation Loss: 0.580\n",
      "Epoch 255\tTraining Loss: 0.113\tValidation Loss: 0.534\n",
      "Epoch 256\tTraining Loss: 0.103\tValidation Loss: 0.566\n",
      "Epoch 257\tTraining Loss: 0.100\tValidation Loss: 0.560\n",
      "Epoch 258\tTraining Loss: 0.105\tValidation Loss: 0.541\n",
      "Epoch 259\tTraining Loss: 0.093\tValidation Loss: 0.551\n",
      "Epoch 260\tTraining Loss: 0.101\tValidation Loss: 0.576\n",
      "Epoch 261\tTraining Loss: 0.089\tValidation Loss: 0.575\n",
      "Epoch 262\tTraining Loss: 0.103\tValidation Loss: 0.557\n",
      "Epoch 263\tTraining Loss: 0.095\tValidation Loss: 0.556\n",
      "Epoch 264\tTraining Loss: 0.088\tValidation Loss: 0.554\n",
      "Epoch 265\tTraining Loss: 0.094\tValidation Loss: 0.590\n",
      "Epoch 266\tTraining Loss: 0.096\tValidation Loss: 0.566\n",
      "Epoch 267\tTraining Loss: 0.091\tValidation Loss: 0.577\n",
      "Epoch 268\tTraining Loss: 0.092\tValidation Loss: 0.589\n",
      "Epoch 269\tTraining Loss: 0.090\tValidation Loss: 0.604\n",
      "Epoch 270\tTraining Loss: 0.103\tValidation Loss: 0.544\n",
      "Epoch 271\tTraining Loss: 0.095\tValidation Loss: 0.571\n",
      "Epoch 272\tTraining Loss: 0.087\tValidation Loss: 0.586\n",
      "Epoch 273\tTraining Loss: 0.108\tValidation Loss: 0.532\n",
      "Epoch 274\tTraining Loss: 0.096\tValidation Loss: 0.551\n",
      "Epoch 275\tTraining Loss: 0.099\tValidation Loss: 0.541\n",
      "Epoch 276\tTraining Loss: 0.111\tValidation Loss: 0.546\n",
      "Epoch 277\tTraining Loss: 0.093\tValidation Loss: 0.574\n",
      "Epoch 278\tTraining Loss: 0.091\tValidation Loss: 0.605\n",
      "Epoch 279\tTraining Loss: 0.098\tValidation Loss: 0.535\n",
      "Epoch 280\tTraining Loss: 0.100\tValidation Loss: 0.569\n",
      "Epoch 281\tTraining Loss: 0.089\tValidation Loss: 0.553\n",
      "Epoch 282\tTraining Loss: 0.095\tValidation Loss: 0.572\n",
      "Epoch 283\tTraining Loss: 0.079\tValidation Loss: 0.605\n",
      "Epoch 284\tTraining Loss: 0.094\tValidation Loss: 0.547\n",
      "Epoch 285\tTraining Loss: 0.093\tValidation Loss: 0.552\n",
      "Epoch 286\tTraining Loss: 0.085\tValidation Loss: 0.558\n",
      "Epoch 287\tTraining Loss: 0.080\tValidation Loss: 0.597\n",
      "Epoch 288\tTraining Loss: 0.085\tValidation Loss: 0.600\n",
      "Epoch 289\tTraining Loss: 0.098\tValidation Loss: 0.562\n",
      "Epoch 290\tTraining Loss: 0.095\tValidation Loss: 0.561\n",
      "Epoch 291\tTraining Loss: 0.097\tValidation Loss: 0.561\n",
      "Epoch 292\tTraining Loss: 0.099\tValidation Loss: 0.570\n",
      "Epoch 293\tTraining Loss: 0.104\tValidation Loss: 0.580\n",
      "Epoch 294\tTraining Loss: 0.090\tValidation Loss: 0.559\n",
      "Epoch 295\tTraining Loss: 0.089\tValidation Loss: 0.545\n",
      "Epoch 296\tTraining Loss: 0.101\tValidation Loss: 0.553\n",
      "Epoch 297\tTraining Loss: 0.096\tValidation Loss: 0.564\n",
      "Epoch 298\tTraining Loss: 0.075\tValidation Loss: 0.619\n",
      "Epoch 299\tTraining Loss: 0.102\tValidation Loss: 0.549\n",
      "Epoch 300\tTraining Loss: 0.092\tValidation Loss: 0.596\n"
     ]
    }
   ],
   "source": [
    "train_losses = []\n",
    "train_acc = []\n",
    "val_losses = []\n",
    "val_acc = []\n",
    "\n",
    "for epoch in range(num_epochs):\n",
    "    model.train()\n",
    "    t_loss = 0\n",
    "    t_acc = 0\n",
    "    cnt = 0\n",
    "    for X, y in train_loader:\n",
    "        X, y = X.to(device), y.to(device)\n",
    "        optimizer.zero_grad()\n",
    "        outputs = model(X)\n",
    "        loss = criterion(outputs, y)\n",
    "        loss.backward()\n",
    "        optimizer.step()\n",
    "        t_loss += loss.item()\n",
    "        t_acc += (torch.argmax(outputs, 1) == y).sum().item()\n",
    "        cnt += len(y)\n",
    "    t_loss /= len(train_loader)\n",
    "    train_losses.append(t_loss)\n",
    "    t_acc /= cnt\n",
    "    train_acc.append(t_acc)\n",
    "\n",
    "    model.eval()\n",
    "    v_loss = 0\n",
    "    v_acc = 0\n",
    "    cnt = 0\n",
    "    with torch.no_grad():\n",
    "        for X, y in test_loader:\n",
    "            X, y = X.to(device), y.to(device)\n",
    "            outputs = model(X)\n",
    "            loss = criterion(outputs, y)\n",
    "            v_loss += loss.item()\n",
    "            v_acc += (torch.argmax(outputs, 1) == y).sum().item()\n",
    "            cnt += len(y)\n",
    "        v_loss /= len(test_loader)\n",
    "        val_losses.append(v_loss)\n",
    "        v_acc /= cnt\n",
    "        val_acc.append(v_acc)\n",
    "    print(f'Epoch {epoch+1}\\tTraining Loss: {t_loss:.3f}\\tValidation Loss: {v_loss:.3f}')"
   ]
  },
  {
   "cell_type": "code",
   "execution_count": 9,
   "metadata": {
    "colab": {
     "base_uri": "https://localhost:8080/",
     "height": 890
    },
    "executionInfo": {
     "elapsed": 1431,
     "status": "ok",
     "timestamp": 1732353201307,
     "user": {
      "displayName": "Hiếu Nguyễn Trung",
      "userId": "10826423541046348028"
     },
     "user_tz": -420
    },
    "id": "SpI6hfIFBxOR",
    "outputId": "c339a270-c17e-4aac-a284-69737031f1ea"
   },
   "outputs": [
    {
     "data": {
      "text/plain": [
       "Text(0, 0.5, 'Accuracy')"
      ]
     },
     "execution_count": 9,
     "metadata": {},
     "output_type": "execute_result"
    },
    {
     "data": {
      "image/png": "[encoded data removed]",
      "text/plain": [
       "<Figure size 1200x1000 with 4 Axes>"
      ]
     },
     "metadata": {},
     "output_type": "display_data"
    }
   ],
   "source": [
    "import matplotlib.pyplot as plt\n",
    "fig, ax = plt.subplots(2, 2, figsize=(12, 10))\n",
    "\n",
    "ax[0, 0].plot(train_losses)\n",
    "ax[0, 0].set_title('Train Loss')\n",
    "ax[0, 0].set_xlabel('Epoch')\n",
    "ax[0, 0].set_ylabel('Loss')\n",
    "\n",
    "ax[0, 1].plot(val_losses)\n",
    "ax[0, 1].set_title('Validation Loss')\n",
    "ax[0, 1].set_xlabel('Epoch')\n",
    "ax[0, 1].set_ylabel('Loss')\n",
    "\n",
    "ax[1, 0].plot(train_acc, color='orange')\n",
    "ax[1, 0].set_title('Train Accuracy')\n",
    "ax[1, 0].set_xlabel('Epoch')\n",
    "ax[1, 0].set_ylabel('Accuracy')\n",
    "\n",
    "ax[1, 1].plot(val_acc, color='orange')\n",
    "ax[1, 1].set_title('Validation Accuracy')\n",
    "ax[1, 1].set_xlabel('Epoch')\n",
    "ax[1, 1].set_ylabel('Accuracy')"
   ]
  },
  {
   "cell_type": "code",
   "execution_count": 12,
   "metadata": {
    "colab": {
     "base_uri": "https://localhost:8080/"
    },
    "executionInfo": {
     "elapsed": 2276,
     "status": "ok",
     "timestamp": 1732353292157,
     "user": {
      "displayName": "Hiếu Nguyễn Trung",
      "userId": "10826423541046348028"
     },
     "user_tz": -420
    },
    "id": "htvVpbPqBxOR",
    "outputId": "42cb51c8-73d6-4d11-a572-e171014dff1f"
   },
   "outputs": [
    {
     "data": {
      "text/plain": [
       "0.8732"
      ]
     },
     "execution_count": 12,
     "metadata": {},
     "output_type": "execute_result"
    }
   ],
   "source": [
    "test_target = []\n",
    "test_predict = []\n",
    "with torch.no_grad():\n",
    "    for X, y in test_loader:\n",
    "        X, y = X.to(device), y.to(device)\n",
    "        outputs = model(X)\n",
    "        test_target.append(y.cpu())\n",
    "        test_predict.append(outputs.cpu())\n",
    "\n",
    "test_predict = torch.cat(test_predict)\n",
    "test_target = torch.cat(test_target)\n",
    "acc = (torch.argmax(test_predict, 1) == test_target).sum().item() / len(test_target)\n",
    "acc"
   ]
  }
 ],
 "metadata": {
  "colab": {
   "provenance": []
  },
  "kernelspec": {
   "display_name": "aio2024-exercise",
   "language": "python",
   "name": "python3"
  },
  "language_info": {
   "codemirror_mode": {
    "name": "ipython",
    "version": 3
   },
   "file_extension": ".py",
   "mimetype": "text/x-python",
   "name": "python",
   "nbconvert_exporter": "python",
   "pygments_lexer": "ipython3",
   "version": "3.11.9"
  }
 },
 "nbformat": 4,
 "nbformat_minor": 0
}
