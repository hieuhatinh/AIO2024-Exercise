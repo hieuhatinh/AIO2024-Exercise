{
 "cells": [
  {
   "cell_type": "code",
   "execution_count": 31,
   "metadata": {},
   "outputs": [
    {
     "name": "stdout",
     "output_type": "stream",
     "text": [
      "[5, 5, 5, 5, 10, 12, 33, 33]\n"
     ]
    }
   ],
   "source": [
    "# cau 1\n",
    "def max_kernel(num_list, k):\n",
    "    n = len(num_list)\n",
    "    max_number_list = []\n",
    "    for i in range(n-k+1):\n",
    "        curent_list = num_list[i:i+k]\n",
    "        max_number = max(curent_list)\n",
    "        max_number_list.append(max_number)\n",
    "\n",
    "    return max_number_list\n",
    "\n",
    "\n",
    "assert max_kernel([3, 4, 5, 1, -44], 3) == [5, 5, 5]\n",
    "num_list = [3, 4, 5, 1, -44, 5, 10, 12, 33, 1]\n",
    "k = 3\n",
    "print(max_kernel(num_list, k))"
   ]
  },
  {
   "cell_type": "code",
   "execution_count": 8,
   "metadata": {},
   "outputs": [
    {
     "name": "stdout",
     "output_type": "stream",
     "text": [
      "{'s': 2, 'm': 1, 'i': 1, 'l': 1, 'e': 1}\n"
     ]
    }
   ],
   "source": [
    "# cau 2\n",
    "def character_count(word):\n",
    "    character_statistic = {}\n",
    "\n",
    "    for char in word:\n",
    "        if char in character_statistic.keys():\n",
    "            character_statistic[char] += 1\n",
    "        else:\n",
    "            character_statistic[char] = 1\n",
    "    return character_statistic\n",
    "\n",
    "\n",
    "assert character_count(\"Baby\") == {'B': 1, 'a': 1, 'b': 1, 'y': 1}\n",
    "print(character_count('smiles'))"
   ]
  },
  {
   "cell_type": "code",
   "execution_count": 32,
   "metadata": {},
   "outputs": [
    {
     "name": "stdout",
     "output_type": "stream",
     "text": [
      "6\n"
     ]
    }
   ],
   "source": [
    "# cau 3\n",
    "def count_words(file_path):\n",
    "    counter = {}\n",
    "    with open(file_path, 'r') as content:\n",
    "        words = content.read().split()\n",
    "\n",
    "    for word in words:\n",
    "        word = word.lower()\n",
    "        if word in counter:\n",
    "            counter[word] += 1\n",
    "        else:\n",
    "            counter[word] = 1\n",
    "    return counter\n",
    "\n",
    "\n",
    "file_path = 'P1_data.txt'\n",
    "result = count_words(file_path)\n",
    "assert result['who'] == 3\n",
    "print(result['man'])"
   ]
  },
  {
   "cell_type": "code",
   "execution_count": 4,
   "metadata": {},
   "outputs": [
    {
     "name": "stdout",
     "output_type": "stream",
     "text": [
      "1\n"
     ]
    }
   ],
   "source": [
    "# cau 4\n",
    "def levenshtein_distance(source_word, target_word):\n",
    "    rows = len(source_word) + 1\n",
    "    columns = len(target_word) + 1\n",
    "\n",
    "    # initial matrix and complete the first row and column\n",
    "    distance_matrix = [[0]*columns for _ in range(rows)]\n",
    "    for i in range(rows):\n",
    "        distance_matrix[i][0] = i\n",
    "    for j in range(columns):\n",
    "        distance_matrix[0][j] = j\n",
    "\n",
    "    # compute remaining cells in matrix\n",
    "    delete_cost = 1\n",
    "    insert_cost = 1\n",
    "    sub_cost = 1\n",
    "    for i in range(1, rows):\n",
    "        for j in range(1, columns):\n",
    "            if (source_word[i-1] == target_word[j-1]):\n",
    "                sub_cost = 0\n",
    "            else:\n",
    "                sub_cost = 1\n",
    "            distance_matrix[i][j] = min(\n",
    "                distance_matrix[i-1][j] + delete_cost,\n",
    "                distance_matrix[i][j-1] + insert_cost,\n",
    "                distance_matrix[i-1][j-1] + sub_cost)\n",
    "    return distance_matrix[rows-1][columns-1]\n",
    "\n",
    "\n",
    "print(levenshtein_distance(source_word='yu', target_word='you'))"
   ]
  },
  {
   "cell_type": "code",
   "execution_count": 11,
   "metadata": {},
   "outputs": [
    {
     "name": "stdout",
     "output_type": "stream",
     "text": [
      "True\n"
     ]
    }
   ],
   "source": [
    "# cau 5\n",
    "def check_the_number(number):\n",
    "    list_of_numbers = []\n",
    "    results = ''\n",
    "    for i in range(1, 5):\n",
    "        list_of_numbers.append(i)\n",
    "    if number in list_of_numbers:\n",
    "        results = 'True'\n",
    "    if number not in list_of_numbers:\n",
    "        results = 'False'\n",
    "    return results\n",
    "\n",
    "\n",
    "number = 7\n",
    "assert check_the_number(number) == 'False'\n",
    "number = 2\n",
    "results = check_the_number(number)\n",
    "print(results)"
   ]
  },
  {
   "cell_type": "code",
   "execution_count": 12,
   "metadata": {},
   "outputs": [
    {
     "name": "stdout",
     "output_type": "stream",
     "text": [
      "[2, 2, 2, 1, 1]\n"
     ]
    }
   ],
   "source": [
    "# cau 6\n",
    "def my_function(data, max, min):\n",
    "    result = []\n",
    "    for i in data:\n",
    "        if i < min:\n",
    "            result.append(min)\n",
    "        elif i > max:\n",
    "            result.append(max)\n",
    "        else:\n",
    "            result.append(i)\n",
    "    return result\n",
    "\n",
    "\n",
    "my_list = [5, 2, 5, 0, 1]\n",
    "max = 1\n",
    "min = 0\n",
    "assert my_function(max=max, min=min, data=my_list) == [1, 1, 1, 0, 1]\n",
    "my_list = [10, 2, 5, 0, 1]\n",
    "max = 2\n",
    "min = 1\n",
    "print(my_function(max=max, min=min, data=my_list))"
   ]
  },
  {
   "cell_type": "code",
   "execution_count": 18,
   "metadata": {},
   "outputs": [
    {
     "name": "stdout",
     "output_type": "stream",
     "text": [
      "[1, 2, 3, 4, 0, 0]\n"
     ]
    }
   ],
   "source": [
    "# cau 7\n",
    "def my_function(x, y):\n",
    "    x.extend(y)\n",
    "    return x\n",
    "\n",
    "\n",
    "list_num1 = ['a', 2, 5]\n",
    "list_num2 = [1, 1]\n",
    "list_num3 = [0, 0]\n",
    "\n",
    "assert my_function(list_num1, my_function(list_num2, list_num3)) == ['a', 2, 5, 1, 1,\n",
    "                                                                     0, 0]\n",
    "\n",
    "list_num1 = [1, 2]\n",
    "list_num2 = [3, 4]\n",
    "list_num3 = [0, 0]\n",
    "\n",
    "print(my_function(list_num1, my_function(list_num2, list_num3)))"
   ]
  },
  {
   "cell_type": "code",
   "execution_count": 20,
   "metadata": {},
   "outputs": [
    {
     "name": "stdout",
     "output_type": "stream",
     "text": [
      "-1\n"
     ]
    }
   ],
   "source": [
    "# cau 8\n",
    "def my_function(n):\n",
    "    min_value = n[0]\n",
    "    for v in n:\n",
    "        if v < min_value:\n",
    "            min_value = v\n",
    "    return min_value\n",
    "\n",
    "\n",
    "my_list = [1, 22, 93, -100]\n",
    "assert my_function(my_list) == -100\n",
    "\n",
    "my_list = [1, 2, 3, -1]\n",
    "print(my_function(my_list))"
   ]
  },
  {
   "cell_type": "code",
   "execution_count": 21,
   "metadata": {},
   "outputs": [
    {
     "name": "stdout",
     "output_type": "stream",
     "text": [
      "9\n"
     ]
    }
   ],
   "source": [
    "# cau 9\n",
    "def my_function(n):\n",
    "    max_value = n[0]\n",
    "    for v in n:\n",
    "        if v > max_value:\n",
    "            max_value = v\n",
    "    return max_value\n",
    "\n",
    "\n",
    "my_list = [1001, 9, 100, 0]\n",
    "assert my_function(my_list) == 1001\n",
    "\n",
    "my_list = [1, 9, 9, 0]\n",
    "print(my_function(my_list))"
   ]
  },
  {
   "cell_type": "code",
   "execution_count": 22,
   "metadata": {},
   "outputs": [
    {
     "name": "stdout",
     "output_type": "stream",
     "text": [
      "True\n"
     ]
    }
   ],
   "source": [
    "# cau 10\n",
    "def my_function(integers, number=1):\n",
    "    return any(v == number for v in integers)\n",
    "\n",
    "\n",
    "my_list = [1, 3, 9, 4]\n",
    "assert my_function(my_list, -1) == False\n",
    "\n",
    "my_list = [1, 2, 3, 4]\n",
    "print(my_function(my_list, 2))"
   ]
  },
  {
   "cell_type": "code",
   "execution_count": 24,
   "metadata": {},
   "outputs": [
    {
     "name": "stdout",
     "output_type": "stream",
     "text": [
      "1.0\n"
     ]
    }
   ],
   "source": [
    "# cau 11\n",
    "def my_function(list_nums=[0, 1, 2]):\n",
    "    var = 0\n",
    "    for i in list_nums:\n",
    "        var += i\n",
    "    return var/len(list_nums)\n",
    "\n",
    "\n",
    "assert my_function([4, 6, 8]) == 6\n",
    "print(my_function())"
   ]
  },
  {
   "cell_type": "code",
   "execution_count": 25,
   "metadata": {},
   "outputs": [
    {
     "name": "stdout",
     "output_type": "stream",
     "text": [
      "[3, 6]\n"
     ]
    }
   ],
   "source": [
    "# cau 12\n",
    "def my_function(data):\n",
    "    var = []\n",
    "    for i in data:\n",
    "        if i % 3 == 0:\n",
    "            var.append(i)\n",
    "    return var\n",
    "\n",
    "\n",
    "assert my_function([3, 9, 4, 5]) == [3, 9]\n",
    "print(my_function([1, 2, 3, 5, 6]))"
   ]
  },
  {
   "cell_type": "code",
   "execution_count": 26,
   "metadata": {},
   "outputs": [
    {
     "name": "stdout",
     "output_type": "stream",
     "text": [
      "24\n"
     ]
    }
   ],
   "source": [
    "# cau 13\n",
    "def my_function(y):\n",
    "    var = 1\n",
    "    while (y > 1):\n",
    "        var *= y\n",
    "        y = y-1\n",
    "    return var\n",
    "\n",
    "\n",
    "assert my_function(8) == 40320\n",
    "print(my_function(4))"
   ]
  },
  {
   "cell_type": "code",
   "execution_count": 27,
   "metadata": {},
   "outputs": [
    {
     "name": "stdout",
     "output_type": "stream",
     "text": [
      "tocirpa\n"
     ]
    }
   ],
   "source": [
    "# cau 14\n",
    "def my_function(x):\n",
    "    length_x = len(x)\n",
    "    result_reverse = ''\n",
    "    for i in range(length_x):\n",
    "        result_reverse += x[length_x - 1 - i]\n",
    "    return result_reverse\n",
    "\n",
    "\n",
    "x = 'I can do it'\n",
    "assert my_function(x) == \"ti od nac I\"\n",
    "\n",
    "x = 'apricot'\n",
    "print(my_function(x))"
   ]
  },
  {
   "cell_type": "code",
   "execution_count": 28,
   "metadata": {},
   "outputs": [
    {
     "name": "stdout",
     "output_type": "stream",
     "text": [
      "['T', 'T', 'T', 'N']\n"
     ]
    }
   ],
   "source": [
    "# cau 15\n",
    "def function_helper(x):\n",
    "    if x > 0:\n",
    "        return 'T'\n",
    "    return 'N'\n",
    "\n",
    "\n",
    "def my_function(data):\n",
    "    res = [function_helper(x) for x in data]\n",
    "    return res\n",
    "\n",
    "\n",
    "data = [10, 0, -10, -1]\n",
    "assert my_function(data) == ['T', 'N', 'N', 'N']\n",
    "\n",
    "data = [2, 3, 5, -1]\n",
    "print(my_function(data))"
   ]
  },
  {
   "cell_type": "code",
   "execution_count": 30,
   "metadata": {},
   "outputs": [
    {
     "name": "stdout",
     "output_type": "stream",
     "text": [
      "[9, 8, 1]\n"
     ]
    }
   ],
   "source": [
    "# Cau 16\n",
    "def function_helper(x, data):\n",
    "    if x in data:\n",
    "        return 0\n",
    "    return 1\n",
    "\n",
    "\n",
    "def my_function(data):\n",
    "    res = []\n",
    "    for i in data:\n",
    "        if function_helper(i, res):\n",
    "            res.append(i)\n",
    "\n",
    "    return res\n",
    "\n",
    "\n",
    "lst = [10, 10, 9, 7, 7]\n",
    "assert my_function(lst) == [10, 9, 7]\n",
    "\n",
    "lst = [9, 9, 8, 1, 1]\n",
    "print(my_function(lst))"
   ]
  },
  {
   "cell_type": "code",
   "execution_count": 22,
   "metadata": {},
   "outputs": [
    {
     "name": "stdout",
     "output_type": "stream",
     "text": [
      "3\n"
     ]
    }
   ],
   "source": [
    "# get path in levenshtein distance - C1\n",
    "from collections import OrderedDict\n",
    "\n",
    "\n",
    "def levenshtein_distance(source_word, target_word):\n",
    "    rows = len(source_word) + 1\n",
    "    columns = len(target_word) + 1\n",
    "\n",
    "    # initial matrix and complete the first row and column\n",
    "    distance_matrix = [[0]*columns for _ in range(rows)]\n",
    "    for i in range(rows):\n",
    "        distance_matrix[i][0] = i\n",
    "    for j in range(columns):\n",
    "        distance_matrix[0][j] = j\n",
    "\n",
    "    # compute remaining cells in matrix\n",
    "    path = []\n",
    "    delete_cost = 1\n",
    "    insert_cost = 1\n",
    "    sub_cost = 1\n",
    "    for i in range(1, rows):\n",
    "        for j in range(1, columns):\n",
    "            if (source_word[i-1] == target_word[j-1]):\n",
    "                sub_cost = 0\n",
    "            else:\n",
    "                sub_cost = 1\n",
    "            delete = distance_matrix[i-1][j] + delete_cost\n",
    "            insert = distance_matrix[i][j-1] + insert_cost\n",
    "            sub = distance_matrix[i-1][j-1] + sub_cost\n",
    "            distance_matrix[i][j] = min(\n",
    "                delete,\n",
    "                insert,\n",
    "                sub)\n",
    "\n",
    "            # get path\n",
    "            if distance_matrix[i][j] == delete:\n",
    "                path.append((i-1, j))\n",
    "            elif distance_matrix[i][j] == insert:\n",
    "                path.append((i, j-1))\n",
    "            elif distance_matrix[i][j] == sub:\n",
    "                path.append((i-1, j-1))\n",
    "    print(list(OrderedDict.fromkeys(path)))\n",
    "    return distance_matrix[rows-1][columns-1]\n",
    "\n",
    "\n",
    "print(levenshtein_distance(source_word='yu', target_word='you'))"
   ]
  }
 ],
 "metadata": {
  "kernelspec": {
   "display_name": "Python 3",
   "language": "python",
   "name": "python3"
  },
  "language_info": {
   "codemirror_mode": {
    "name": "ipython",
    "version": 3
   },
   "file_extension": ".py",
   "mimetype": "text/x-python",
   "name": "python",
   "nbconvert_exporter": "python",
   "pygments_lexer": "ipython3",
   "version": "3.11.9"
  }
 },
 "nbformat": 4,
 "nbformat_minor": 2
}
