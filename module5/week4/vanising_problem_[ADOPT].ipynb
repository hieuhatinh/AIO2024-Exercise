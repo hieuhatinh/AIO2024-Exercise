{
  "cells": [
    {
      "cell_type": "code",
      "execution_count": 2,
      "metadata": {
        "id": "xb1zy7CBLyV-"
      },
      "outputs": [],
      "source": [
        "import torch\n",
        "import torch.nn as nn\n",
        "from torch.optim import Adam\n",
        "from torchvision import transforms\n",
        "from torchvision.datasets import FashionMNIST\n",
        "from torch.utils.data import DataLoader\n",
        "import matplotlib.pyplot as plt\n",
        "from adopt import ADOPT"
      ]
    },
    {
      "cell_type": "code",
      "execution_count": 3,
      "metadata": {
        "id": "qzOIXcSNLyV_"
      },
      "outputs": [],
      "source": [
        "batch_size = 512\n",
        "num_epochs = 300\n",
        "lr = 0.01"
      ]
    },
    {
      "cell_type": "code",
      "execution_count": 4,
      "metadata": {
        "id": "4mAFE9szLyV_",
        "colab": {
          "base_uri": "https://localhost:8080/"
        },
        "outputId": "f809bdc4-466a-4d30-ce57-e48d1ed970be"
      },
      "outputs": [
        {
          "output_type": "stream",
          "name": "stdout",
          "text": [
            "Downloading http://fashion-mnist.s3-website.eu-central-1.amazonaws.com/train-images-idx3-ubyte.gz\n",
            "Downloading http://fashion-mnist.s3-website.eu-central-1.amazonaws.com/train-images-idx3-ubyte.gz to ./data/FashionMNIST/raw/train-images-idx3-ubyte.gz\n"
          ]
        },
        {
          "output_type": "stream",
          "name": "stderr",
          "text": [
            "100%|██████████| 26.4M/26.4M [00:00<00:00, 115MB/s]\n"
          ]
        },
        {
          "output_type": "stream",
          "name": "stdout",
          "text": [
            "Extracting ./data/FashionMNIST/raw/train-images-idx3-ubyte.gz to ./data/FashionMNIST/raw\n",
            "\n",
            "Downloading http://fashion-mnist.s3-website.eu-central-1.amazonaws.com/train-labels-idx1-ubyte.gz\n",
            "Downloading http://fashion-mnist.s3-website.eu-central-1.amazonaws.com/train-labels-idx1-ubyte.gz to ./data/FashionMNIST/raw/train-labels-idx1-ubyte.gz\n"
          ]
        },
        {
          "output_type": "stream",
          "name": "stderr",
          "text": [
            "100%|██████████| 29.5k/29.5k [00:00<00:00, 4.50MB/s]\n"
          ]
        },
        {
          "output_type": "stream",
          "name": "stdout",
          "text": [
            "Extracting ./data/FashionMNIST/raw/train-labels-idx1-ubyte.gz to ./data/FashionMNIST/raw\n",
            "\n",
            "Downloading http://fashion-mnist.s3-website.eu-central-1.amazonaws.com/t10k-images-idx3-ubyte.gz\n",
            "Downloading http://fashion-mnist.s3-website.eu-central-1.amazonaws.com/t10k-images-idx3-ubyte.gz to ./data/FashionMNIST/raw/t10k-images-idx3-ubyte.gz\n"
          ]
        },
        {
          "output_type": "stream",
          "name": "stderr",
          "text": [
            "100%|██████████| 4.42M/4.42M [00:00<00:00, 65.3MB/s]\n"
          ]
        },
        {
          "output_type": "stream",
          "name": "stdout",
          "text": [
            "Extracting ./data/FashionMNIST/raw/t10k-images-idx3-ubyte.gz to ./data/FashionMNIST/raw\n",
            "\n",
            "Downloading http://fashion-mnist.s3-website.eu-central-1.amazonaws.com/t10k-labels-idx1-ubyte.gz\n",
            "Downloading http://fashion-mnist.s3-website.eu-central-1.amazonaws.com/t10k-labels-idx1-ubyte.gz to ./data/FashionMNIST/raw/t10k-labels-idx1-ubyte.gz\n"
          ]
        },
        {
          "output_type": "stream",
          "name": "stderr",
          "text": [
            "100%|██████████| 5.15k/5.15k [00:00<00:00, 8.18MB/s]\n"
          ]
        },
        {
          "output_type": "stream",
          "name": "stdout",
          "text": [
            "Extracting ./data/FashionMNIST/raw/t10k-labels-idx1-ubyte.gz to ./data/FashionMNIST/raw\n",
            "\n"
          ]
        }
      ],
      "source": [
        "train_dataset = FashionMNIST(root='./data', train=True,\n",
        "                             download=True, transform=transforms.ToTensor())\n",
        "train_loader = DataLoader(train_dataset, batch_size, shuffle=True)\n",
        "test_dataset = FashionMNIST(root='./data', train=False,\n",
        "                            download=True, transform=transforms.ToTensor())\n",
        "test_loader = DataLoader(test_dataset, batch_size)"
      ]
    },
    {
      "cell_type": "code",
      "execution_count": 5,
      "metadata": {
        "id": "7srEYQPaLyV_"
      },
      "outputs": [],
      "source": [
        "class MLP(nn.Module):\n",
        "    def __init__(self, input_dims, hidden_dims, output_dims):\n",
        "        super(MLP, self).__init__()\n",
        "        self.layer1 = nn.Linear(input_dims, hidden_dims)\n",
        "        self.layer2 = nn.Linear(hidden_dims, hidden_dims)\n",
        "        self.layer3 = nn.Linear(hidden_dims, hidden_dims)\n",
        "        self.layer4 = nn.Linear(hidden_dims, hidden_dims)\n",
        "        self.layer5 = nn.Linear(hidden_dims, hidden_dims)\n",
        "        self.output = nn.Linear(hidden_dims, output_dims)\n",
        "        self.sigmoid = nn.Sigmoid()\n",
        "\n",
        "    def forward(self, x):\n",
        "        x = nn.Flatten()(x)\n",
        "        x = self.layer1(x)\n",
        "        x = self.sigmoid(x)\n",
        "        x = self.layer2(x)\n",
        "        x = self.sigmoid(x)\n",
        "        x = self.layer3(x)\n",
        "        x = self.sigmoid(x)\n",
        "        x = self.layer4(x)\n",
        "        x = self.sigmoid(x)\n",
        "        x = self.layer5(x)\n",
        "        x = self.sigmoid(x)\n",
        "        output = self.output(x)\n",
        "        return output"
      ]
    },
    {
      "cell_type": "code",
      "execution_count": 6,
      "metadata": {
        "id": "R-4s1TaDLyWA"
      },
      "outputs": [],
      "source": [
        "device = torch.device('cuda' if torch.cuda.is_available() else 'cpu')"
      ]
    },
    {
      "cell_type": "code",
      "execution_count": 7,
      "metadata": {
        "id": "MhaCnYXwLyWA"
      },
      "outputs": [],
      "source": [
        "model = MLP(input_dims=784,\n",
        "            hidden_dims=128,\n",
        "            output_dims=10).to(device)\n",
        "criterion = nn.CrossEntropyLoss()\n",
        "optimizer = ADOPT(model.parameters(), lr=lr, betas=(0.9, 0.999), eps=1e-6)"
      ]
    },
    {
      "cell_type": "code",
      "execution_count": 8,
      "metadata": {
        "id": "D0gUYf2SLyWA",
        "outputId": "50af0582-cdfe-495c-a13a-0d3349ce1a9d",
        "colab": {
          "base_uri": "https://localhost:8080/"
        }
      },
      "outputs": [
        {
          "output_type": "stream",
          "name": "stdout",
          "text": [
            "Epoch 1\tTraining Loss: 2.341\tValidation Loss: 2.305\n",
            "Epoch 2\tTraining Loss: 2.305\tValidation Loss: 2.304\n",
            "Epoch 3\tTraining Loss: 2.305\tValidation Loss: 2.303\n",
            "Epoch 4\tTraining Loss: 2.304\tValidation Loss: 2.306\n",
            "Epoch 5\tTraining Loss: 2.303\tValidation Loss: 2.313\n",
            "Epoch 6\tTraining Loss: 2.306\tValidation Loss: 2.304\n",
            "Epoch 7\tTraining Loss: 2.235\tValidation Loss: 1.792\n",
            "Epoch 8\tTraining Loss: 1.966\tValidation Loss: 1.740\n",
            "Epoch 9\tTraining Loss: 1.623\tValidation Loss: 1.547\n",
            "Epoch 10\tTraining Loss: 1.512\tValidation Loss: 1.505\n",
            "Epoch 11\tTraining Loss: 1.544\tValidation Loss: 1.490\n",
            "Epoch 12\tTraining Loss: 1.475\tValidation Loss: 1.477\n",
            "Epoch 13\tTraining Loss: 1.471\tValidation Loss: 1.471\n",
            "Epoch 14\tTraining Loss: 1.477\tValidation Loss: 1.472\n",
            "Epoch 15\tTraining Loss: 1.463\tValidation Loss: 1.459\n",
            "Epoch 16\tTraining Loss: 1.417\tValidation Loss: 1.379\n",
            "Epoch 17\tTraining Loss: 1.372\tValidation Loss: 1.480\n",
            "Epoch 18\tTraining Loss: 1.361\tValidation Loss: 1.359\n",
            "Epoch 19\tTraining Loss: 1.346\tValidation Loss: 1.350\n",
            "Epoch 20\tTraining Loss: 1.340\tValidation Loss: 1.345\n",
            "Epoch 21\tTraining Loss: 1.334\tValidation Loss: 1.333\n",
            "Epoch 22\tTraining Loss: 1.331\tValidation Loss: 1.341\n",
            "Epoch 23\tTraining Loss: 1.331\tValidation Loss: 1.324\n",
            "Epoch 24\tTraining Loss: 1.324\tValidation Loss: 1.328\n",
            "Epoch 25\tTraining Loss: 1.320\tValidation Loss: 1.326\n",
            "Epoch 26\tTraining Loss: 1.316\tValidation Loss: 1.331\n",
            "Epoch 27\tTraining Loss: 1.315\tValidation Loss: 1.323\n",
            "Epoch 28\tTraining Loss: 1.313\tValidation Loss: 1.317\n",
            "Epoch 29\tTraining Loss: 1.322\tValidation Loss: 1.319\n",
            "Epoch 30\tTraining Loss: 1.308\tValidation Loss: 1.317\n",
            "Epoch 31\tTraining Loss: 1.307\tValidation Loss: 1.319\n",
            "Epoch 32\tTraining Loss: 1.502\tValidation Loss: 1.507\n",
            "Epoch 33\tTraining Loss: 1.793\tValidation Loss: 1.616\n",
            "Epoch 34\tTraining Loss: 1.428\tValidation Loss: 1.327\n",
            "Epoch 35\tTraining Loss: 1.317\tValidation Loss: 1.329\n",
            "Epoch 36\tTraining Loss: 1.313\tValidation Loss: 1.316\n",
            "Epoch 37\tTraining Loss: 1.306\tValidation Loss: 1.316\n",
            "Epoch 38\tTraining Loss: 1.302\tValidation Loss: 1.319\n",
            "Epoch 39\tTraining Loss: 1.348\tValidation Loss: 2.447\n",
            "Epoch 40\tTraining Loss: 1.526\tValidation Loss: 1.346\n",
            "Epoch 41\tTraining Loss: 1.313\tValidation Loss: 1.315\n",
            "Epoch 42\tTraining Loss: 1.716\tValidation Loss: 2.197\n",
            "Epoch 43\tTraining Loss: 1.757\tValidation Loss: 1.714\n",
            "Epoch 44\tTraining Loss: 1.704\tValidation Loss: 1.709\n",
            "Epoch 45\tTraining Loss: 1.713\tValidation Loss: 1.722\n",
            "Epoch 46\tTraining Loss: 1.689\tValidation Loss: 1.687\n",
            "Epoch 47\tTraining Loss: 1.677\tValidation Loss: 1.686\n",
            "Epoch 48\tTraining Loss: 1.678\tValidation Loss: 1.684\n",
            "Epoch 49\tTraining Loss: 1.670\tValidation Loss: 1.693\n",
            "Epoch 50\tTraining Loss: 1.641\tValidation Loss: 1.603\n",
            "Epoch 51\tTraining Loss: 1.564\tValidation Loss: 1.568\n",
            "Epoch 52\tTraining Loss: 1.482\tValidation Loss: 1.444\n",
            "Epoch 53\tTraining Loss: 1.595\tValidation Loss: 1.534\n",
            "Epoch 54\tTraining Loss: 1.471\tValidation Loss: 1.467\n",
            "Epoch 55\tTraining Loss: 1.457\tValidation Loss: 1.460\n",
            "Epoch 56\tTraining Loss: 1.454\tValidation Loss: 1.458\n",
            "Epoch 57\tTraining Loss: 1.444\tValidation Loss: 1.445\n",
            "Epoch 58\tTraining Loss: 1.439\tValidation Loss: 1.445\n",
            "Epoch 59\tTraining Loss: 1.440\tValidation Loss: 1.441\n",
            "Epoch 60\tTraining Loss: 1.431\tValidation Loss: 1.426\n",
            "Epoch 61\tTraining Loss: 1.409\tValidation Loss: 1.376\n",
            "Epoch 62\tTraining Loss: 1.550\tValidation Loss: 4.756\n",
            "Epoch 63\tTraining Loss: 2.473\tValidation Loss: 2.304\n",
            "Epoch 64\tTraining Loss: 2.305\tValidation Loss: 2.306\n",
            "Epoch 65\tTraining Loss: 2.305\tValidation Loss: 2.304\n",
            "Epoch 66\tTraining Loss: 2.305\tValidation Loss: 2.305\n",
            "Epoch 67\tTraining Loss: 2.305\tValidation Loss: 2.308\n",
            "Epoch 68\tTraining Loss: 2.306\tValidation Loss: 2.305\n",
            "Epoch 69\tTraining Loss: 2.304\tValidation Loss: 2.308\n",
            "Epoch 70\tTraining Loss: 2.305\tValidation Loss: 2.306\n",
            "Epoch 71\tTraining Loss: 2.305\tValidation Loss: 2.305\n",
            "Epoch 72\tTraining Loss: 2.305\tValidation Loss: 2.310\n",
            "Epoch 73\tTraining Loss: 2.305\tValidation Loss: 2.304\n",
            "Epoch 74\tTraining Loss: 2.306\tValidation Loss: 2.304\n",
            "Epoch 75\tTraining Loss: 2.305\tValidation Loss: 2.306\n",
            "Epoch 76\tTraining Loss: 2.305\tValidation Loss: 2.306\n",
            "Epoch 77\tTraining Loss: 2.305\tValidation Loss: 2.304\n",
            "Epoch 78\tTraining Loss: 2.306\tValidation Loss: 2.305\n",
            "Epoch 79\tTraining Loss: 2.306\tValidation Loss: 2.303\n",
            "Epoch 80\tTraining Loss: 2.305\tValidation Loss: 2.304\n",
            "Epoch 81\tTraining Loss: 2.305\tValidation Loss: 2.305\n",
            "Epoch 82\tTraining Loss: 2.307\tValidation Loss: 2.304\n",
            "Epoch 83\tTraining Loss: 2.305\tValidation Loss: 2.304\n",
            "Epoch 84\tTraining Loss: 2.306\tValidation Loss: 2.304\n",
            "Epoch 85\tTraining Loss: 2.305\tValidation Loss: 2.305\n",
            "Epoch 86\tTraining Loss: 2.305\tValidation Loss: 2.307\n",
            "Epoch 87\tTraining Loss: 2.305\tValidation Loss: 2.305\n",
            "Epoch 88\tTraining Loss: 2.305\tValidation Loss: 2.307\n",
            "Epoch 89\tTraining Loss: 2.306\tValidation Loss: 2.305\n",
            "Epoch 90\tTraining Loss: 2.306\tValidation Loss: 2.305\n",
            "Epoch 91\tTraining Loss: 2.305\tValidation Loss: 2.305\n",
            "Epoch 92\tTraining Loss: 2.305\tValidation Loss: 2.306\n",
            "Epoch 93\tTraining Loss: 2.306\tValidation Loss: 2.307\n",
            "Epoch 94\tTraining Loss: 2.307\tValidation Loss: 2.305\n",
            "Epoch 95\tTraining Loss: 2.306\tValidation Loss: 2.310\n",
            "Epoch 96\tTraining Loss: 2.306\tValidation Loss: 2.305\n",
            "Epoch 97\tTraining Loss: 2.306\tValidation Loss: 2.305\n",
            "Epoch 98\tTraining Loss: 2.306\tValidation Loss: 2.308\n",
            "Epoch 99\tTraining Loss: 2.305\tValidation Loss: 2.305\n",
            "Epoch 100\tTraining Loss: 2.306\tValidation Loss: 2.305\n",
            "Epoch 101\tTraining Loss: 2.305\tValidation Loss: 2.305\n",
            "Epoch 102\tTraining Loss: 2.306\tValidation Loss: 2.307\n",
            "Epoch 103\tTraining Loss: 2.305\tValidation Loss: 2.305\n",
            "Epoch 104\tTraining Loss: 2.305\tValidation Loss: 2.305\n",
            "Epoch 105\tTraining Loss: 2.306\tValidation Loss: 2.305\n",
            "Epoch 106\tTraining Loss: 2.306\tValidation Loss: 2.304\n",
            "Epoch 107\tTraining Loss: 2.305\tValidation Loss: 2.305\n",
            "Epoch 108\tTraining Loss: 2.306\tValidation Loss: 2.306\n",
            "Epoch 109\tTraining Loss: 2.305\tValidation Loss: 2.304\n",
            "Epoch 110\tTraining Loss: 2.305\tValidation Loss: 2.305\n",
            "Epoch 111\tTraining Loss: 2.305\tValidation Loss: 2.306\n",
            "Epoch 112\tTraining Loss: 2.306\tValidation Loss: 2.306\n",
            "Epoch 113\tTraining Loss: 2.305\tValidation Loss: 2.304\n",
            "Epoch 114\tTraining Loss: 2.305\tValidation Loss: 2.307\n",
            "Epoch 115\tTraining Loss: 2.306\tValidation Loss: 2.305\n",
            "Epoch 116\tTraining Loss: 2.305\tValidation Loss: 2.305\n",
            "Epoch 117\tTraining Loss: 2.306\tValidation Loss: 2.306\n",
            "Epoch 118\tTraining Loss: 2.305\tValidation Loss: 2.304\n",
            "Epoch 119\tTraining Loss: 2.305\tValidation Loss: 2.307\n",
            "Epoch 120\tTraining Loss: 2.306\tValidation Loss: 2.307\n",
            "Epoch 121\tTraining Loss: 2.307\tValidation Loss: 2.307\n",
            "Epoch 122\tTraining Loss: 2.306\tValidation Loss: 2.305\n",
            "Epoch 123\tTraining Loss: 2.305\tValidation Loss: 2.305\n",
            "Epoch 124\tTraining Loss: 2.306\tValidation Loss: 2.304\n",
            "Epoch 125\tTraining Loss: 2.305\tValidation Loss: 2.304\n",
            "Epoch 126\tTraining Loss: 2.306\tValidation Loss: 2.306\n",
            "Epoch 127\tTraining Loss: 2.306\tValidation Loss: 2.304\n",
            "Epoch 128\tTraining Loss: 2.306\tValidation Loss: 2.307\n",
            "Epoch 129\tTraining Loss: 2.306\tValidation Loss: 2.305\n",
            "Epoch 130\tTraining Loss: 2.306\tValidation Loss: 2.306\n",
            "Epoch 131\tTraining Loss: 2.306\tValidation Loss: 2.305\n",
            "Epoch 132\tTraining Loss: 2.306\tValidation Loss: 2.305\n",
            "Epoch 133\tTraining Loss: 2.305\tValidation Loss: 2.304\n",
            "Epoch 134\tTraining Loss: 2.306\tValidation Loss: 2.304\n",
            "Epoch 135\tTraining Loss: 2.307\tValidation Loss: 2.304\n",
            "Epoch 136\tTraining Loss: 2.305\tValidation Loss: 2.304\n",
            "Epoch 137\tTraining Loss: 2.305\tValidation Loss: 2.307\n",
            "Epoch 138\tTraining Loss: 2.306\tValidation Loss: 2.305\n",
            "Epoch 139\tTraining Loss: 2.305\tValidation Loss: 2.306\n",
            "Epoch 140\tTraining Loss: 2.306\tValidation Loss: 2.305\n",
            "Epoch 141\tTraining Loss: 2.306\tValidation Loss: 2.306\n",
            "Epoch 142\tTraining Loss: 2.306\tValidation Loss: 2.306\n",
            "Epoch 143\tTraining Loss: 2.305\tValidation Loss: 2.304\n",
            "Epoch 144\tTraining Loss: 2.305\tValidation Loss: 2.304\n",
            "Epoch 145\tTraining Loss: 2.305\tValidation Loss: 2.307\n",
            "Epoch 146\tTraining Loss: 2.306\tValidation Loss: 2.306\n",
            "Epoch 147\tTraining Loss: 2.306\tValidation Loss: 2.310\n",
            "Epoch 148\tTraining Loss: 2.306\tValidation Loss: 2.305\n",
            "Epoch 149\tTraining Loss: 2.305\tValidation Loss: 2.305\n",
            "Epoch 150\tTraining Loss: 2.306\tValidation Loss: 2.306\n",
            "Epoch 151\tTraining Loss: 2.305\tValidation Loss: 2.306\n",
            "Epoch 152\tTraining Loss: 2.305\tValidation Loss: 2.304\n",
            "Epoch 153\tTraining Loss: 2.305\tValidation Loss: 2.306\n",
            "Epoch 154\tTraining Loss: 2.305\tValidation Loss: 2.308\n",
            "Epoch 155\tTraining Loss: 2.305\tValidation Loss: 2.309\n",
            "Epoch 156\tTraining Loss: 2.306\tValidation Loss: 2.304\n",
            "Epoch 157\tTraining Loss: 2.305\tValidation Loss: 2.307\n",
            "Epoch 158\tTraining Loss: 2.306\tValidation Loss: 2.306\n",
            "Epoch 159\tTraining Loss: 2.305\tValidation Loss: 2.305\n",
            "Epoch 160\tTraining Loss: 2.306\tValidation Loss: 2.304\n",
            "Epoch 161\tTraining Loss: 2.306\tValidation Loss: 2.306\n",
            "Epoch 162\tTraining Loss: 2.305\tValidation Loss: 2.304\n",
            "Epoch 163\tTraining Loss: 2.305\tValidation Loss: 2.307\n",
            "Epoch 164\tTraining Loss: 2.305\tValidation Loss: 2.304\n",
            "Epoch 165\tTraining Loss: 2.305\tValidation Loss: 2.305\n",
            "Epoch 166\tTraining Loss: 2.305\tValidation Loss: 2.306\n",
            "Epoch 167\tTraining Loss: 2.306\tValidation Loss: 2.306\n",
            "Epoch 168\tTraining Loss: 2.305\tValidation Loss: 2.306\n",
            "Epoch 169\tTraining Loss: 2.306\tValidation Loss: 2.308\n",
            "Epoch 170\tTraining Loss: 2.306\tValidation Loss: 2.304\n",
            "Epoch 171\tTraining Loss: 2.305\tValidation Loss: 2.306\n",
            "Epoch 172\tTraining Loss: 2.306\tValidation Loss: 2.306\n",
            "Epoch 173\tTraining Loss: 2.305\tValidation Loss: 2.306\n",
            "Epoch 174\tTraining Loss: 2.305\tValidation Loss: 2.304\n",
            "Epoch 175\tTraining Loss: 2.305\tValidation Loss: 2.305\n",
            "Epoch 176\tTraining Loss: 2.306\tValidation Loss: 2.306\n",
            "Epoch 177\tTraining Loss: 2.305\tValidation Loss: 2.304\n",
            "Epoch 178\tTraining Loss: 2.306\tValidation Loss: 2.308\n",
            "Epoch 179\tTraining Loss: 2.306\tValidation Loss: 2.305\n",
            "Epoch 180\tTraining Loss: 2.306\tValidation Loss: 2.305\n",
            "Epoch 181\tTraining Loss: 2.306\tValidation Loss: 2.306\n",
            "Epoch 182\tTraining Loss: 2.305\tValidation Loss: 2.306\n",
            "Epoch 183\tTraining Loss: 2.306\tValidation Loss: 2.307\n",
            "Epoch 184\tTraining Loss: 2.305\tValidation Loss: 2.306\n",
            "Epoch 185\tTraining Loss: 2.306\tValidation Loss: 2.305\n",
            "Epoch 186\tTraining Loss: 2.306\tValidation Loss: 2.306\n",
            "Epoch 187\tTraining Loss: 2.306\tValidation Loss: 2.305\n",
            "Epoch 188\tTraining Loss: 2.305\tValidation Loss: 2.305\n",
            "Epoch 189\tTraining Loss: 2.306\tValidation Loss: 2.304\n",
            "Epoch 190\tTraining Loss: 2.305\tValidation Loss: 2.308\n",
            "Epoch 191\tTraining Loss: 2.306\tValidation Loss: 2.307\n",
            "Epoch 192\tTraining Loss: 2.306\tValidation Loss: 2.306\n",
            "Epoch 193\tTraining Loss: 2.306\tValidation Loss: 2.304\n",
            "Epoch 194\tTraining Loss: 2.305\tValidation Loss: 2.304\n",
            "Epoch 195\tTraining Loss: 2.305\tValidation Loss: 2.304\n",
            "Epoch 196\tTraining Loss: 2.305\tValidation Loss: 2.306\n",
            "Epoch 197\tTraining Loss: 2.305\tValidation Loss: 2.305\n",
            "Epoch 198\tTraining Loss: 2.305\tValidation Loss: 2.305\n",
            "Epoch 199\tTraining Loss: 2.305\tValidation Loss: 2.306\n",
            "Epoch 200\tTraining Loss: 2.306\tValidation Loss: 2.305\n",
            "Epoch 201\tTraining Loss: 2.305\tValidation Loss: 2.305\n",
            "Epoch 202\tTraining Loss: 2.305\tValidation Loss: 2.304\n",
            "Epoch 203\tTraining Loss: 2.306\tValidation Loss: 2.304\n",
            "Epoch 204\tTraining Loss: 2.305\tValidation Loss: 2.306\n",
            "Epoch 205\tTraining Loss: 2.307\tValidation Loss: 2.307\n",
            "Epoch 206\tTraining Loss: 2.305\tValidation Loss: 2.305\n",
            "Epoch 207\tTraining Loss: 2.305\tValidation Loss: 2.308\n",
            "Epoch 208\tTraining Loss: 2.306\tValidation Loss: 2.304\n",
            "Epoch 209\tTraining Loss: 2.306\tValidation Loss: 2.306\n",
            "Epoch 210\tTraining Loss: 2.305\tValidation Loss: 2.305\n",
            "Epoch 211\tTraining Loss: 2.305\tValidation Loss: 2.306\n",
            "Epoch 212\tTraining Loss: 2.306\tValidation Loss: 2.304\n",
            "Epoch 213\tTraining Loss: 2.305\tValidation Loss: 2.307\n",
            "Epoch 214\tTraining Loss: 2.307\tValidation Loss: 2.305\n",
            "Epoch 215\tTraining Loss: 2.305\tValidation Loss: 2.306\n",
            "Epoch 216\tTraining Loss: 2.305\tValidation Loss: 2.308\n",
            "Epoch 217\tTraining Loss: 2.305\tValidation Loss: 2.307\n",
            "Epoch 218\tTraining Loss: 2.305\tValidation Loss: 2.305\n",
            "Epoch 219\tTraining Loss: 2.306\tValidation Loss: 2.304\n",
            "Epoch 220\tTraining Loss: 2.305\tValidation Loss: 2.305\n",
            "Epoch 221\tTraining Loss: 2.306\tValidation Loss: 2.305\n",
            "Epoch 222\tTraining Loss: 2.306\tValidation Loss: 2.304\n",
            "Epoch 223\tTraining Loss: 2.306\tValidation Loss: 2.305\n",
            "Epoch 224\tTraining Loss: 2.306\tValidation Loss: 2.304\n",
            "Epoch 225\tTraining Loss: 2.306\tValidation Loss: 2.306\n",
            "Epoch 226\tTraining Loss: 2.305\tValidation Loss: 2.306\n",
            "Epoch 227\tTraining Loss: 2.305\tValidation Loss: 2.305\n",
            "Epoch 228\tTraining Loss: 2.305\tValidation Loss: 2.308\n",
            "Epoch 229\tTraining Loss: 2.306\tValidation Loss: 2.305\n",
            "Epoch 230\tTraining Loss: 2.305\tValidation Loss: 2.306\n",
            "Epoch 231\tTraining Loss: 2.305\tValidation Loss: 2.305\n",
            "Epoch 232\tTraining Loss: 2.306\tValidation Loss: 2.305\n",
            "Epoch 233\tTraining Loss: 2.306\tValidation Loss: 2.304\n",
            "Epoch 234\tTraining Loss: 2.305\tValidation Loss: 2.304\n",
            "Epoch 235\tTraining Loss: 2.306\tValidation Loss: 2.306\n",
            "Epoch 236\tTraining Loss: 2.306\tValidation Loss: 2.306\n",
            "Epoch 237\tTraining Loss: 2.306\tValidation Loss: 2.305\n",
            "Epoch 238\tTraining Loss: 2.305\tValidation Loss: 2.305\n",
            "Epoch 239\tTraining Loss: 2.306\tValidation Loss: 2.304\n",
            "Epoch 240\tTraining Loss: 2.305\tValidation Loss: 2.308\n",
            "Epoch 241\tTraining Loss: 2.306\tValidation Loss: 2.305\n",
            "Epoch 242\tTraining Loss: 2.306\tValidation Loss: 2.305\n",
            "Epoch 243\tTraining Loss: 2.305\tValidation Loss: 2.305\n",
            "Epoch 244\tTraining Loss: 2.306\tValidation Loss: 2.307\n",
            "Epoch 245\tTraining Loss: 2.305\tValidation Loss: 2.307\n",
            "Epoch 246\tTraining Loss: 2.305\tValidation Loss: 2.304\n",
            "Epoch 247\tTraining Loss: 2.305\tValidation Loss: 2.305\n",
            "Epoch 248\tTraining Loss: 2.306\tValidation Loss: 2.305\n",
            "Epoch 249\tTraining Loss: 2.306\tValidation Loss: 2.307\n",
            "Epoch 250\tTraining Loss: 2.306\tValidation Loss: 2.308\n",
            "Epoch 251\tTraining Loss: 2.305\tValidation Loss: 2.305\n",
            "Epoch 252\tTraining Loss: 2.306\tValidation Loss: 2.305\n",
            "Epoch 253\tTraining Loss: 2.305\tValidation Loss: 2.306\n",
            "Epoch 254\tTraining Loss: 2.306\tValidation Loss: 2.306\n",
            "Epoch 255\tTraining Loss: 2.305\tValidation Loss: 2.306\n",
            "Epoch 256\tTraining Loss: 2.306\tValidation Loss: 2.306\n",
            "Epoch 257\tTraining Loss: 2.306\tValidation Loss: 2.305\n",
            "Epoch 258\tTraining Loss: 2.306\tValidation Loss: 2.308\n",
            "Epoch 259\tTraining Loss: 2.305\tValidation Loss: 2.305\n",
            "Epoch 260\tTraining Loss: 2.306\tValidation Loss: 2.306\n",
            "Epoch 261\tTraining Loss: 2.305\tValidation Loss: 2.307\n",
            "Epoch 262\tTraining Loss: 2.306\tValidation Loss: 2.305\n",
            "Epoch 263\tTraining Loss: 2.306\tValidation Loss: 2.306\n",
            "Epoch 264\tTraining Loss: 2.306\tValidation Loss: 2.305\n",
            "Epoch 265\tTraining Loss: 2.306\tValidation Loss: 2.304\n",
            "Epoch 266\tTraining Loss: 2.305\tValidation Loss: 2.309\n",
            "Epoch 267\tTraining Loss: 2.307\tValidation Loss: 2.306\n",
            "Epoch 268\tTraining Loss: 2.306\tValidation Loss: 2.308\n",
            "Epoch 269\tTraining Loss: 2.306\tValidation Loss: 2.305\n",
            "Epoch 270\tTraining Loss: 2.305\tValidation Loss: 2.304\n",
            "Epoch 271\tTraining Loss: 2.305\tValidation Loss: 2.307\n",
            "Epoch 272\tTraining Loss: 2.306\tValidation Loss: 2.305\n",
            "Epoch 273\tTraining Loss: 2.306\tValidation Loss: 2.305\n",
            "Epoch 274\tTraining Loss: 2.306\tValidation Loss: 2.308\n",
            "Epoch 275\tTraining Loss: 2.306\tValidation Loss: 2.303\n",
            "Epoch 276\tTraining Loss: 2.306\tValidation Loss: 2.306\n",
            "Epoch 277\tTraining Loss: 2.305\tValidation Loss: 2.305\n",
            "Epoch 278\tTraining Loss: 2.306\tValidation Loss: 2.306\n",
            "Epoch 279\tTraining Loss: 2.306\tValidation Loss: 2.308\n",
            "Epoch 280\tTraining Loss: 2.306\tValidation Loss: 2.308\n",
            "Epoch 281\tTraining Loss: 2.306\tValidation Loss: 2.307\n",
            "Epoch 282\tTraining Loss: 2.306\tValidation Loss: 2.304\n",
            "Epoch 283\tTraining Loss: 2.306\tValidation Loss: 2.307\n",
            "Epoch 284\tTraining Loss: 2.306\tValidation Loss: 2.304\n",
            "Epoch 285\tTraining Loss: 2.306\tValidation Loss: 2.304\n",
            "Epoch 286\tTraining Loss: 2.306\tValidation Loss: 2.305\n",
            "Epoch 287\tTraining Loss: 2.306\tValidation Loss: 2.304\n",
            "Epoch 288\tTraining Loss: 2.305\tValidation Loss: 2.305\n",
            "Epoch 289\tTraining Loss: 2.305\tValidation Loss: 2.306\n",
            "Epoch 290\tTraining Loss: 2.306\tValidation Loss: 2.305\n",
            "Epoch 291\tTraining Loss: 2.305\tValidation Loss: 2.304\n",
            "Epoch 292\tTraining Loss: 2.305\tValidation Loss: 2.304\n",
            "Epoch 293\tTraining Loss: 2.305\tValidation Loss: 2.304\n",
            "Epoch 294\tTraining Loss: 2.306\tValidation Loss: 2.304\n",
            "Epoch 295\tTraining Loss: 2.306\tValidation Loss: 2.304\n",
            "Epoch 296\tTraining Loss: 2.305\tValidation Loss: 2.311\n",
            "Epoch 297\tTraining Loss: 2.306\tValidation Loss: 2.308\n",
            "Epoch 298\tTraining Loss: 2.306\tValidation Loss: 2.305\n",
            "Epoch 299\tTraining Loss: 2.306\tValidation Loss: 2.307\n",
            "Epoch 300\tTraining Loss: 2.305\tValidation Loss: 2.304\n"
          ]
        }
      ],
      "source": [
        "train_losses = []\n",
        "train_acc = []\n",
        "val_losses = []\n",
        "val_acc = []\n",
        "\n",
        "for epoch in range(num_epochs):\n",
        "    model.train()\n",
        "    t_loss = 0\n",
        "    t_acc = 0\n",
        "    cnt = 0\n",
        "    for X, y in train_loader:\n",
        "        X, y = X.to(device), y.to(device)\n",
        "        optimizer.zero_grad()\n",
        "        outputs = model(X)\n",
        "        loss = criterion(outputs, y)\n",
        "        loss.backward()\n",
        "        optimizer.step()\n",
        "        t_loss += loss.item()\n",
        "        t_acc += (torch.argmax(outputs, 1) == y).sum().item()\n",
        "        cnt += len(y)\n",
        "    t_loss /= len(train_loader)\n",
        "    train_losses.append(t_loss)\n",
        "    t_acc /= cnt\n",
        "    train_acc.append(t_acc)\n",
        "\n",
        "    model.eval()\n",
        "    v_loss = 0\n",
        "    v_acc = 0\n",
        "    cnt = 0\n",
        "    with torch.no_grad():\n",
        "        for X, y in test_loader:\n",
        "            X, y = X.to(device), y.to(device)\n",
        "            outputs = model(X)\n",
        "            loss = criterion(outputs, y)\n",
        "            v_loss += loss.item()\n",
        "            v_acc += (torch.argmax(outputs, 1) == y).sum().item()\n",
        "            cnt += len(y)\n",
        "        v_loss /= len(test_loader)\n",
        "        val_losses.append(v_loss)\n",
        "        v_acc /= cnt\n",
        "        val_acc.append(v_acc)\n",
        "    print(f'Epoch {epoch+1}\\tTraining Loss: {t_loss:.3f}\\tValidation Loss: {v_loss:.3f}')"
      ]
    },
    {
      "cell_type": "code",
      "execution_count": 13,
      "metadata": {
        "id": "aavHy-ShLyWA",
        "colab": {
          "base_uri": "https://localhost:8080/",
          "height": 890
        },
        "outputId": "f3d0549f-4b75-4272-fb8e-4d3c7b04348c"
      },
      "outputs": [
        {
          "output_type": "execute_result",
          "data": {
            "text/plain": [
              "Text(0, 0.5, 'Accuracy')"
            ]
          },
          "metadata": {},
          "execution_count": 13
        },
        {
          "output_type": "display_data",
          "data": {
            "text/plain": [
              "<Figure size 1200x1000 with 4 Axes>"
            ],
            "image/png": "[encoded data removed]"
          },
          "metadata": {}
        }
      ],
      "source": [
        "fig, ax = plt.subplots(2, 2, figsize=(12, 10))\n",
        "\n",
        "ax[0, 0].plot(train_losses)\n",
        "ax[0, 0].set_title('Train Loss')\n",
        "ax[0, 0].set_xlabel('Epoch')\n",
        "ax[0, 0].set_ylabel('Loss')\n",
        "\n",
        "ax[0, 1].plot(val_losses)\n",
        "ax[0, 1].set_title('Validation Loss')\n",
        "ax[0, 1].set_xlabel('Epoch')\n",
        "ax[0, 1].set_ylabel('Loss')\n",
        "\n",
        "ax[1, 0].plot(train_acc, color='orange')\n",
        "ax[1, 0].set_title('Train Accuracy')\n",
        "ax[1, 0].set_xlabel('Epoch')\n",
        "ax[1, 0].set_ylabel('Accuracy')\n",
        "\n",
        "ax[1, 1].plot(val_acc, color='orange')\n",
        "ax[1, 1].set_title('Validation Accuracy')\n",
        "ax[1, 1].set_xlabel('Epoch')\n",
        "ax[1, 1].set_ylabel('Accuracy')"
      ]
    },
    {
      "cell_type": "code",
      "execution_count": 12,
      "metadata": {
        "id": "oDigrGckLyWA",
        "colab": {
          "base_uri": "https://localhost:8080/"
        },
        "outputId": "2283a07f-2c03-4154-adfd-6fab37e237df"
      },
      "outputs": [
        {
          "output_type": "execute_result",
          "data": {
            "text/plain": [
              "0.1"
            ]
          },
          "metadata": {},
          "execution_count": 12
        }
      ],
      "source": [
        "test_target = []\n",
        "test_predict = []\n",
        "with torch.no_grad():\n",
        "    for X, y in test_loader:\n",
        "        X, y = X.to(device), y.to(device)\n",
        "        outputs = model(X)\n",
        "        test_target.append(y.cpu())\n",
        "        test_predict.append(outputs.cpu())\n",
        "\n",
        "test_predict = torch.cat(test_predict)\n",
        "test_target = torch.cat(test_target)\n",
        "acc = (torch.argmax(test_predict, 1) == test_target).sum().item() / len(test_target)\n",
        "acc"
      ]
    }
  ],
  "metadata": {
    "kernelspec": {
      "display_name": "Python 3",
      "name": "python3"
    },
    "language_info": {
      "codemirror_mode": {
        "name": "ipython",
        "version": 3
      },
      "file_extension": ".py",
      "mimetype": "text/x-python",
      "name": "python",
      "nbconvert_exporter": "python",
      "pygments_lexer": "ipython3",
      "version": "3.11.9"
    },
    "colab": {
      "provenance": [],
      "gpuType": "T4"
    },
    "accelerator": "GPU"
  },
  "nbformat": 4,
  "nbformat_minor": 0
}