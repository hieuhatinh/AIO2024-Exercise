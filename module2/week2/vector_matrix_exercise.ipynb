{
 "cells": [
  {
   "cell_type": "markdown",
   "metadata": {},
   "source": [
    "### 1.1 Length of a vector\n",
    "\n",
    "- Vector: **v** = $[v_1, v_2, ..., v_n]^T$\n",
    "- Length of a vector: $\\left \\| v \\right \\| = \\sqrt{v_1^2 + v_2^2 + ... + v_n^2}$\n"
   ]
  },
  {
   "cell_type": "code",
   "execution_count": 1,
   "metadata": {},
   "outputs": [],
   "source": [
    "import numpy as np"
   ]
  },
  {
   "cell_type": "code",
   "execution_count": 2,
   "metadata": {},
   "outputs": [],
   "source": [
    "def compute_vector_length(vector):\n",
    "    len_of_vector = np.sqrt(vector.dot(vector))\n",
    "    return len_of_vector"
   ]
  },
  {
   "cell_type": "code",
   "execution_count": 3,
   "metadata": {},
   "outputs": [
    {
     "name": "stdout",
     "output_type": "stream",
     "text": [
      "23.280893453645632\n"
     ]
    }
   ],
   "source": [
    "vector = np.array([-2, 4, 9, 21])\n",
    "print(np.sqrt(vector.dot(vector)))"
   ]
  },
  {
   "cell_type": "markdown",
   "metadata": {},
   "source": [
    "### 1. 2 Dot product\n",
    "\n",
    "- Vector: **v** = $\\begin{bmatrix}\n",
    "v_1\n",
    "\\\\ v_2\n",
    "\\\\ ...\n",
    "\\\\v_n\n",
    "\\end{bmatrix}$\n",
    "  <span style=\"margin-left: 32px;\"></span>\n",
    "  **u** = $\\begin{bmatrix}\n",
    "u_1\n",
    "\\\\ u_2\n",
    "\\\\ ...\n",
    "\\\\u_n\n",
    "\\end{bmatrix}$\n",
    "\n",
    "- Dot Product: **v** . **u** = _v_1 \\* u_1 + v_2 \\* u_2 + ... + v_n \\* u_n_\n"
   ]
  },
  {
   "cell_type": "code",
   "execution_count": 4,
   "metadata": {},
   "outputs": [],
   "source": [
    "def compute_dot_product(vector1, vector2):\n",
    "    result = vector1.dot(vector2)\n",
    "    return result"
   ]
  },
  {
   "cell_type": "code",
   "execution_count": 5,
   "metadata": {},
   "outputs": [
    {
     "name": "stdout",
     "output_type": "stream",
     "text": [
      "4\n"
     ]
    }
   ],
   "source": [
    "v1 = np.array([0, 1, -1, 2])\n",
    "v2 = np.array([2, 5, 1, 0])\n",
    "result = compute_dot_product(v1, v2)\n",
    "print(round(result, 2))"
   ]
  },
  {
   "cell_type": "markdown",
   "metadata": {},
   "source": [
    "### 1.3. Multiplying a vector by a matrix\n",
    "\n",
    "- Matrix: A = $\\begin{bmatrix}\n",
    " a_{11} & \\dots & a_{1n} \\\\\n",
    " \\vdots & \\ddots & \\vdots \\\\\n",
    " a_{m1} & \\dots & a_{mn}\n",
    "\\end{bmatrix}$, **A** $\\epsilon R^{nm}$\n",
    "\n",
    "- Vector: **v** = $\\begin{bmatrix}\n",
    "v_1\n",
    "\\\\ v_2\n",
    "\\\\ ...\n",
    "\\\\v_n\n",
    "\\end{bmatrix}$, **v** $\\epsilon R^n$\n",
    "- **c = Av** = $\\begin{bmatrix}\n",
    " a_{11} * v_1 & \\dots & a_{1n} * v_n \\\\\n",
    " \\vdots & \\ddots & \\vdots \\\\\n",
    " a_{m1} * v_1 & \\dots & a_{mn} * v_n\n",
    "\\end{bmatrix}$, **c** $\\epsilon R^n$\n"
   ]
  },
  {
   "cell_type": "code",
   "execution_count": 6,
   "metadata": {},
   "outputs": [],
   "source": [
    "def matrix_multi_vector(matrix, vector):\n",
    "    result = matrix.dot(vector)\n",
    "    return result"
   ]
  },
  {
   "cell_type": "code",
   "execution_count": 7,
   "metadata": {},
   "outputs": [
    {
     "name": "stdout",
     "output_type": "stream",
     "text": [
      "[3 1]\n"
     ]
    }
   ],
   "source": [
    "m = np.array([[-1, 1, 1], [0, -4, 9]])\n",
    "v = np.array([0, 2, 1])\n",
    "result = matrix_multi_vector(m, v)\n",
    "print(result)"
   ]
  },
  {
   "cell_type": "markdown",
   "metadata": {},
   "source": [
    "### 1.4. Multiplying a matrix by a matrix\n",
    "\n",
    "- Matrix: A = $\\begin{bmatrix}\n",
    " a_{11} & \\dots & a_{1n} \\\\\n",
    " \\vdots & \\ddots & \\vdots \\\\\n",
    " a_{m1} & \\dots & a_{mn}\n",
    "\\end{bmatrix}$, **A** $\\epsilon R^{m*n}$\n",
    "\n",
    "- Matrix: B = $\\begin{bmatrix}\n",
    " a_{11} & \\dots & a_{1n} \\\\\n",
    " \\vdots & \\ddots & \\vdots \\\\\n",
    " a_{m1} & \\dots & a_{mn}\n",
    "\\end{bmatrix}$, **B** $\\epsilon R^{n*k}$\n",
    "\n",
    "- **C = AB** = $\\begin{bmatrix}\n",
    " a_{11} * b_{11} + \\dots + a_{1n} * b_{n1} & \\dots & a_{11} * b_{1k} + a_{1n} * b_{nk} \\\\\n",
    " \\vdots & \\ddots & \\vdots \\\\\n",
    " a_{m1} * b_{11} + \\dots + a_{mn} * b_{n1} & \\dots & a_{m1} * b_{1k} + a_{mn} * b_{nk}\n",
    "\\end{bmatrix}$, **C** $\\epsilon R^{m*k}$\n"
   ]
  },
  {
   "cell_type": "code",
   "execution_count": 8,
   "metadata": {},
   "outputs": [],
   "source": [
    "def matrix_multi_matrix(matrix1, matrix2):\n",
    "    result = matrix1.dot(matrix2)\n",
    "    return result"
   ]
  },
  {
   "cell_type": "code",
   "execution_count": 9,
   "metadata": {},
   "outputs": [
    {
     "name": "stdout",
     "output_type": "stream",
     "text": [
      "[[  6  -1]\n",
      " [-16 -10]]\n"
     ]
    }
   ],
   "source": [
    "m1 = np.array([[0, 1, 2], [2, -3, 1]])\n",
    "m2 = np.array([[1, -3], [6, 1], [0, -1]])\n",
    "result = matrix_multi_matrix(m1, m2)\n",
    "print(result)"
   ]
  },
  {
   "cell_type": "markdown",
   "metadata": {},
   "source": [
    "### 1.5. Matrix inverse\n",
    "\n",
    "- Matrix A = $\\begin{bmatrix}\n",
    "a & b \\\\\n",
    "c & d\n",
    "\\end{bmatrix}$ **A** $\\epsilon R^{2*2}$\n",
    "- Determinant of **A** $\\epsilon R^{2*2}$: $det(A) = ad - bc$\n",
    "- if $det(A) \\neq 0$ **A** is invertile\n",
    "- Inverse Matrix: **$A^{-1}$** = $\\frac{1}{det(A)}\\begin{bmatrix}\n",
    "d & -b \\\\\n",
    "-c & a\n",
    "\\end{bmatrix}$\n"
   ]
  },
  {
   "cell_type": "code",
   "execution_count": 10,
   "metadata": {},
   "outputs": [
    {
     "name": "stdout",
     "output_type": "stream",
     "text": [
      "[[0.1  0.15]\n",
      " [0.2  0.05]]\n"
     ]
    }
   ],
   "source": [
    "# Dùng numpy\n",
    "def inverse_matrix(matrix):\n",
    "    result = np.linalg.inv(matrix)\n",
    "    return result\n",
    "\n",
    "\n",
    "A = [[-2, 6],\n",
    "     [8, -4]]\n",
    "print(inverse_matrix(A))"
   ]
  },
  {
   "cell_type": "markdown",
   "metadata": {},
   "source": [
    "### 2. Eigenvector and eigenvalue\n",
    "\n",
    "- **A** $\\epsilon$ $\\mathbb{R}^{n*n}$, **I** (identity matrix) $\\epsilon$ $\\mathbb{R}^{n*n}$, **v** $\\epsilon$ R^n\n",
    "- Eigenvalue ($\\lambda $): det(A - $\\lambda $ I) = 0\n",
    "- Eigenvector (**v**): Av = $\\lambda $ v $\\Leftrightarrow$ (A - $\\lambda $ I)v = 0\n",
    "- Normalize vector: $\\frac{v}{\\left \\| v \\right \\|}$, v_i = $\\frac{v_i}{\\sqrt{\\sum^n_1 v^2_i}}$\n"
   ]
  },
  {
   "cell_type": "code",
   "execution_count": 11,
   "metadata": {},
   "outputs": [],
   "source": [
    "import numpy as np"
   ]
  },
  {
   "cell_type": "code",
   "execution_count": 12,
   "metadata": {},
   "outputs": [],
   "source": [
    "def compute_eigenvalues_eigenvectors(matrix):\n",
    "    eigenvalues, eigenvectors = np.linalg.eig(matrix)\n",
    "    return eigenvalues, eigenvectors"
   ]
  },
  {
   "cell_type": "code",
   "execution_count": 13,
   "metadata": {},
   "outputs": [
    {
     "name": "stdout",
     "output_type": "stream",
     "text": [
      "(array([1. , 0.7]), array([[ 0.89442719, -0.70710678],\n",
      "       [ 0.4472136 ,  0.70710678]]))\n"
     ]
    }
   ],
   "source": [
    "A = np.array([[0.9, 0.2],\n",
    "              [0.1, 0.8]])\n",
    "print(compute_eigenvalues_eigenvectors(A))"
   ]
  },
  {
   "cell_type": "markdown",
   "metadata": {},
   "source": [
    "### 3. Cosine Similarity\n",
    "\n",
    "- Data (vector x, y): **x** = {x_1, ..., x_n} **y** = {y_1, ..., y_n}\n",
    "- Cosine Similarity:\n",
    "  cs(x, y) = $\\frac{x . y}{\\left \\| x \\right \\| \\left \\| y \\right \\|}$\n",
    "  = $\\frac{\\sum_{1}^{n} x_i y_i}{\\sqrt{\\sum_{1}^{n}x_i^2} \\sqrt{\\sum_{1}^{n}y_i^2}}$\n"
   ]
  },
  {
   "cell_type": "code",
   "execution_count": 14,
   "metadata": {},
   "outputs": [
    {
     "name": "stdout",
     "output_type": "stream",
     "text": [
      "0.5773502691896257\n"
     ]
    }
   ],
   "source": [
    "def compute_vector_length(vector):\n",
    "    len_of_vector = np.sqrt(vector.dot(vector))\n",
    "    return len_of_vector\n",
    "\n",
    "\n",
    "def compute_cosine(v1, v2):\n",
    "    dot_product = v1.dot(v2)\n",
    "    len_v1 = compute_vector_length(v1)\n",
    "    len_v2 = compute_vector_length(v2)\n",
    "    cos_sim = dot_product / (len_v1 * len_v2)\n",
    "    return cos_sim\n",
    "\n",
    "\n",
    "x = np.array([1, 2, 3, 4])\n",
    "y = np.array([1, 0, 3, 0])\n",
    "print(compute_cosine(x, y))"
   ]
  }
 ],
 "metadata": {
  "kernelspec": {
   "display_name": "Python 3",
   "language": "python",
   "name": "python3"
  },
  "language_info": {
   "codemirror_mode": {
    "name": "ipython",
    "version": 3
   },
   "file_extension": ".py",
   "mimetype": "text/x-python",
   "name": "python",
   "nbconvert_exporter": "python",
   "pygments_lexer": "ipython3",
   "version": "3.11.9"
  }
 },
 "nbformat": 4,
 "nbformat_minor": 2
}
