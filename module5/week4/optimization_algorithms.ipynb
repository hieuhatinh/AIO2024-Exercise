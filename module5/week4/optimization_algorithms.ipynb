{
 "cells": [
  {
   "cell_type": "code",
   "execution_count": 1,
   "metadata": {},
   "outputs": [],
   "source": [
    "import numpy as np"
   ]
  },
  {
   "cell_type": "code",
   "execution_count": 2,
   "metadata": {},
   "outputs": [],
   "source": [
    "def df_W(W):\n",
    "    W = np.asarray(W)\n",
    "    dW = np.array([0.2, 4]) * W\n",
    "    return dW.astype(np.float32)"
   ]
  },
  {
   "cell_type": "markdown",
   "metadata": {},
   "source": [
    "#### Gradient Descent"
   ]
  },
  {
   "cell_type": "code",
   "execution_count": 3,
   "metadata": {},
   "outputs": [],
   "source": [
    "def sgd(W, dW, lr):\n",
    "    return W - dW*lr"
   ]
  },
  {
   "cell_type": "code",
   "execution_count": 4,
   "metadata": {},
   "outputs": [],
   "source": [
    "def train_pl(optimizer, lr, epochs):\n",
    "    \"\"\"\n",
    "    Thực hiện tìm điểm munimum của function f(w1, w2) = 0.1w1**2 + 2w2**2\n",
    "    Arguments: \n",
    "    optimizer: function thực hiện thuật toán optimizer cụ thể\n",
    "    lr -- float: learning rate\n",
    "    epoch -- int: số lượng lần (epoch) lặp để tìm điểm minimum\n",
    "    Returns: \n",
    "    results -- list: list các cặp điểm [w1, w2] sau mỗi epoch\n",
    "    \"\"\"\n",
    "    # initial parameters\n",
    "    W = np.array([-5, -2], dtype=np.float32)\n",
    "    \n",
    "    # list of results\n",
    "    results = [W]\n",
    "    for _ in range(epochs):\n",
    "        dW = df_W(W)\n",
    "        W = optimizer(W=W, dW=dW, lr=lr)\n",
    "        results.append(W)\n",
    "    return results"
   ]
  },
  {
   "cell_type": "code",
   "execution_count": 5,
   "metadata": {},
   "outputs": [],
   "source": [
    "epochs = 30\n",
    "lr = 0.4\n",
    "results = train_pl(sgd, lr, epochs)"
   ]
  },
  {
   "cell_type": "code",
   "execution_count": 6,
   "metadata": {},
   "outputs": [
    {
     "name": "stdout",
     "output_type": "stream",
     "text": [
      "-0.409831\n",
      "-4.4214812e-07\n"
     ]
    }
   ],
   "source": [
    "# w1, w2 sau 30 epochs\n",
    "w1, w2 = results[-1]\n",
    "print(w1)\n",
    "print(w2)"
   ]
  },
  {
   "cell_type": "code",
   "execution_count": 7,
   "metadata": {},
   "outputs": [
    {
     "name": "stderr",
     "output_type": "stream",
     "text": [
      "No artists with labels found to put in legend.  Note that artists whose label start with an underscore are ignored when legend() is called with no argument.\n"
     ]
    },
    {
     "data": {
      "text/plain": [
       "<matplotlib.legend.Legend at 0x286bffc0550>"
      ]
     },
     "execution_count": 7,
     "metadata": {},
     "output_type": "execute_result"
    },
    {
     "data": {
      "image/png": "[encoded data removed]",
      "text/plain": [
       "<Figure size 640x480 with 1 Axes>"
      ]
     },
     "metadata": {},
     "output_type": "display_data"
    }
   ],
   "source": [
    "import matplotlib.pyplot as plt\n",
    "\n",
    "x = np.array(results)[:, 0]\n",
    "y = np.array(results)[:, 1]\n",
    "\n",
    "plt.plot(x, y, 'o-', color='orange')\n",
    "plt.grid(True)\n",
    "plt.legend()"
   ]
  },
  {
   "cell_type": "markdown",
   "metadata": {},
   "source": [
    "#### Gradient Descent + Momentum"
   ]
  },
  {
   "cell_type": "code",
   "execution_count": 8,
   "metadata": {},
   "outputs": [],
   "source": [
    "def sgd_momentum(W, dW, lr, vt, beta):\n",
    "    vt = beta*vt + (1 - beta)*dW\n",
    "    W = W - lr*vt\n",
    "    return W.astype(np.float32), vt"
   ]
  },
  {
   "cell_type": "code",
   "execution_count": 9,
   "metadata": {},
   "outputs": [],
   "source": [
    "def train_pl(optimizer, lr, epochs):\n",
    "    \"\"\"\n",
    "    Thực hiện tìm điểm munimum của function f(w1, w2) = 0.1w1**2 + 2w2**2\n",
    "    Arguments: \n",
    "    optimizer: function thực hiện thuật toán optimizer cụ thể\n",
    "    lr -- float: learning rate\n",
    "    epoch -- int: số lượng lần (epoch) lặp để tìm điểm minimum\n",
    "    Returns: \n",
    "    results -- list: list các cặp điểm [w1, w2] sau mỗi epoch\n",
    "    \"\"\"\n",
    "    # initial parameters\n",
    "    W = np.array([-5, -2], dtype=np.float32)\n",
    "    vt = np.array([0, 0])\n",
    "    beta = 0.5\n",
    "    \n",
    "    # list of results\n",
    "    results = [W]\n",
    "    for _ in range(epochs):\n",
    "        dW = df_W(W)\n",
    "        W, vt = optimizer(W=W, dW=dW, lr=lr, vt=vt, beta=beta)\n",
    "        results.append(W)\n",
    "    return results"
   ]
  },
  {
   "cell_type": "code",
   "execution_count": 10,
   "metadata": {},
   "outputs": [],
   "source": [
    "lr = 0.6\n",
    "epochs = 30\n",
    "results = train_pl(sgd_momentum, lr, epochs)"
   ]
  },
  {
   "cell_type": "code",
   "execution_count": 11,
   "metadata": {},
   "outputs": [
    {
     "data": {
      "text/plain": [
       "[array([-5., -2.], dtype=float32),\n",
       " array([-4.7,  0.4], dtype=float32),\n",
       " array([-4.2679996,  1.12     ], dtype=float32),\n",
       " array([-3.7959197 ,  0.13599999], dtype=float32),\n",
       " array([-3.3321245, -0.5192   ], dtype=float32),\n",
       " array([-2.9002993, -0.22376  ], dtype=float32),\n",
       " array([-2.5103688 ,  0.19247201], dtype=float32),\n",
       " array([-2.1647813,  0.1696216], dtype=float32),\n",
       " array([-1.8621007 , -0.04534952], dtype=float32),\n",
       " array([-1.5990344 , -0.09841566], dtype=float32),\n",
       " array([-1.3715593 , -0.00684994], dtype=float32),\n",
       " array([-1.175528  ,  0.04715285], dtype=float32),\n",
       " array([-1.0069808 ,  0.01757082], dtype=float32),\n",
       " array([-0.8622883 , -0.01830518], dtype=float32),\n",
       " array([-0.7382048 , -0.01427696], dtype=float32),\n",
       " array([-0.63187075,  0.0048695 ], dtype=float32),\n",
       " array([-0.54079145,  0.00859933], dtype=float32),\n",
       " array([-4.6280432e-01,  1.4505029e-04], dtype=float32),\n",
       " array([-0.3960425 , -0.00425615], dtype=float32),\n",
       " array([-0.33889905, -0.00134937], dtype=float32),\n",
       " array([-0.28999338,  0.00172326], dtype=float32),\n",
       " array([-0.24814093,  0.00119166], dtype=float32),\n",
       " array([-0.21232626, -0.00050413], dtype=float32),\n",
       " array([-0.18167934, -0.00074707], dtype=float32),\n",
       " array([-1.5545513e-01,  2.7944761e-05], dtype=float32),\n",
       " array([-0.1330157 ,  0.00038192], dtype=float32),\n",
       " array([-1.13815054e-01,  1.00603465e-04], dtype=float32),\n",
       " array([-0.09738582, -0.00016078], dtype=float32),\n",
       " array([-8.332806e-02, -9.853534e-05], dtype=float32),\n",
       " array([-7.129949e-02,  5.082875e-05], dtype=float32),\n",
       " array([-6.1007243e-02,  6.4516295e-05], dtype=float32)]"
      ]
     },
     "execution_count": 11,
     "metadata": {},
     "output_type": "execute_result"
    }
   ],
   "source": [
    "results"
   ]
  },
  {
   "cell_type": "code",
   "execution_count": 12,
   "metadata": {},
   "outputs": [
    {
     "name": "stdout",
     "output_type": "stream",
     "text": [
      "-0.061007243\n",
      "6.4516295e-05\n"
     ]
    }
   ],
   "source": [
    "# w1, w2 sau 30 epochs\n",
    "w1, w2 = results[-1]\n",
    "print(w1)\n",
    "print(w2)"
   ]
  },
  {
   "cell_type": "code",
   "execution_count": 13,
   "metadata": {},
   "outputs": [
    {
     "name": "stderr",
     "output_type": "stream",
     "text": [
      "No artists with labels found to put in legend.  Note that artists whose label start with an underscore are ignored when legend() is called with no argument.\n"
     ]
    },
    {
     "data": {
      "text/plain": [
       "<matplotlib.legend.Legend at 0x286bef792d0>"
      ]
     },
     "execution_count": 13,
     "metadata": {},
     "output_type": "execute_result"
    },
    {
     "data": {
      "image/png": "[encoded data removed]",
      "text/plain": [
       "<Figure size 640x480 with 1 Axes>"
      ]
     },
     "metadata": {},
     "output_type": "display_data"
    }
   ],
   "source": [
    "import matplotlib.pyplot as plt\n",
    "\n",
    "x = np.array(results)[:, 0]\n",
    "y = np.array(results)[:, 1]\n",
    "\n",
    "plt.plot(x, y, 'o-', color='orange')\n",
    "plt.grid(True)\n",
    "plt.legend()"
   ]
  },
  {
   "cell_type": "markdown",
   "metadata": {},
   "source": [
    "#### RMSProp"
   ]
  },
  {
   "cell_type": "code",
   "execution_count": 14,
   "metadata": {},
   "outputs": [],
   "source": [
    "def rmsprop(W, dW, lr, st, gamma):\n",
    "    epsilon = 1e-6\n",
    "    st = gamma*st + (1 - gamma)*dW**2\n",
    "    W = W - lr*dW/(np.sqrt(st + epsilon))\n",
    "    return W.astype(np.float32), st"
   ]
  },
  {
   "cell_type": "code",
   "execution_count": 15,
   "metadata": {},
   "outputs": [],
   "source": [
    "def train_pl(optimizer, lr, epochs):\n",
    "    \"\"\"\n",
    "    Thực hiện tìm điểm munimum của function f(w1, w2) = 0.1w1**2 + 2w2**2\n",
    "    Arguments: \n",
    "    optimizer: function thực hiện thuật toán optimizer cụ thể\n",
    "    lr -- float: learning rate\n",
    "    epoch -- int: số lượng lần (epoch) lặp để tìm điểm minimum\n",
    "    Returns: \n",
    "    results -- list: list các cặp điểm [w1, w2] sau mỗi epoch\n",
    "    \"\"\"\n",
    "    # initial parameters\n",
    "    W = np.array([-5, -2], dtype=np.float32)\n",
    "    st = np.array([0, 0])\n",
    "    gamma = 0.9\n",
    "    \n",
    "    # list of results\n",
    "    results = [W]\n",
    "    for epoch in range(epochs):\n",
    "        dW = df_W(W)\n",
    "        W, st = optimizer(W=W, dW=dW, lr=lr, st=st, gamma=gamma)\n",
    "        results.append(W)\n",
    "    return results"
   ]
  },
  {
   "cell_type": "code",
   "execution_count": 16,
   "metadata": {},
   "outputs": [],
   "source": [
    "lr = 0.3\n",
    "epochs = 30\n",
    "results = train_pl(rmsprop, lr, epochs)"
   ]
  },
  {
   "cell_type": "code",
   "execution_count": 17,
   "metadata": {},
   "outputs": [
    {
     "data": {
      "text/plain": [
       "[array([-5., -2.], dtype=float32),\n",
       " array([-4.0513215, -1.0513167], dtype=float32),\n",
       " array([-3.4351976, -0.5915234], dtype=float32),\n",
       " array([-2.958937  , -0.32943937], dtype=float32),\n",
       " array([-2.5654628 , -0.17756478], dtype=float32),\n",
       " array([-2.2292054 , -0.09163254], dtype=float32),\n",
       " array([-1.9362674 , -0.04494497], dtype=float32),\n",
       " array([-1.6781768 , -0.02081422], dtype=float32),\n",
       " array([-1.4493498 , -0.00903558], dtype=float32),\n",
       " array([-1.2458819, -0.0036459], dtype=float32),\n",
       " array([-1.0649029 , -0.00135351], dtype=float32),\n",
       " array([-9.0420216e-01, -4.5644413e-04], dtype=float32),\n",
       " array([-7.6199639e-01, -1.3756282e-04], dtype=float32),\n",
       " array([-6.3677841e-01, -3.6260073e-05], dtype=float32),\n",
       " array([-5.272152e-01, -8.113367e-06], dtype=float32),\n",
       " array([-4.3207845e-01, -1.4747321e-06], dtype=float32),\n",
       " array([-3.5019845e-01, -2.0278365e-07], dtype=float32),\n",
       " array([-2.8043461e-01, -1.8423078e-08], dtype=float32),\n",
       " array([-2.2165981e-01, -7.6773987e-10], dtype=float32),\n",
       " array([-1.727555e-01,  7.804521e-12], dtype=float32),\n",
       " array([-1.3261512e-01, -5.0579490e-13], dtype=float32),\n",
       " array([-1.0015377e-01,  6.1912376e-14], dtype=float32),\n",
       " array([-7.4321762e-02, -1.1337384e-14], dtype=float32),\n",
       " array([-5.4120120e-02,  2.8016693e-15], dtype=float32),\n",
       " array([-3.8615908e-02, -8.8134196e-16], dtype=float32),\n",
       " array([-2.6955802e-02,  3.3992150e-16], dtype=float32),\n",
       " array([-1.8376559e-02, -1.5658193e-16], dtype=float32),\n",
       " array([-1.2211606e-02,  8.4499616e-17], dtype=float32),\n",
       " array([-7.8933155e-03, -5.2637741e-17], dtype=float32),\n",
       " array([-4.951101e-03,  3.741086e-17], dtype=float32),\n",
       " array([-3.0057696e-03, -3.0050658e-17], dtype=float32)]"
      ]
     },
     "execution_count": 17,
     "metadata": {},
     "output_type": "execute_result"
    }
   ],
   "source": [
    "results"
   ]
  },
  {
   "cell_type": "code",
   "execution_count": 18,
   "metadata": {},
   "outputs": [
    {
     "name": "stdout",
     "output_type": "stream",
     "text": [
      "-0.0030057696\n",
      "-3.0050658e-17\n"
     ]
    }
   ],
   "source": [
    "# w1, w2 sau 30 epochs\n",
    "w1, w2 = results[-1]\n",
    "print(w1)\n",
    "print(w2)"
   ]
  },
  {
   "cell_type": "code",
   "execution_count": 19,
   "metadata": {},
   "outputs": [
    {
     "name": "stderr",
     "output_type": "stream",
     "text": [
      "No artists with labels found to put in legend.  Note that artists whose label start with an underscore are ignored when legend() is called with no argument.\n"
     ]
    },
    {
     "data": {
      "text/plain": [
       "<matplotlib.legend.Legend at 0x286c05753d0>"
      ]
     },
     "execution_count": 19,
     "metadata": {},
     "output_type": "execute_result"
    },
    {
     "data": {
      "image/png": "[encoded data removed]",
      "text/plain": [
       "<Figure size 640x480 with 1 Axes>"
      ]
     },
     "metadata": {},
     "output_type": "display_data"
    }
   ],
   "source": [
    "import matplotlib.pyplot as plt\n",
    "\n",
    "x = np.array(results)[:, 0]\n",
    "y = np.array(results)[:, 1]\n",
    "\n",
    "plt.plot(x, y, 'o-', color='orange')\n",
    "plt.grid(True)\n",
    "plt.legend()"
   ]
  },
  {
   "cell_type": "markdown",
   "metadata": {},
   "source": [
    "#### Adam"
   ]
  },
  {
   "cell_type": "code",
   "execution_count": 20,
   "metadata": {},
   "outputs": [],
   "source": [
    "def adam(W, dW, lr, vt, st, beta1, beta2):\n",
    "    \"\"\"\n",
    "    Thực hiện cập nhật tham số theo thuật toán Adam\n",
    "    Arguments:\n",
    "    W -- array: tham số cần cập nhật \n",
    "    dW -- array: đạo hàm của hàm mất mát theo W\n",
    "    lr -- float: learning rate\n",
    "    vt -- array: momentum tại thời điểm t\n",
    "    st -- array: tích lũy gradient bình phương tại thời điểm t\n",
    "    beta1 -- float: hệ số momentum\n",
    "    beta2 -- float: hệ số tích lũy gradient bình phương\n",
    "    Returns:\n",
    "    W -- array: tham số sau khi cập nhật\n",
    "    vt -- array: momentum sau khi cập nhật\n",
    "    st -- array: tích lũy gradient bình phương sau khi cập nhật\n",
    "    \"\"\"\n",
    "    epsilon = 1e-6\n",
    "    vt = beta1*vt + (1 - beta1)*dW\n",
    "    st = beta2*st + (1 - beta2)*dW**2\n",
    "    v_corr = vt / (1 - beta1)\n",
    "    s_corr = st / (1 - beta2)\n",
    "    W = W - lr*(v_corr / (np.sqrt(s_corr) + epsilon))\n",
    "    return W.astype(np.float32), vt, st\n"
   ]
  },
  {
   "cell_type": "code",
   "execution_count": 27,
   "metadata": {},
   "outputs": [],
   "source": [
    "def adam(W, dW, lr, vt, st, beta1, beta2, t):\n",
    "    epsilon = 1e-6\n",
    "    vt = beta1*vt + (1 - beta1)*dW\n",
    "    st = beta2*st + (1 - beta2)*dW**2\n",
    "    v_corr = vt / (1 - beta1**t)\n",
    "    s_corr = st / (1 - beta2**t)\n",
    "    W = W - lr*(v_corr / (np.sqrt(s_corr) + epsilon))\n",
    "    return W.astype(np.float32), vt, st"
   ]
  },
  {
   "cell_type": "code",
   "execution_count": 28,
   "metadata": {},
   "outputs": [],
   "source": [
    "def train_pl(optimizer, lr, epochs):\n",
    "    \"\"\"\n",
    "    Thực hiện tìm điểm munimum của function f(w1, w2) = 0.1w1**2 + 2w2**2\n",
    "    Arguments: \n",
    "    optimizer: function thực hiện thuật toán optimizer cụ thể\n",
    "    lr -- float: learning rate\n",
    "    epoch -- int: số lượng lần (epoch) lặp để tìm điểm minimum\n",
    "    Returns: \n",
    "    results -- list: list các cặp điểm [w1, w2] sau mỗi epoch\n",
    "    \"\"\"\n",
    "    # initial parameters\n",
    "    W = np.array([-5, -2], dtype=np.float32)\n",
    "    st = np.array([0, 0])\n",
    "    vt = np.array([0, 0])\n",
    "    beta1 = 0.9\n",
    "    beta2 = 0.999\n",
    "    \n",
    "    # list of results\n",
    "    results = [W]\n",
    "    for epoch in range(epochs):\n",
    "        dW = df_W(W)\n",
    "        W, vt, st = optimizer(W=W, dW=dW, lr=lr, vt=vt, st=st, beta1=beta1, beta2=beta2, t=epoch+1)\n",
    "        results.append(W)\n",
    "    return results"
   ]
  },
  {
   "cell_type": "code",
   "execution_count": 29,
   "metadata": {},
   "outputs": [],
   "source": [
    "lr = 0.2\n",
    "epochs = 30\n",
    "results = train_pl(adam, lr, epochs)"
   ]
  },
  {
   "cell_type": "code",
   "execution_count": 30,
   "metadata": {},
   "outputs": [
    {
     "data": {
      "text/plain": [
       "[array([-5., -2.], dtype=float32),\n",
       " array([-4.8      , -1.8000001], dtype=float32),\n",
       " array([-4.6002545, -1.6008246], dtype=float32),\n",
       " array([-4.400948 , -1.4031727], dtype=float32),\n",
       " array([-4.202277 , -1.2078784], dtype=float32),\n",
       " array([-4.00445  , -1.0159276], dtype=float32),\n",
       " array([-3.8076859 , -0.82847315], dtype=float32),\n",
       " array([-3.6122167 , -0.64684165], dtype=float32),\n",
       " array([-3.4182856, -0.4725277], dtype=float32),\n",
       " array([-3.2261467, -0.3071694], dtype=float32),\n",
       " array([-3.0360653 , -0.15249862], dtype=float32),\n",
       " array([-2.8483164 , -0.01026332], dtype=float32),\n",
       " array([-2.663185  ,  0.11787546], dtype=float32),\n",
       " array([-2.4809635 ,  0.23046157], dtype=float32),\n",
       " array([-2.3019524 ,  0.32635868], dtype=float32),\n",
       " array([-2.126457  ,  0.40484193], dtype=float32),\n",
       " array([-1.9547869,  0.4656496], dtype=float32),\n",
       " array([-1.7872533,  0.508988 ], dtype=float32),\n",
       " array([-1.6241668 ,  0.53549445], dtype=float32),\n",
       " array([-1.4658352,  0.5461715], dtype=float32),\n",
       " array([-1.3125602 ,  0.54230815], dtype=float32),\n",
       " array([-1.1646348 ,  0.52540207], dtype=float32),\n",
       " array([-1.0223399,  0.4970906], dtype=float32),\n",
       " array([-0.8859412 ,  0.45909512], dtype=float32),\n",
       " array([-0.75568575,  0.41317782], dtype=float32),\n",
       " array([-0.6317988 ,  0.36110893], dtype=float32),\n",
       " array([-0.51448053,  0.3046405 ], dtype=float32),\n",
       " array([-0.40390313,  0.24548411], dtype=float32),\n",
       " array([-0.3002081,  0.1852892], dtype=float32),\n",
       " array([-0.20350395,  0.12562077], dtype=float32),\n",
       " array([-0.11386428,  0.06793532], dtype=float32)]"
      ]
     },
     "execution_count": 30,
     "metadata": {},
     "output_type": "execute_result"
    }
   ],
   "source": [
    "results"
   ]
  },
  {
   "cell_type": "code",
   "execution_count": 31,
   "metadata": {},
   "outputs": [
    {
     "name": "stdout",
     "output_type": "stream",
     "text": [
      "-0.11386428\n",
      "0.06793532\n"
     ]
    }
   ],
   "source": [
    "# w1, w2 sau 30 epochs\n",
    "w1, w2 = results[-1]\n",
    "print(w1)\n",
    "print(w2)"
   ]
  },
  {
   "cell_type": "code",
   "execution_count": 32,
   "metadata": {},
   "outputs": [
    {
     "name": "stderr",
     "output_type": "stream",
     "text": [
      "No artists with labels found to put in legend.  Note that artists whose label start with an underscore are ignored when legend() is called with no argument.\n"
     ]
    },
    {
     "data": {
      "text/plain": [
       "<matplotlib.legend.Legend at 0x286c1e88490>"
      ]
     },
     "execution_count": 32,
     "metadata": {},
     "output_type": "execute_result"
    },
    {
     "data": {
      "image/png": "[encoded data removed]",
      "text/plain": [
       "<Figure size 640x480 with 1 Axes>"
      ]
     },
     "metadata": {},
     "output_type": "display_data"
    }
   ],
   "source": [
    "import matplotlib.pyplot as plt\n",
    "\n",
    "x = np.array(results)[:, 0]\n",
    "y = np.array(results)[:, 1]\n",
    "\n",
    "plt.plot(x, y, 'o-', color='orange')\n",
    "plt.grid(True)\n",
    "plt.legend()"
   ]
  }
 ],
 "metadata": {
  "kernelspec": {
   "display_name": "aio2024-exercise",
   "language": "python",
   "name": "python3"
  },
  "language_info": {
   "codemirror_mode": {
    "name": "ipython",
    "version": 3
   },
   "file_extension": ".py",
   "mimetype": "text/x-python",
   "name": "python",
   "nbconvert_exporter": "python",
   "pygments_lexer": "ipython3",
   "version": "3.11.9"
  }
 },
 "nbformat": 4,
 "nbformat_minor": 2
}
