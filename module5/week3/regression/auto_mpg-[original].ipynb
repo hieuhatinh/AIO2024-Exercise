{
 "cells": [
  {
   "cell_type": "code",
   "execution_count": 1,
   "metadata": {},
   "outputs": [],
   "source": [
    "import numpy as np\n",
    "import pandas as pd\n",
    "import matplotlib.pyplot as plt\n",
    "import torch\n",
    "import torch.nn as nn\n",
    "import torch.nn.functional as F\n",
    "from torch.utils.data import Dataset,DataLoader\n",
    "\n",
    "from sklearn.model_selection import train_test_split\n",
    "from sklearn.preprocessing import StandardScaler\n",
    "\n",
    "random_seed = 59\n",
    "np.random.seed(random_seed)\n",
    "torch.manual_seed(random_seed)\n",
    "if torch.cuda.is_available():\n",
    "    torch.cuda.manual_seed_all(random_seed)"
   ]
  },
  {
   "cell_type": "code",
   "execution_count": 2,
   "metadata": {},
   "outputs": [],
   "source": [
    "device = torch.device(\"cuda\" if torch.cuda.is_available() else \"cpu\")"
   ]
  },
  {
   "cell_type": "code",
   "execution_count": 3,
   "metadata": {},
   "outputs": [],
   "source": [
    "dataset_path = '../data/Auto_MPG_data.csv'\n",
    "dataset = pd.read_csv(dataset_path)"
   ]
  },
  {
   "cell_type": "code",
   "execution_count": 4,
   "metadata": {},
   "outputs": [],
   "source": [
    "X = dataset.drop(columns='MPG').values\n",
    "y = dataset['MPG'].values"
   ]
  },
  {
   "cell_type": "code",
   "execution_count": 5,
   "metadata": {},
   "outputs": [
    {
     "data": {
      "text/plain": [
       "array([[8.000e+00, 3.070e+02, 1.300e+02, 3.504e+03, 1.200e+01, 7.000e+01,\n",
       "        0.000e+00, 0.000e+00, 1.000e+00],\n",
       "       [8.000e+00, 3.500e+02, 1.650e+02, 3.693e+03, 1.150e+01, 7.000e+01,\n",
       "        0.000e+00, 0.000e+00, 1.000e+00],\n",
       "       [8.000e+00, 3.180e+02, 1.500e+02, 3.436e+03, 1.100e+01, 7.000e+01,\n",
       "        0.000e+00, 0.000e+00, 1.000e+00],\n",
       "       [8.000e+00, 3.040e+02, 1.500e+02, 3.433e+03, 1.200e+01, 7.000e+01,\n",
       "        0.000e+00, 0.000e+00, 1.000e+00],\n",
       "       [8.000e+00, 3.020e+02, 1.400e+02, 3.449e+03, 1.050e+01, 7.000e+01,\n",
       "        0.000e+00, 0.000e+00, 1.000e+00],\n",
       "       [8.000e+00, 4.290e+02, 1.980e+02, 4.341e+03, 1.000e+01, 7.000e+01,\n",
       "        0.000e+00, 0.000e+00, 1.000e+00],\n",
       "       [8.000e+00, 4.540e+02, 2.200e+02, 4.354e+03, 9.000e+00, 7.000e+01,\n",
       "        0.000e+00, 0.000e+00, 1.000e+00],\n",
       "       [8.000e+00, 4.400e+02, 2.150e+02, 4.312e+03, 8.500e+00, 7.000e+01,\n",
       "        0.000e+00, 0.000e+00, 1.000e+00],\n",
       "       [8.000e+00, 4.550e+02, 2.250e+02, 4.425e+03, 1.000e+01, 7.000e+01,\n",
       "        0.000e+00, 0.000e+00, 1.000e+00],\n",
       "       [8.000e+00, 3.900e+02, 1.900e+02, 3.850e+03, 8.500e+00, 7.000e+01,\n",
       "        0.000e+00, 0.000e+00, 1.000e+00]])"
      ]
     },
     "execution_count": 5,
     "metadata": {},
     "output_type": "execute_result"
    }
   ],
   "source": [
    "X[:10]"
   ]
  },
  {
   "cell_type": "code",
   "execution_count": 6,
   "metadata": {},
   "outputs": [],
   "source": [
    "val_size = 0.2\n",
    "test_size = 0.2\n",
    "is_shuffle = True\n",
    "\n",
    "X_train, X_val, y_train, y_val = train_test_split(\n",
    "    X, y, \n",
    "    test_size=val_size, \n",
    "    random_state=random_seed, \n",
    "    shuffle=is_shuffle\n",
    ")\n",
    "\n",
    "X_train, X_test, y_train, y_test = train_test_split(\n",
    "    X, y, \n",
    "    test_size=test_size, \n",
    "    random_state=random_seed, \n",
    "    shuffle=is_shuffle\n",
    ")"
   ]
  },
  {
   "cell_type": "code",
   "execution_count": 7,
   "metadata": {},
   "outputs": [],
   "source": [
    "# Chuẩn hóa đặc trưng đầu vào\n",
    "normallizer = StandardScaler()\n",
    "X_train = normallizer.fit_transform(X_train)\n",
    "X_val = normallizer.transform(X_val)\n",
    "X_test = normallizer.transform(X_test)\n",
    "\n",
    "X_train = torch.tensor(X_train, dtype=torch.float32)\n",
    "X_val = torch.tensor(X_val, dtype=torch.float32)\n",
    "X_test = torch.tensor(X_test, dtype=torch.float32)\n",
    "\n",
    "y_train = torch.tensor(y_train, dtype=torch.float32)\n",
    "y_val = torch.tensor(y_val, dtype=torch.float32)\n",
    "y_test = torch.tensor(y_test, dtype=torch.float32)"
   ]
  },
  {
   "cell_type": "markdown",
   "metadata": {},
   "source": [
    "#### Xây dựng DataLoader\n"
   ]
  },
  {
   "cell_type": "code",
   "execution_count": 8,
   "metadata": {},
   "outputs": [],
   "source": [
    "class CustomDataset(Dataset):\n",
    "    def __init__(self, X, y):\n",
    "        self.X = X\n",
    "        self.y = y\n",
    "\n",
    "    def __len__(self):\n",
    "        return len(self.y)\n",
    "    \n",
    "    def __getitem__(self, idx):\n",
    "        return self.X[idx], self.y[idx]"
   ]
  },
  {
   "cell_type": "code",
   "execution_count": 9,
   "metadata": {},
   "outputs": [],
   "source": [
    "batch_size = 32\n",
    "train_dataset = CustomDataset(X_train, y_train)\n",
    "val_dataset = CustomDataset(X_val, y_val)\n",
    "train_loader = DataLoader(train_dataset, \n",
    "                          batch_size=batch_size, \n",
    "                          shuffle=True)\n",
    "val_loader = DataLoader(val_dataset, \n",
    "                        batch_size=batch_size, \n",
    "                        shuffle=False)"
   ]
  },
  {
   "cell_type": "markdown",
   "metadata": {},
   "source": [
    "#### Xây dựng mạng MLP"
   ]
  },
  {
   "cell_type": "code",
   "execution_count": 10,
   "metadata": {},
   "outputs": [],
   "source": [
    "class MLP(nn.Module):\n",
    "    def __init__(self, input_dims, hidden_dims, output_dims):\n",
    "        super().__init__()\n",
    "        self.linear1 = nn.Linear(input_dims, hidden_dims)\n",
    "        self.linear2 = nn.Linear(hidden_dims, hidden_dims)\n",
    "        self.output = nn.Linear(hidden_dims, output_dims)\n",
    "\n",
    "    def forward(self, x):\n",
    "        x = self.linear1(x)\n",
    "        x = F.relu(x)\n",
    "        x = self.linear2(x)\n",
    "        x = F.relu(x)\n",
    "        out = self.output(x)\n",
    "        return out.squeeze(1)"
   ]
  },
  {
   "cell_type": "code",
   "execution_count": 11,
   "metadata": {},
   "outputs": [],
   "source": [
    "input_dims = X_train.shape[1]\n",
    "output_dims = 1\n",
    "hidden_dims = 64\n",
    "\n",
    "model = MLP(input_dims=input_dims, \n",
    "            hidden_dims=hidden_dims, \n",
    "            output_dims=output_dims).to(device)"
   ]
  },
  {
   "cell_type": "markdown",
   "metadata": {},
   "source": [
    "#### Khai báo hàm loss và optimizer\n"
   ]
  },
  {
   "cell_type": "code",
   "execution_count": 12,
   "metadata": {},
   "outputs": [],
   "source": [
    "lr = 1e-2\n",
    "criterion = nn.MSELoss()\n",
    "optimizer = torch.optim.SGD(model.parameters(), lr=lr)"
   ]
  },
  {
   "cell_type": "markdown",
   "metadata": {},
   "source": [
    "#### Xây dựng hàm tính điểm R2"
   ]
  },
  {
   "cell_type": "code",
   "execution_count": 13,
   "metadata": {},
   "outputs": [],
   "source": [
    "def r_squared(y_true, y_pred):\n",
    "    y_true = torch.tensor(y_true).to(device)\n",
    "    y_pred = torch.tensor(y_pred).to(device)\n",
    "    mean_true = torch.mean(y_true)\n",
    "    ss_tot = torch.sum((y_true - mean_true) ** 2)\n",
    "    ss_res = torch.sum((y_true - y_pred) ** 2)\n",
    "    r2 = 1 - (ss_res / ss_tot)\n",
    "    return r2"
   ]
  },
  {
   "cell_type": "markdown",
   "metadata": {},
   "source": [
    "#### Huấn luyện mô hình\n"
   ]
  },
  {
   "cell_type": "code",
   "execution_count": 14,
   "metadata": {},
   "outputs": [
    {
     "name": "stdout",
     "output_type": "stream",
     "text": [
      "Epoch 1:\tTraining Loss: 370.184\t Validation Loss: 342.746\n",
      "Epoch 2:\tTraining Loss: 108.024\t Validation Loss: 23.914\n",
      "Epoch 3:\tTraining Loss: 117.764\t Validation Loss: 8.690\n",
      "Epoch 4:\tTraining Loss: 15.857\t Validation Loss: 80.605\n",
      "Epoch 5:\tTraining Loss: 21.284\t Validation Loss: 39.420\n",
      "Epoch 6:\tTraining Loss: 26.367\t Validation Loss: 25.093\n",
      "Epoch 7:\tTraining Loss: 22.064\t Validation Loss: 66.739\n",
      "Epoch 8:\tTraining Loss: 19.095\t Validation Loss: 16.712\n",
      "Epoch 9:\tTraining Loss: 18.052\t Validation Loss: 5.877\n",
      "Epoch 10:\tTraining Loss: 13.531\t Validation Loss: 6.876\n",
      "Epoch 11:\tTraining Loss: 14.061\t Validation Loss: 6.865\n",
      "Epoch 12:\tTraining Loss: 9.709\t Validation Loss: 17.316\n",
      "Epoch 13:\tTraining Loss: 15.032\t Validation Loss: 12.581\n",
      "Epoch 14:\tTraining Loss: 16.554\t Validation Loss: 6.267\n",
      "Epoch 15:\tTraining Loss: 7.905\t Validation Loss: 5.949\n",
      "Epoch 16:\tTraining Loss: 12.148\t Validation Loss: 5.750\n",
      "Epoch 17:\tTraining Loss: 8.633\t Validation Loss: 6.926\n",
      "Epoch 18:\tTraining Loss: 10.678\t Validation Loss: 20.964\n",
      "Epoch 19:\tTraining Loss: 11.960\t Validation Loss: 5.534\n",
      "Epoch 20:\tTraining Loss: 8.980\t Validation Loss: 5.639\n",
      "Epoch 21:\tTraining Loss: 8.947\t Validation Loss: 32.674\n",
      "Epoch 22:\tTraining Loss: 10.313\t Validation Loss: 5.377\n",
      "Epoch 23:\tTraining Loss: 7.734\t Validation Loss: 14.217\n",
      "Epoch 24:\tTraining Loss: 8.353\t Validation Loss: 4.979\n",
      "Epoch 25:\tTraining Loss: 8.473\t Validation Loss: 12.374\n",
      "Epoch 26:\tTraining Loss: 6.691\t Validation Loss: 6.612\n",
      "Epoch 27:\tTraining Loss: 8.310\t Validation Loss: 4.809\n",
      "Epoch 28:\tTraining Loss: 6.551\t Validation Loss: 4.916\n",
      "Epoch 29:\tTraining Loss: 6.493\t Validation Loss: 5.284\n",
      "Epoch 30:\tTraining Loss: 7.380\t Validation Loss: 5.303\n",
      "Epoch 31:\tTraining Loss: 6.924\t Validation Loss: 4.840\n",
      "Epoch 32:\tTraining Loss: 6.232\t Validation Loss: 5.374\n",
      "Epoch 33:\tTraining Loss: 6.072\t Validation Loss: 33.215\n",
      "Epoch 34:\tTraining Loss: 14.061\t Validation Loss: 7.634\n",
      "Epoch 35:\tTraining Loss: 10.544\t Validation Loss: 5.604\n",
      "Epoch 36:\tTraining Loss: 7.683\t Validation Loss: 4.675\n",
      "Epoch 37:\tTraining Loss: 8.806\t Validation Loss: 5.827\n",
      "Epoch 38:\tTraining Loss: 8.485\t Validation Loss: 10.255\n",
      "Epoch 39:\tTraining Loss: 6.629\t Validation Loss: 4.497\n",
      "Epoch 40:\tTraining Loss: 5.779\t Validation Loss: 6.719\n",
      "Epoch 41:\tTraining Loss: 7.419\t Validation Loss: 5.009\n",
      "Epoch 42:\tTraining Loss: 8.780\t Validation Loss: 11.929\n",
      "Epoch 43:\tTraining Loss: 11.088\t Validation Loss: 48.573\n",
      "Epoch 44:\tTraining Loss: 14.087\t Validation Loss: 19.678\n",
      "Epoch 45:\tTraining Loss: 13.419\t Validation Loss: 5.698\n",
      "Epoch 46:\tTraining Loss: 7.641\t Validation Loss: 5.077\n",
      "Epoch 47:\tTraining Loss: 6.698\t Validation Loss: 4.727\n",
      "Epoch 48:\tTraining Loss: 6.363\t Validation Loss: 6.751\n",
      "Epoch 49:\tTraining Loss: 6.432\t Validation Loss: 8.218\n",
      "Epoch 50:\tTraining Loss: 9.673\t Validation Loss: 7.565\n",
      "Epoch 51:\tTraining Loss: 9.654\t Validation Loss: 4.272\n",
      "Epoch 52:\tTraining Loss: 7.128\t Validation Loss: 12.747\n",
      "Epoch 53:\tTraining Loss: 7.714\t Validation Loss: 5.351\n",
      "Epoch 54:\tTraining Loss: 8.951\t Validation Loss: 4.946\n",
      "Epoch 55:\tTraining Loss: 5.988\t Validation Loss: 5.268\n",
      "Epoch 56:\tTraining Loss: 5.606\t Validation Loss: 5.361\n",
      "Epoch 57:\tTraining Loss: 6.242\t Validation Loss: 4.580\n",
      "Epoch 58:\tTraining Loss: 6.844\t Validation Loss: 4.503\n",
      "Epoch 59:\tTraining Loss: 6.814\t Validation Loss: 4.751\n",
      "Epoch 60:\tTraining Loss: 6.231\t Validation Loss: 6.185\n",
      "Epoch 61:\tTraining Loss: 6.844\t Validation Loss: 5.166\n",
      "Epoch 62:\tTraining Loss: 6.326\t Validation Loss: 5.512\n",
      "Epoch 63:\tTraining Loss: 5.468\t Validation Loss: 4.799\n",
      "Epoch 64:\tTraining Loss: 5.533\t Validation Loss: 5.170\n",
      "Epoch 65:\tTraining Loss: 9.382\t Validation Loss: 6.682\n",
      "Epoch 66:\tTraining Loss: 6.526\t Validation Loss: 5.335\n",
      "Epoch 67:\tTraining Loss: 5.824\t Validation Loss: 4.283\n",
      "Epoch 68:\tTraining Loss: 6.494\t Validation Loss: 7.891\n",
      "Epoch 69:\tTraining Loss: 6.289\t Validation Loss: 11.482\n",
      "Epoch 70:\tTraining Loss: 6.219\t Validation Loss: 7.265\n",
      "Epoch 71:\tTraining Loss: 5.722\t Validation Loss: 5.677\n",
      "Epoch 72:\tTraining Loss: 5.615\t Validation Loss: 7.301\n",
      "Epoch 73:\tTraining Loss: 6.357\t Validation Loss: 5.129\n",
      "Epoch 74:\tTraining Loss: 6.889\t Validation Loss: 5.375\n",
      "Epoch 75:\tTraining Loss: 6.493\t Validation Loss: 12.001\n",
      "Epoch 76:\tTraining Loss: 8.573\t Validation Loss: 13.385\n",
      "Epoch 77:\tTraining Loss: 6.855\t Validation Loss: 9.676\n",
      "Epoch 78:\tTraining Loss: 5.342\t Validation Loss: 4.703\n",
      "Epoch 79:\tTraining Loss: 7.923\t Validation Loss: 4.956\n",
      "Epoch 80:\tTraining Loss: 7.286\t Validation Loss: 18.260\n",
      "Epoch 81:\tTraining Loss: 7.996\t Validation Loss: 5.369\n",
      "Epoch 82:\tTraining Loss: 7.039\t Validation Loss: 4.473\n",
      "Epoch 83:\tTraining Loss: 5.834\t Validation Loss: 5.680\n",
      "Epoch 84:\tTraining Loss: 7.368\t Validation Loss: 5.532\n",
      "Epoch 85:\tTraining Loss: 6.915\t Validation Loss: 6.650\n",
      "Epoch 86:\tTraining Loss: 6.356\t Validation Loss: 5.980\n",
      "Epoch 87:\tTraining Loss: 5.766\t Validation Loss: 4.664\n",
      "Epoch 88:\tTraining Loss: 8.164\t Validation Loss: 5.298\n",
      "Epoch 89:\tTraining Loss: 5.958\t Validation Loss: 6.253\n",
      "Epoch 90:\tTraining Loss: 6.456\t Validation Loss: 5.183\n",
      "Epoch 91:\tTraining Loss: 6.779\t Validation Loss: 5.872\n",
      "Epoch 92:\tTraining Loss: 5.286\t Validation Loss: 5.120\n",
      "Epoch 93:\tTraining Loss: 5.804\t Validation Loss: 7.452\n",
      "Epoch 94:\tTraining Loss: 6.205\t Validation Loss: 7.876\n",
      "Epoch 95:\tTraining Loss: 5.619\t Validation Loss: 7.423\n",
      "Epoch 96:\tTraining Loss: 6.513\t Validation Loss: 11.475\n",
      "Epoch 97:\tTraining Loss: 7.798\t Validation Loss: 6.709\n",
      "Epoch 98:\tTraining Loss: 5.963\t Validation Loss: 8.481\n",
      "Epoch 99:\tTraining Loss: 4.953\t Validation Loss: 10.624\n",
      "Epoch 100:\tTraining Loss: 5.527\t Validation Loss: 4.718\n"
     ]
    }
   ],
   "source": [
    "epochs = 100\n",
    "train_losses = []\n",
    "val_losses = []\n",
    "train_r2 = []\n",
    "val_r2 = []\n",
    "\n",
    "for epoch in range(epochs):\n",
    "    train_loss = 0.0\n",
    "    train_target = []\n",
    "    val_target = []\n",
    "    train_predict = []\n",
    "    val_predict = []\n",
    "    model.train()\n",
    "    for X_samples, y_samples in train_loader:\n",
    "        X_samples = X_samples.to(device)\n",
    "        y_samples = y_samples.to(device)\n",
    "\n",
    "        optimizer.zero_grad()\n",
    "        outputs = model(X_samples)\n",
    "        train_predict += outputs.tolist()\n",
    "        train_target += y_samples.tolist()\n",
    "        loss = criterion(outputs, y_samples)\n",
    "        loss.backward()\n",
    "        optimizer.step()\n",
    "        train_loss += loss.item()\n",
    "\n",
    "    train_loss /= len(train_loader)\n",
    "    train_losses.append(train_loss)\n",
    "\n",
    "    train_r2.append(r_squared(train_target, train_predict))\n",
    "\n",
    "    model.eval()\n",
    "    val_loss = 0.0\n",
    "    with torch.no_grad():\n",
    "        for X_samples, y_samples in val_loader:\n",
    "            X_samples = X_samples.to(device)\n",
    "            y_samples = y_samples.to(device)\n",
    "            outputs = model(X_samples)\n",
    "            val_predict += outputs.tolist()\n",
    "            val_target += y_samples.tolist()\n",
    "            loss = criterion(outputs, y_samples)\n",
    "            val_loss += loss.item()\n",
    "\n",
    "    val_loss /= len(val_loader)\n",
    "    val_losses.append(val_loss)\n",
    "    \n",
    "    val_r2.append(r_squared(val_target, val_predict))\n",
    "    print(f'Epoch {epoch+1}:\\tTraining Loss: {train_loss:.3f}\\t Validation Loss: {val_loss:.3f}')"
   ]
  },
  {
   "cell_type": "markdown",
   "metadata": {},
   "source": [
    "#### Đánh giá mô hình\n"
   ]
  },
  {
   "cell_type": "code",
   "execution_count": 15,
   "metadata": {},
   "outputs": [
    {
     "name": "stdout",
     "output_type": "stream",
     "text": [
      "Evaluation on test set:\n",
      "R2: 0.9191398024559021\n"
     ]
    },
    {
     "name": "stderr",
     "output_type": "stream",
     "text": [
      "C:\\Users\\FPTSHOP\\AppData\\Local\\Temp\\ipykernel_6852\\1949884570.py:2: UserWarning: To copy construct from a tensor, it is recommended to use sourceTensor.clone().detach() or sourceTensor.clone().detach().requires_grad_(True), rather than torch.tensor(sourceTensor).\n",
      "  y_true = torch.tensor(y_true).to(device)\n",
      "C:\\Users\\FPTSHOP\\AppData\\Local\\Temp\\ipykernel_6852\\1949884570.py:3: UserWarning: To copy construct from a tensor, it is recommended to use sourceTensor.clone().detach() or sourceTensor.clone().detach().requires_grad_(True), rather than torch.tensor(sourceTensor).\n",
      "  y_pred = torch.tensor(y_pred).to(device)\n"
     ]
    }
   ],
   "source": [
    "model.eval()\n",
    "with torch.no_grad():\n",
    "    y_hat = model(X_test.to(device))\n",
    "    test_set_r2 = r_squared(y_test, y_hat)\n",
    "    print('Evaluation on test set:')\n",
    "    print(f'R2: {test_set_r2}')"
   ]
  }
 ],
 "metadata": {
  "kernelspec": {
   "display_name": "aio2024-exercise",
   "language": "python",
   "name": "python3"
  },
  "language_info": {
   "codemirror_mode": {
    "name": "ipython",
    "version": 3
   },
   "file_extension": ".py",
   "mimetype": "text/x-python",
   "name": "python",
   "nbconvert_exporter": "python",
   "pygments_lexer": "ipython3",
   "version": "3.11.9"
  }
 },
 "nbformat": 4,
 "nbformat_minor": 2
}
