{
 "cells": [
  {
   "cell_type": "code",
   "execution_count": 1,
   "metadata": {},
   "outputs": [],
   "source": [
    "import numpy as np\n",
    "import pandas as pd\n",
    "import matplotlib.pyplot as plt\n",
    "import torch\n",
    "import torch.nn as nn\n",
    "import torch.nn.functional as F\n",
    "from torch.utils.data import Dataset,DataLoader\n",
    "\n",
    "from sklearn.model_selection import train_test_split\n",
    "from sklearn.preprocessing import StandardScaler\n",
    "\n",
    "random_seed = 59\n",
    "np.random.seed(random_seed)\n",
    "torch.manual_seed(random_seed)\n",
    "if torch.cuda.is_available():\n",
    "    torch.cuda.manual_seed_all(random_seed)"
   ]
  },
  {
   "cell_type": "code",
   "execution_count": 2,
   "metadata": {},
   "outputs": [],
   "source": [
    "device = torch.device(\"cuda\" if torch.cuda.is_available() else \"cpu\")"
   ]
  },
  {
   "cell_type": "code",
   "execution_count": 3,
   "metadata": {},
   "outputs": [],
   "source": [
    "dataset_path = '../data/Auto_MPG_data.csv'\n",
    "dataset = pd.read_csv(dataset_path)"
   ]
  },
  {
   "cell_type": "code",
   "execution_count": 4,
   "metadata": {},
   "outputs": [],
   "source": [
    "X = dataset.drop(columns='MPG').values\n",
    "y = dataset['MPG'].values"
   ]
  },
  {
   "cell_type": "code",
   "execution_count": 5,
   "metadata": {},
   "outputs": [
    {
     "data": {
      "text/plain": [
       "array([[8.000e+00, 3.070e+02, 1.300e+02, 3.504e+03, 1.200e+01, 7.000e+01,\n",
       "        0.000e+00, 0.000e+00, 1.000e+00],\n",
       "       [8.000e+00, 3.500e+02, 1.650e+02, 3.693e+03, 1.150e+01, 7.000e+01,\n",
       "        0.000e+00, 0.000e+00, 1.000e+00],\n",
       "       [8.000e+00, 3.180e+02, 1.500e+02, 3.436e+03, 1.100e+01, 7.000e+01,\n",
       "        0.000e+00, 0.000e+00, 1.000e+00],\n",
       "       [8.000e+00, 3.040e+02, 1.500e+02, 3.433e+03, 1.200e+01, 7.000e+01,\n",
       "        0.000e+00, 0.000e+00, 1.000e+00],\n",
       "       [8.000e+00, 3.020e+02, 1.400e+02, 3.449e+03, 1.050e+01, 7.000e+01,\n",
       "        0.000e+00, 0.000e+00, 1.000e+00],\n",
       "       [8.000e+00, 4.290e+02, 1.980e+02, 4.341e+03, 1.000e+01, 7.000e+01,\n",
       "        0.000e+00, 0.000e+00, 1.000e+00],\n",
       "       [8.000e+00, 4.540e+02, 2.200e+02, 4.354e+03, 9.000e+00, 7.000e+01,\n",
       "        0.000e+00, 0.000e+00, 1.000e+00],\n",
       "       [8.000e+00, 4.400e+02, 2.150e+02, 4.312e+03, 8.500e+00, 7.000e+01,\n",
       "        0.000e+00, 0.000e+00, 1.000e+00],\n",
       "       [8.000e+00, 4.550e+02, 2.250e+02, 4.425e+03, 1.000e+01, 7.000e+01,\n",
       "        0.000e+00, 0.000e+00, 1.000e+00],\n",
       "       [8.000e+00, 3.900e+02, 1.900e+02, 3.850e+03, 8.500e+00, 7.000e+01,\n",
       "        0.000e+00, 0.000e+00, 1.000e+00]])"
      ]
     },
     "execution_count": 5,
     "metadata": {},
     "output_type": "execute_result"
    }
   ],
   "source": [
    "X[:10]"
   ]
  },
  {
   "cell_type": "code",
   "execution_count": 6,
   "metadata": {},
   "outputs": [],
   "source": [
    "val_size = 0.2\n",
    "test_size = 0.125\n",
    "is_shuffle = True\n",
    "\n",
    "X_train, X_val, y_train, y_val = train_test_split(\n",
    "    X, y, \n",
    "    test_size=val_size, \n",
    "    random_state=random_seed, \n",
    "    shuffle=is_shuffle\n",
    ")\n",
    "\n",
    "X_train, X_test, y_train, y_test = train_test_split(\n",
    "    X, y, \n",
    "    test_size=test_size, \n",
    "    random_state=random_seed, \n",
    "    shuffle=is_shuffle\n",
    ")"
   ]
  },
  {
   "cell_type": "code",
   "execution_count": 7,
   "metadata": {},
   "outputs": [],
   "source": [
    "# Chuẩn hóa đặc trưng đầu vào\n",
    "normallizer = StandardScaler()\n",
    "X_train = normallizer.fit_transform(X_train)\n",
    "X_val = normallizer.transform(X_val)\n",
    "X_test = normallizer.transform(X_test)\n",
    "\n",
    "X_train = torch.tensor(X_train, dtype=torch.float32)\n",
    "X_val = torch.tensor(X_val, dtype=torch.float32)\n",
    "X_test = torch.tensor(X_test, dtype=torch.float32)\n",
    "\n",
    "y_train = torch.tensor(y_train, dtype=torch.float32)\n",
    "y_val = torch.tensor(y_val, dtype=torch.float32)\n",
    "y_test = torch.tensor(y_test, dtype=torch.float32)"
   ]
  },
  {
   "cell_type": "markdown",
   "metadata": {},
   "source": [
    "#### Xây dựng DataLoader\n"
   ]
  },
  {
   "cell_type": "code",
   "execution_count": 8,
   "metadata": {},
   "outputs": [],
   "source": [
    "class CustomDataset(Dataset):\n",
    "    def __init__(self, X, y):\n",
    "        self.X = X\n",
    "        self.y = y\n",
    "\n",
    "    def __len__(self):\n",
    "        return len(self.y)\n",
    "    \n",
    "    def __getitem__(self, idx):\n",
    "        return self.X[idx], self.y[idx]"
   ]
  },
  {
   "cell_type": "code",
   "execution_count": 9,
   "metadata": {},
   "outputs": [],
   "source": [
    "batch_size = 32\n",
    "train_dataset = CustomDataset(X_train, y_train)\n",
    "val_dataset = CustomDataset(X_val, y_val)\n",
    "train_loader = DataLoader(train_dataset, \n",
    "                          batch_size=batch_size, \n",
    "                          shuffle=True)\n",
    "val_loader = DataLoader(val_dataset, \n",
    "                        batch_size=batch_size, \n",
    "                        shuffle=False)"
   ]
  },
  {
   "cell_type": "markdown",
   "metadata": {},
   "source": [
    "#### Xây dựng mạng MLP"
   ]
  },
  {
   "cell_type": "code",
   "execution_count": 10,
   "metadata": {},
   "outputs": [],
   "source": [
    "class MLP(nn.Module):\n",
    "    def __init__(self, input_dims, hidden_dims, output_dims):\n",
    "        super().__init__()\n",
    "        self.linear1 = nn.Linear(input_dims, hidden_dims)\n",
    "        self.linear2 = nn.Linear(hidden_dims, hidden_dims)\n",
    "        self.output = nn.Linear(hidden_dims, output_dims)\n",
    "\n",
    "    def forward(self, x):\n",
    "        x = self.linear1(x)\n",
    "        x = F.sigmoid(x)\n",
    "        x = self.linear2(x)\n",
    "        x = F.sigmoid(x)\n",
    "        out = self.output(x)\n",
    "        return out.squeeze(1)"
   ]
  },
  {
   "cell_type": "code",
   "execution_count": 11,
   "metadata": {},
   "outputs": [],
   "source": [
    "input_dims = X_train.shape[1]\n",
    "output_dims = 1\n",
    "hidden_dims = 64\n",
    "\n",
    "model = MLP(input_dims=input_dims, \n",
    "            hidden_dims=hidden_dims, \n",
    "            output_dims=output_dims).to(device)"
   ]
  },
  {
   "cell_type": "markdown",
   "metadata": {},
   "source": [
    "#### Khai báo hàm loss và optimizer\n"
   ]
  },
  {
   "cell_type": "code",
   "execution_count": 12,
   "metadata": {},
   "outputs": [],
   "source": [
    "lr = 1e-2\n",
    "criterion = nn.MSELoss()\n",
    "optimizer = torch.optim.SGD(model.parameters(), lr=lr)"
   ]
  },
  {
   "cell_type": "markdown",
   "metadata": {},
   "source": [
    "#### Xây dựng hàm tính điểm R2"
   ]
  },
  {
   "cell_type": "code",
   "execution_count": 13,
   "metadata": {},
   "outputs": [],
   "source": [
    "def r_squared(y_true, y_pred):\n",
    "    y_true = torch.tensor(y_true).to(device)\n",
    "    y_pred = torch.tensor(y_pred).to(device)\n",
    "    mean_true = torch.mean(y_true)\n",
    "    ss_tot = torch.sum((y_true - mean_true) ** 2)\n",
    "    ss_res = torch.sum((y_true - y_pred) ** 2)\n",
    "    r2 = 1 - (ss_res / ss_tot)\n",
    "    return r2"
   ]
  },
  {
   "cell_type": "markdown",
   "metadata": {},
   "source": [
    "#### Huấn luyện mô hình\n"
   ]
  },
  {
   "cell_type": "code",
   "execution_count": 14,
   "metadata": {},
   "outputs": [
    {
     "name": "stdout",
     "output_type": "stream",
     "text": [
      "Epoch 1:\tTraining Loss: 145.063\t Validation Loss: 51.141\n",
      "Epoch 2:\tTraining Loss: 41.492\t Validation Loss: 31.461\n",
      "Epoch 3:\tTraining Loss: 28.094\t Validation Loss: 15.389\n",
      "Epoch 4:\tTraining Loss: 19.742\t Validation Loss: 11.732\n",
      "Epoch 5:\tTraining Loss: 17.508\t Validation Loss: 8.592\n",
      "Epoch 6:\tTraining Loss: 15.628\t Validation Loss: 8.000\n",
      "Epoch 7:\tTraining Loss: 14.260\t Validation Loss: 7.760\n",
      "Epoch 8:\tTraining Loss: 13.974\t Validation Loss: 7.621\n",
      "Epoch 9:\tTraining Loss: 12.719\t Validation Loss: 7.433\n",
      "Epoch 10:\tTraining Loss: 12.041\t Validation Loss: 8.078\n",
      "Epoch 11:\tTraining Loss: 11.900\t Validation Loss: 7.297\n",
      "Epoch 12:\tTraining Loss: 11.306\t Validation Loss: 7.041\n",
      "Epoch 13:\tTraining Loss: 11.248\t Validation Loss: 6.963\n",
      "Epoch 14:\tTraining Loss: 11.954\t Validation Loss: 7.076\n",
      "Epoch 15:\tTraining Loss: 10.455\t Validation Loss: 6.768\n",
      "Epoch 16:\tTraining Loss: 10.407\t Validation Loss: 6.593\n",
      "Epoch 17:\tTraining Loss: 10.364\t Validation Loss: 9.093\n",
      "Epoch 18:\tTraining Loss: 10.547\t Validation Loss: 7.054\n",
      "Epoch 19:\tTraining Loss: 9.613\t Validation Loss: 6.190\n",
      "Epoch 20:\tTraining Loss: 9.488\t Validation Loss: 6.227\n",
      "Epoch 21:\tTraining Loss: 9.488\t Validation Loss: 6.364\n",
      "Epoch 22:\tTraining Loss: 9.288\t Validation Loss: 5.770\n",
      "Epoch 23:\tTraining Loss: 9.609\t Validation Loss: 6.916\n",
      "Epoch 24:\tTraining Loss: 9.227\t Validation Loss: 5.682\n",
      "Epoch 25:\tTraining Loss: 9.279\t Validation Loss: 5.801\n",
      "Epoch 26:\tTraining Loss: 8.961\t Validation Loss: 5.846\n",
      "Epoch 27:\tTraining Loss: 8.817\t Validation Loss: 6.867\n",
      "Epoch 28:\tTraining Loss: 8.724\t Validation Loss: 5.886\n",
      "Epoch 29:\tTraining Loss: 9.009\t Validation Loss: 5.470\n",
      "Epoch 30:\tTraining Loss: 8.915\t Validation Loss: 5.904\n",
      "Epoch 31:\tTraining Loss: 8.439\t Validation Loss: 7.655\n",
      "Epoch 32:\tTraining Loss: 8.795\t Validation Loss: 5.349\n",
      "Epoch 33:\tTraining Loss: 8.857\t Validation Loss: 5.333\n",
      "Epoch 34:\tTraining Loss: 8.283\t Validation Loss: 5.854\n",
      "Epoch 35:\tTraining Loss: 8.020\t Validation Loss: 5.185\n",
      "Epoch 36:\tTraining Loss: 8.180\t Validation Loss: 6.506\n",
      "Epoch 37:\tTraining Loss: 8.497\t Validation Loss: 4.932\n",
      "Epoch 38:\tTraining Loss: 8.344\t Validation Loss: 6.712\n",
      "Epoch 39:\tTraining Loss: 8.032\t Validation Loss: 4.941\n",
      "Epoch 40:\tTraining Loss: 8.128\t Validation Loss: 4.929\n",
      "Epoch 41:\tTraining Loss: 8.149\t Validation Loss: 5.297\n",
      "Epoch 42:\tTraining Loss: 8.073\t Validation Loss: 5.326\n",
      "Epoch 43:\tTraining Loss: 7.946\t Validation Loss: 5.090\n",
      "Epoch 44:\tTraining Loss: 8.456\t Validation Loss: 5.314\n",
      "Epoch 45:\tTraining Loss: 8.725\t Validation Loss: 5.257\n",
      "Epoch 46:\tTraining Loss: 8.039\t Validation Loss: 5.046\n",
      "Epoch 47:\tTraining Loss: 8.088\t Validation Loss: 5.561\n",
      "Epoch 48:\tTraining Loss: 8.189\t Validation Loss: 8.209\n",
      "Epoch 49:\tTraining Loss: 8.247\t Validation Loss: 5.063\n",
      "Epoch 50:\tTraining Loss: 7.847\t Validation Loss: 5.329\n",
      "Epoch 51:\tTraining Loss: 8.457\t Validation Loss: 4.847\n",
      "Epoch 52:\tTraining Loss: 7.821\t Validation Loss: 5.086\n",
      "Epoch 53:\tTraining Loss: 8.040\t Validation Loss: 5.132\n",
      "Epoch 54:\tTraining Loss: 7.859\t Validation Loss: 5.548\n",
      "Epoch 55:\tTraining Loss: 7.866\t Validation Loss: 4.734\n",
      "Epoch 56:\tTraining Loss: 8.798\t Validation Loss: 8.916\n",
      "Epoch 57:\tTraining Loss: 8.182\t Validation Loss: 4.609\n",
      "Epoch 58:\tTraining Loss: 7.984\t Validation Loss: 4.796\n",
      "Epoch 59:\tTraining Loss: 7.818\t Validation Loss: 5.241\n",
      "Epoch 60:\tTraining Loss: 7.800\t Validation Loss: 5.009\n",
      "Epoch 61:\tTraining Loss: 7.657\t Validation Loss: 5.409\n",
      "Epoch 62:\tTraining Loss: 7.946\t Validation Loss: 6.551\n",
      "Epoch 63:\tTraining Loss: 7.856\t Validation Loss: 4.687\n",
      "Epoch 64:\tTraining Loss: 7.793\t Validation Loss: 4.686\n",
      "Epoch 65:\tTraining Loss: 8.315\t Validation Loss: 4.616\n",
      "Epoch 66:\tTraining Loss: 7.901\t Validation Loss: 4.714\n",
      "Epoch 67:\tTraining Loss: 7.920\t Validation Loss: 5.145\n",
      "Epoch 68:\tTraining Loss: 7.772\t Validation Loss: 7.022\n",
      "Epoch 69:\tTraining Loss: 7.996\t Validation Loss: 4.967\n",
      "Epoch 70:\tTraining Loss: 7.792\t Validation Loss: 4.797\n",
      "Epoch 71:\tTraining Loss: 8.075\t Validation Loss: 4.857\n",
      "Epoch 72:\tTraining Loss: 7.543\t Validation Loss: 5.031\n",
      "Epoch 73:\tTraining Loss: 7.558\t Validation Loss: 4.926\n",
      "Epoch 74:\tTraining Loss: 7.803\t Validation Loss: 5.999\n",
      "Epoch 75:\tTraining Loss: 7.757\t Validation Loss: 4.707\n",
      "Epoch 76:\tTraining Loss: 7.519\t Validation Loss: 5.380\n",
      "Epoch 77:\tTraining Loss: 7.490\t Validation Loss: 4.801\n",
      "Epoch 78:\tTraining Loss: 7.340\t Validation Loss: 5.077\n",
      "Epoch 79:\tTraining Loss: 7.936\t Validation Loss: 4.675\n",
      "Epoch 80:\tTraining Loss: 7.531\t Validation Loss: 4.762\n",
      "Epoch 81:\tTraining Loss: 7.454\t Validation Loss: 4.806\n",
      "Epoch 82:\tTraining Loss: 7.555\t Validation Loss: 4.704\n",
      "Epoch 83:\tTraining Loss: 7.467\t Validation Loss: 4.688\n",
      "Epoch 84:\tTraining Loss: 7.733\t Validation Loss: 6.661\n",
      "Epoch 85:\tTraining Loss: 7.238\t Validation Loss: 5.103\n",
      "Epoch 86:\tTraining Loss: 7.353\t Validation Loss: 4.725\n",
      "Epoch 87:\tTraining Loss: 7.194\t Validation Loss: 4.658\n",
      "Epoch 88:\tTraining Loss: 7.511\t Validation Loss: 6.661\n",
      "Epoch 89:\tTraining Loss: 7.548\t Validation Loss: 4.878\n",
      "Epoch 90:\tTraining Loss: 7.438\t Validation Loss: 5.017\n",
      "Epoch 91:\tTraining Loss: 7.636\t Validation Loss: 5.435\n",
      "Epoch 92:\tTraining Loss: 7.432\t Validation Loss: 4.786\n",
      "Epoch 93:\tTraining Loss: 7.315\t Validation Loss: 4.722\n",
      "Epoch 94:\tTraining Loss: 7.231\t Validation Loss: 5.175\n",
      "Epoch 95:\tTraining Loss: 7.863\t Validation Loss: 4.564\n",
      "Epoch 96:\tTraining Loss: 7.230\t Validation Loss: 4.593\n",
      "Epoch 97:\tTraining Loss: 7.216\t Validation Loss: 5.228\n",
      "Epoch 98:\tTraining Loss: 7.081\t Validation Loss: 5.365\n",
      "Epoch 99:\tTraining Loss: 7.179\t Validation Loss: 4.669\n",
      "Epoch 100:\tTraining Loss: 7.192\t Validation Loss: 4.869\n"
     ]
    }
   ],
   "source": [
    "epochs = 100\n",
    "train_losses = []\n",
    "val_losses = []\n",
    "train_r2 = []\n",
    "val_r2 = []\n",
    "\n",
    "for epoch in range(epochs):\n",
    "    train_loss = 0.0\n",
    "    train_target = []\n",
    "    val_target = []\n",
    "    train_predict = []\n",
    "    val_predict = []\n",
    "    model.train()\n",
    "    for X_samples, y_samples in train_loader:\n",
    "        X_samples = X_samples.to(device)\n",
    "        y_samples = y_samples.to(device)\n",
    "\n",
    "        optimizer.zero_grad()\n",
    "        outputs = model(X_samples)\n",
    "        train_predict += outputs.tolist()\n",
    "        train_target += y_samples.tolist()\n",
    "        loss = criterion(outputs, y_samples)\n",
    "        loss.backward()\n",
    "        optimizer.step()\n",
    "        train_loss += loss.item()\n",
    "\n",
    "    train_loss /= len(train_loader)\n",
    "    train_losses.append(train_loss)\n",
    "\n",
    "    train_r2.append(r_squared(train_target, train_predict))\n",
    "\n",
    "    model.eval()\n",
    "    val_loss = 0.0\n",
    "    with torch.no_grad():\n",
    "        for X_samples, y_samples in val_loader:\n",
    "            X_samples = X_samples.to(device)\n",
    "            y_samples = y_samples.to(device)\n",
    "            outputs = model(X_samples)\n",
    "            val_predict += outputs.tolist()\n",
    "            val_target += y_samples.tolist()\n",
    "            loss = criterion(outputs, y_samples)\n",
    "            val_loss += loss.item()\n",
    "\n",
    "    val_loss /= len(val_loader)\n",
    "    val_losses.append(val_loss)\n",
    "    \n",
    "    val_r2.append(r_squared(val_target, val_predict))\n",
    "    print(f'Epoch {epoch+1}:\\tTraining Loss: {train_loss:.3f}\\t Validation Loss: {val_loss:.3f}')"
   ]
  },
  {
   "cell_type": "markdown",
   "metadata": {},
   "source": [
    "#### Đánh giá mô hình\n"
   ]
  },
  {
   "cell_type": "code",
   "execution_count": 15,
   "metadata": {},
   "outputs": [
    {
     "name": "stdout",
     "output_type": "stream",
     "text": [
      "Evaluation on test set:\n",
      "R2: 0.890637993812561\n"
     ]
    },
    {
     "name": "stderr",
     "output_type": "stream",
     "text": [
      "C:\\Users\\FPTSHOP\\AppData\\Local\\Temp\\ipykernel_9476\\1949884570.py:2: UserWarning: To copy construct from a tensor, it is recommended to use sourceTensor.clone().detach() or sourceTensor.clone().detach().requires_grad_(True), rather than torch.tensor(sourceTensor).\n",
      "  y_true = torch.tensor(y_true).to(device)\n",
      "C:\\Users\\FPTSHOP\\AppData\\Local\\Temp\\ipykernel_9476\\1949884570.py:3: UserWarning: To copy construct from a tensor, it is recommended to use sourceTensor.clone().detach() or sourceTensor.clone().detach().requires_grad_(True), rather than torch.tensor(sourceTensor).\n",
      "  y_pred = torch.tensor(y_pred).to(device)\n"
     ]
    }
   ],
   "source": [
    "model.eval()\n",
    "with torch.no_grad():\n",
    "    y_hat = model(X_test.to(device))\n",
    "    test_set_r2 = r_squared(y_test, y_hat)\n",
    "    print('Evaluation on test set:')\n",
    "    print(f'R2: {test_set_r2}')"
   ]
  }
 ],
 "metadata": {
  "kernelspec": {
   "display_name": "aio2024-exercise",
   "language": "python",
   "name": "python3"
  },
  "language_info": {
   "codemirror_mode": {
    "name": "ipython",
    "version": 3
   },
   "file_extension": ".py",
   "mimetype": "text/x-python",
   "name": "python",
   "nbconvert_exporter": "python",
   "pygments_lexer": "ipython3",
   "version": "3.11.9"
  }
 },
 "nbformat": 4,
 "nbformat_minor": 2
}
