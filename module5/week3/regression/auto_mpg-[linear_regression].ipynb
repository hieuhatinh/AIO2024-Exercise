{
 "cells": [
  {
   "cell_type": "code",
   "execution_count": 1,
   "metadata": {},
   "outputs": [],
   "source": [
    "import numpy as np\n",
    "import pandas as pd\n",
    "import matplotlib.pyplot as plt\n",
    "import torch\n",
    "import torch.nn as nn\n",
    "import torch.nn.functional as F\n",
    "from torch.utils.data import Dataset,DataLoader\n",
    "\n",
    "from sklearn.model_selection import train_test_split\n",
    "from sklearn.preprocessing import StandardScaler"
   ]
  },
  {
   "cell_type": "code",
   "execution_count": 2,
   "metadata": {},
   "outputs": [],
   "source": [
    "random_state = 59\n",
    "np.random.seed(random_state)\n",
    "torch.manual_seed(random_state)\n",
    "if torch.cuda.is_available():\n",
    "    torch.cuda.manual_seed_all(random_state)"
   ]
  },
  {
   "cell_type": "code",
   "execution_count": 3,
   "metadata": {},
   "outputs": [],
   "source": [
    "device = torch.device(\"cuda\" if torch.cuda.is_available() else \"cpu\")"
   ]
  },
  {
   "cell_type": "code",
   "execution_count": 4,
   "metadata": {},
   "outputs": [],
   "source": [
    "dataset_path = '../data/Auto_MPG_data.csv'\n",
    "dataset = pd.read_csv(dataset_path)"
   ]
  },
  {
   "cell_type": "code",
   "execution_count": 5,
   "metadata": {},
   "outputs": [],
   "source": [
    "X = dataset.drop(columns='MPG').values\n",
    "y = dataset['MPG'].values"
   ]
  },
  {
   "cell_type": "code",
   "execution_count": 6,
   "metadata": {},
   "outputs": [
    {
     "data": {
      "text/plain": [
       "array([[8.000e+00, 3.070e+02, 1.300e+02, 3.504e+03, 1.200e+01, 7.000e+01,\n",
       "        0.000e+00, 0.000e+00, 1.000e+00],\n",
       "       [8.000e+00, 3.500e+02, 1.650e+02, 3.693e+03, 1.150e+01, 7.000e+01,\n",
       "        0.000e+00, 0.000e+00, 1.000e+00],\n",
       "       [8.000e+00, 3.180e+02, 1.500e+02, 3.436e+03, 1.100e+01, 7.000e+01,\n",
       "        0.000e+00, 0.000e+00, 1.000e+00],\n",
       "       [8.000e+00, 3.040e+02, 1.500e+02, 3.433e+03, 1.200e+01, 7.000e+01,\n",
       "        0.000e+00, 0.000e+00, 1.000e+00],\n",
       "       [8.000e+00, 3.020e+02, 1.400e+02, 3.449e+03, 1.050e+01, 7.000e+01,\n",
       "        0.000e+00, 0.000e+00, 1.000e+00],\n",
       "       [8.000e+00, 4.290e+02, 1.980e+02, 4.341e+03, 1.000e+01, 7.000e+01,\n",
       "        0.000e+00, 0.000e+00, 1.000e+00],\n",
       "       [8.000e+00, 4.540e+02, 2.200e+02, 4.354e+03, 9.000e+00, 7.000e+01,\n",
       "        0.000e+00, 0.000e+00, 1.000e+00],\n",
       "       [8.000e+00, 4.400e+02, 2.150e+02, 4.312e+03, 8.500e+00, 7.000e+01,\n",
       "        0.000e+00, 0.000e+00, 1.000e+00],\n",
       "       [8.000e+00, 4.550e+02, 2.250e+02, 4.425e+03, 1.000e+01, 7.000e+01,\n",
       "        0.000e+00, 0.000e+00, 1.000e+00],\n",
       "       [8.000e+00, 3.900e+02, 1.900e+02, 3.850e+03, 8.500e+00, 7.000e+01,\n",
       "        0.000e+00, 0.000e+00, 1.000e+00]])"
      ]
     },
     "execution_count": 6,
     "metadata": {},
     "output_type": "execute_result"
    }
   ],
   "source": [
    "X[:10]"
   ]
  },
  {
   "cell_type": "code",
   "execution_count": 7,
   "metadata": {},
   "outputs": [],
   "source": [
    "val_size = 0.2\n",
    "test_size = 0.125\n",
    "is_shuffle = True\n",
    "\n",
    "X_train, X_val, y_train, y_val = train_test_split(\n",
    "    X, y, \n",
    "    test_size=val_size, \n",
    "    random_state=random_state, \n",
    "    shuffle=is_shuffle\n",
    ")\n",
    "\n",
    "X_train, X_test, y_train, y_test = train_test_split(\n",
    "    X, y, \n",
    "    test_size=test_size, \n",
    "    random_state=random_state, \n",
    "    shuffle=is_shuffle\n",
    ")"
   ]
  },
  {
   "cell_type": "code",
   "execution_count": 8,
   "metadata": {},
   "outputs": [],
   "source": [
    "# Chuẩn hóa đặc trưng đầu vào\n",
    "normalizer = StandardScaler()\n",
    "X_train = normalizer.fit_transform(X_train)\n",
    "X_val = normalizer.transform(X_val)\n",
    "X_test = normalizer.transform(X_test)\n",
    "\n",
    "X_train = torch.tensor(X_train, dtype=torch.float32)\n",
    "X_val = torch.tensor(X_val, dtype=torch.float32)\n",
    "X_test = torch.tensor(X_test, dtype=torch.float32)\n",
    "\n",
    "y_train = torch.tensor(y_train, dtype=torch.float32)\n",
    "y_val = torch.tensor(y_val, dtype=torch.float32)\n",
    "y_test = torch.tensor(y_test, dtype=torch.float32)"
   ]
  },
  {
   "cell_type": "markdown",
   "metadata": {},
   "source": [
    "#### Xây dựng DataLoader\n"
   ]
  },
  {
   "cell_type": "code",
   "execution_count": 9,
   "metadata": {},
   "outputs": [],
   "source": [
    "class CustomDataset(Dataset):\n",
    "    def __init__(self, X, y):\n",
    "        self.X = X\n",
    "        self.y = y\n",
    "\n",
    "    def __len__(self):\n",
    "        return len(self.y)\n",
    "    \n",
    "    def __getitem__(self, idx):\n",
    "        return self.X[idx], self.y[idx]"
   ]
  },
  {
   "cell_type": "code",
   "execution_count": 10,
   "metadata": {},
   "outputs": [],
   "source": [
    "batch_size = 32\n",
    "train_dataset = CustomDataset(X_train, y_train)\n",
    "val_dataset = CustomDataset(X_val, y_val)\n",
    "train_loader = DataLoader(train_dataset, \n",
    "                          batch_size=batch_size, \n",
    "                          shuffle=True)\n",
    "val_loader = DataLoader(val_dataset, \n",
    "                        batch_size=batch_size, \n",
    "                        shuffle=False)"
   ]
  },
  {
   "cell_type": "markdown",
   "metadata": {},
   "source": [
    "#### Xây dựng mạng MLP"
   ]
  },
  {
   "cell_type": "code",
   "execution_count": 11,
   "metadata": {},
   "outputs": [],
   "source": [
    "# Bài 8.1: chuyển kiến trúc class MLP về dạng Linear Regression\n",
    "class MLP(nn.Module):\n",
    "    def __init__(self, input_dims, hidden_dims, output_dims):\n",
    "        super().__init__()\n",
    "        # self.linear1 = nn.Linear(input_dims, hidden_dims)\n",
    "        # self.linear2 = nn.Linear(hidden_dims, hidden_dims)\n",
    "        self.output = nn.Linear(input_dims, output_dims)\n",
    "\n",
    "    def forward(self, x):\n",
    "        # x = self.linear1(x)\n",
    "        # x = self.linear2(x)\n",
    "        out = self.output(x)\n",
    "        return out.squeeze(1)"
   ]
  },
  {
   "cell_type": "code",
   "execution_count": 12,
   "metadata": {},
   "outputs": [],
   "source": [
    "input_dims = X_train.shape[1]\n",
    "output_dims = 1\n",
    "hidden_dims = 64\n",
    "\n",
    "model = MLP(input_dims=input_dims, \n",
    "            hidden_dims=hidden_dims, \n",
    "            output_dims=output_dims).to(device)"
   ]
  },
  {
   "cell_type": "markdown",
   "metadata": {},
   "source": [
    "#### Khai báo hàm loss và optimizer\n"
   ]
  },
  {
   "cell_type": "code",
   "execution_count": 13,
   "metadata": {},
   "outputs": [],
   "source": [
    "lr = 1e-2\n",
    "criterion = nn.MSELoss()\n",
    "optimizer = torch.optim.SGD(model.parameters(), lr=lr)"
   ]
  },
  {
   "cell_type": "markdown",
   "metadata": {},
   "source": [
    "#### Xây dựng hàm tính điểm R2"
   ]
  },
  {
   "cell_type": "code",
   "execution_count": 14,
   "metadata": {},
   "outputs": [],
   "source": [
    "def r_squared(y_true, y_pred):\n",
    "    y_true = torch.tensor(y_true).to(device)\n",
    "    y_pred = torch.tensor(y_pred).to(device)\n",
    "    mean_true = torch.mean(y_true)\n",
    "    ss_tot = torch.sum((y_true - mean_true) ** 2)\n",
    "    ss_res = torch.sum((y_true - y_pred) ** 2)\n",
    "    r2 = 1 - (ss_res / ss_tot)\n",
    "    return r2"
   ]
  },
  {
   "cell_type": "markdown",
   "metadata": {},
   "source": [
    "#### Huấn luyện mô hình\n"
   ]
  },
  {
   "cell_type": "code",
   "execution_count": 15,
   "metadata": {},
   "outputs": [
    {
     "name": "stdout",
     "output_type": "stream",
     "text": [
      "Epoch 1:\tTraining Loss: 476.805\t Validation Loss: 385.831\n",
      "Epoch 2:\tTraining Loss: 303.106\t Validation Loss: 254.122\n",
      "Epoch 3:\tTraining Loss: 196.608\t Validation Loss: 169.873\n",
      "Epoch 4:\tTraining Loss: 129.926\t Validation Loss: 115.707\n",
      "Epoch 5:\tTraining Loss: 87.864\t Validation Loss: 80.139\n",
      "Epoch 6:\tTraining Loss: 61.146\t Validation Loss: 55.858\n",
      "Epoch 7:\tTraining Loss: 43.555\t Validation Loss: 40.130\n",
      "Epoch 8:\tTraining Loss: 32.879\t Validation Loss: 30.218\n",
      "Epoch 9:\tTraining Loss: 25.408\t Validation Loss: 23.337\n",
      "Epoch 10:\tTraining Loss: 21.030\t Validation Loss: 18.796\n",
      "Epoch 11:\tTraining Loss: 17.650\t Validation Loss: 15.728\n",
      "Epoch 12:\tTraining Loss: 15.879\t Validation Loss: 13.729\n",
      "Epoch 13:\tTraining Loss: 14.643\t Validation Loss: 12.188\n",
      "Epoch 14:\tTraining Loss: 13.732\t Validation Loss: 11.165\n",
      "Epoch 15:\tTraining Loss: 13.098\t Validation Loss: 10.592\n",
      "Epoch 16:\tTraining Loss: 13.014\t Validation Loss: 9.990\n",
      "Epoch 17:\tTraining Loss: 12.674\t Validation Loss: 9.644\n",
      "Epoch 18:\tTraining Loss: 12.373\t Validation Loss: 9.309\n",
      "Epoch 19:\tTraining Loss: 12.260\t Validation Loss: 9.017\n",
      "Epoch 20:\tTraining Loss: 12.351\t Validation Loss: 8.996\n",
      "Epoch 21:\tTraining Loss: 12.422\t Validation Loss: 8.942\n",
      "Epoch 22:\tTraining Loss: 12.114\t Validation Loss: 8.763\n",
      "Epoch 23:\tTraining Loss: 12.185\t Validation Loss: 8.774\n",
      "Epoch 24:\tTraining Loss: 12.198\t Validation Loss: 8.615\n",
      "Epoch 25:\tTraining Loss: 12.071\t Validation Loss: 8.560\n",
      "Epoch 26:\tTraining Loss: 12.258\t Validation Loss: 8.584\n",
      "Epoch 27:\tTraining Loss: 12.129\t Validation Loss: 8.576\n",
      "Epoch 28:\tTraining Loss: 11.903\t Validation Loss: 8.462\n",
      "Epoch 29:\tTraining Loss: 12.109\t Validation Loss: 8.509\n",
      "Epoch 30:\tTraining Loss: 11.999\t Validation Loss: 8.434\n",
      "Epoch 31:\tTraining Loss: 12.005\t Validation Loss: 8.400\n",
      "Epoch 32:\tTraining Loss: 11.950\t Validation Loss: 8.373\n",
      "Epoch 33:\tTraining Loss: 11.808\t Validation Loss: 8.294\n",
      "Epoch 34:\tTraining Loss: 12.056\t Validation Loss: 8.488\n",
      "Epoch 35:\tTraining Loss: 11.966\t Validation Loss: 8.369\n",
      "Epoch 36:\tTraining Loss: 11.890\t Validation Loss: 8.289\n",
      "Epoch 37:\tTraining Loss: 11.667\t Validation Loss: 8.337\n",
      "Epoch 38:\tTraining Loss: 11.710\t Validation Loss: 8.248\n",
      "Epoch 39:\tTraining Loss: 11.709\t Validation Loss: 8.378\n",
      "Epoch 40:\tTraining Loss: 11.800\t Validation Loss: 8.479\n",
      "Epoch 41:\tTraining Loss: 11.860\t Validation Loss: 8.286\n",
      "Epoch 42:\tTraining Loss: 11.645\t Validation Loss: 8.225\n",
      "Epoch 43:\tTraining Loss: 11.657\t Validation Loss: 8.217\n",
      "Epoch 44:\tTraining Loss: 11.718\t Validation Loss: 8.276\n",
      "Epoch 45:\tTraining Loss: 11.676\t Validation Loss: 8.255\n",
      "Epoch 46:\tTraining Loss: 11.684\t Validation Loss: 8.249\n",
      "Epoch 47:\tTraining Loss: 11.637\t Validation Loss: 8.216\n",
      "Epoch 48:\tTraining Loss: 11.688\t Validation Loss: 8.173\n",
      "Epoch 49:\tTraining Loss: 11.624\t Validation Loss: 8.272\n",
      "Epoch 50:\tTraining Loss: 11.795\t Validation Loss: 8.231\n",
      "Epoch 51:\tTraining Loss: 11.523\t Validation Loss: 8.156\n",
      "Epoch 52:\tTraining Loss: 11.602\t Validation Loss: 8.046\n",
      "Epoch 53:\tTraining Loss: 11.631\t Validation Loss: 8.063\n",
      "Epoch 54:\tTraining Loss: 11.582\t Validation Loss: 8.070\n",
      "Epoch 55:\tTraining Loss: 11.673\t Validation Loss: 8.166\n",
      "Epoch 56:\tTraining Loss: 11.598\t Validation Loss: 8.189\n",
      "Epoch 57:\tTraining Loss: 11.647\t Validation Loss: 8.118\n",
      "Epoch 58:\tTraining Loss: 11.551\t Validation Loss: 8.107\n",
      "Epoch 59:\tTraining Loss: 11.659\t Validation Loss: 8.012\n",
      "Epoch 60:\tTraining Loss: 11.793\t Validation Loss: 8.169\n",
      "Epoch 61:\tTraining Loss: 11.690\t Validation Loss: 8.084\n",
      "Epoch 62:\tTraining Loss: 11.669\t Validation Loss: 8.144\n",
      "Epoch 63:\tTraining Loss: 11.656\t Validation Loss: 8.073\n",
      "Epoch 64:\tTraining Loss: 11.741\t Validation Loss: 8.259\n",
      "Epoch 65:\tTraining Loss: 11.832\t Validation Loss: 8.140\n",
      "Epoch 66:\tTraining Loss: 11.875\t Validation Loss: 8.182\n",
      "Epoch 67:\tTraining Loss: 11.508\t Validation Loss: 8.083\n",
      "Epoch 68:\tTraining Loss: 11.499\t Validation Loss: 8.082\n",
      "Epoch 69:\tTraining Loss: 11.593\t Validation Loss: 8.060\n",
      "Epoch 70:\tTraining Loss: 11.473\t Validation Loss: 8.118\n",
      "Epoch 71:\tTraining Loss: 11.607\t Validation Loss: 8.056\n",
      "Epoch 72:\tTraining Loss: 11.391\t Validation Loss: 7.969\n",
      "Epoch 73:\tTraining Loss: 11.535\t Validation Loss: 7.990\n",
      "Epoch 74:\tTraining Loss: 11.430\t Validation Loss: 8.123\n",
      "Epoch 75:\tTraining Loss: 11.675\t Validation Loss: 8.161\n",
      "Epoch 76:\tTraining Loss: 11.419\t Validation Loss: 8.147\n",
      "Epoch 77:\tTraining Loss: 11.433\t Validation Loss: 8.066\n",
      "Epoch 78:\tTraining Loss: 11.428\t Validation Loss: 8.030\n",
      "Epoch 79:\tTraining Loss: 11.522\t Validation Loss: 8.052\n",
      "Epoch 80:\tTraining Loss: 11.384\t Validation Loss: 7.996\n",
      "Epoch 81:\tTraining Loss: 11.441\t Validation Loss: 8.019\n",
      "Epoch 82:\tTraining Loss: 11.775\t Validation Loss: 8.191\n",
      "Epoch 83:\tTraining Loss: 11.659\t Validation Loss: 8.218\n",
      "Epoch 84:\tTraining Loss: 11.486\t Validation Loss: 8.066\n",
      "Epoch 85:\tTraining Loss: 11.356\t Validation Loss: 8.018\n",
      "Epoch 86:\tTraining Loss: 11.818\t Validation Loss: 8.034\n",
      "Epoch 87:\tTraining Loss: 11.718\t Validation Loss: 8.124\n",
      "Epoch 88:\tTraining Loss: 11.375\t Validation Loss: 8.048\n",
      "Epoch 89:\tTraining Loss: 11.246\t Validation Loss: 7.922\n",
      "Epoch 90:\tTraining Loss: 11.442\t Validation Loss: 7.958\n",
      "Epoch 91:\tTraining Loss: 11.517\t Validation Loss: 8.042\n",
      "Epoch 92:\tTraining Loss: 11.364\t Validation Loss: 7.980\n",
      "Epoch 93:\tTraining Loss: 11.444\t Validation Loss: 7.916\n",
      "Epoch 94:\tTraining Loss: 11.404\t Validation Loss: 7.944\n",
      "Epoch 95:\tTraining Loss: 11.409\t Validation Loss: 7.930\n",
      "Epoch 96:\tTraining Loss: 11.528\t Validation Loss: 7.890\n",
      "Epoch 97:\tTraining Loss: 11.446\t Validation Loss: 8.010\n",
      "Epoch 98:\tTraining Loss: 11.286\t Validation Loss: 7.913\n",
      "Epoch 99:\tTraining Loss: 11.466\t Validation Loss: 7.977\n",
      "Epoch 100:\tTraining Loss: 11.443\t Validation Loss: 7.849\n"
     ]
    }
   ],
   "source": [
    "epochs = 100\n",
    "train_losses = []\n",
    "val_losses = []\n",
    "train_r2 = []\n",
    "val_r2 = []\n",
    "\n",
    "for epoch in range(epochs):\n",
    "    train_loss = 0.0\n",
    "    train_target = []\n",
    "    val_target = []\n",
    "    train_predict = []\n",
    "    val_predict = []\n",
    "    model.train()\n",
    "    for X_samples, y_samples in train_loader:\n",
    "        X_samples = X_samples.to(device)\n",
    "        y_samples = y_samples.to(device)\n",
    "\n",
    "        optimizer.zero_grad()\n",
    "        outputs = model(X_samples)\n",
    "        train_predict += outputs.tolist()\n",
    "        train_target += y_samples.tolist()\n",
    "        loss = criterion(outputs, y_samples)\n",
    "        loss.backward()\n",
    "        optimizer.step()\n",
    "        train_loss += loss.item()\n",
    "\n",
    "    train_loss /= len(train_loader)\n",
    "    train_losses.append(train_loss)\n",
    "\n",
    "    train_r2.append(r_squared(train_target, train_predict))\n",
    "\n",
    "    model.eval()\n",
    "    val_loss = 0.0\n",
    "    with torch.no_grad():\n",
    "        for X_samples, y_samples in val_loader:\n",
    "            X_samples = X_samples.to(device)\n",
    "            y_samples = y_samples.to(device)\n",
    "            outputs = model(X_samples)\n",
    "            val_predict += outputs.tolist()\n",
    "            val_target += y_samples.tolist()\n",
    "            loss = criterion(outputs, y_samples)\n",
    "            val_loss += loss.item()\n",
    "\n",
    "    val_loss /= len(val_loader)\n",
    "    val_losses.append(val_loss)\n",
    "    \n",
    "    val_r2.append(r_squared(val_target, val_predict))\n",
    "    print(f'Epoch {epoch+1}:\\tTraining Loss: {train_loss:.3f}\\t Validation Loss: {val_loss:.3f}')"
   ]
  },
  {
   "cell_type": "markdown",
   "metadata": {},
   "source": [
    "#### Đánh giá mô hình\n"
   ]
  },
  {
   "cell_type": "code",
   "execution_count": 16,
   "metadata": {},
   "outputs": [
    {
     "name": "stdout",
     "output_type": "stream",
     "text": [
      "Evaluation on test set:\n",
      "R2: 0.8678443431854248\n"
     ]
    },
    {
     "name": "stderr",
     "output_type": "stream",
     "text": [
      "C:\\Users\\FPTSHOP\\AppData\\Local\\Temp\\ipykernel_20884\\1949884570.py:2: UserWarning: To copy construct from a tensor, it is recommended to use sourceTensor.clone().detach() or sourceTensor.clone().detach().requires_grad_(True), rather than torch.tensor(sourceTensor).\n",
      "  y_true = torch.tensor(y_true).to(device)\n",
      "C:\\Users\\FPTSHOP\\AppData\\Local\\Temp\\ipykernel_20884\\1949884570.py:3: UserWarning: To copy construct from a tensor, it is recommended to use sourceTensor.clone().detach() or sourceTensor.clone().detach().requires_grad_(True), rather than torch.tensor(sourceTensor).\n",
      "  y_pred = torch.tensor(y_pred).to(device)\n"
     ]
    }
   ],
   "source": [
    "model.eval()\n",
    "with torch.no_grad():\n",
    "    y_hat = model(X_test.to(device))\n",
    "    test_set_r2 = r_squared(y_test, y_hat)\n",
    "    print('Evaluation on test set:')\n",
    "    print(f'R2: {test_set_r2}')"
   ]
  }
 ],
 "metadata": {
  "kernelspec": {
   "display_name": "aio2024-exercise",
   "language": "python",
   "name": "python3"
  },
  "language_info": {
   "codemirror_mode": {
    "name": "ipython",
    "version": 3
   },
   "file_extension": ".py",
   "mimetype": "text/x-python",
   "name": "python",
   "nbconvert_exporter": "python",
   "pygments_lexer": "ipython3",
   "version": "3.11.9"
  }
 },
 "nbformat": 4,
 "nbformat_minor": 2
}
