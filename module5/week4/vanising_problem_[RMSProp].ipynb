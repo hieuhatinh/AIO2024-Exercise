{
  "cells": [
    {
      "cell_type": "code",
      "execution_count": null,
      "metadata": {
        "id": "9bcT3psrIf3j"
      },
      "outputs": [],
      "source": [
        "import torch\n",
        "import torch.nn as nn\n",
        "from torch.optim import RMSprop\n",
        "from torchvision import transforms\n",
        "from torchvision.datasets import FashionMNIST\n",
        "from torch.utils.data import DataLoader\n",
        "\n",
        "import matplotlib.pyplot as plt"
      ]
    },
    {
      "cell_type": "code",
      "execution_count": null,
      "metadata": {
        "id": "5gTi7G1DIf3k"
      },
      "outputs": [],
      "source": [
        "batch_size = 512\n",
        "num_epochs = 300\n",
        "lr = 0.01"
      ]
    },
    {
      "cell_type": "code",
      "execution_count": null,
      "metadata": {
        "colab": {
          "base_uri": "https://localhost:8080/"
        },
        "id": "-LwEw7TBIf3l",
        "outputId": "b5d82256-d0ae-4e0d-f151-dc12ba9729cf"
      },
      "outputs": [
        {
          "output_type": "stream",
          "name": "stdout",
          "text": [
            "Downloading http://fashion-mnist.s3-website.eu-central-1.amazonaws.com/train-images-idx3-ubyte.gz\n",
            "Downloading http://fashion-mnist.s3-website.eu-central-1.amazonaws.com/train-images-idx3-ubyte.gz to ./data/FashionMNIST/raw/train-images-idx3-ubyte.gz\n"
          ]
        },
        {
          "output_type": "stream",
          "name": "stderr",
          "text": [
            "100%|██████████| 26.4M/26.4M [00:01<00:00, 21.7MB/s]\n"
          ]
        },
        {
          "output_type": "stream",
          "name": "stdout",
          "text": [
            "Extracting ./data/FashionMNIST/raw/train-images-idx3-ubyte.gz to ./data/FashionMNIST/raw\n",
            "\n",
            "Downloading http://fashion-mnist.s3-website.eu-central-1.amazonaws.com/train-labels-idx1-ubyte.gz\n",
            "Downloading http://fashion-mnist.s3-website.eu-central-1.amazonaws.com/train-labels-idx1-ubyte.gz to ./data/FashionMNIST/raw/train-labels-idx1-ubyte.gz\n"
          ]
        },
        {
          "output_type": "stream",
          "name": "stderr",
          "text": [
            "100%|██████████| 29.5k/29.5k [00:00<00:00, 344kB/s]\n"
          ]
        },
        {
          "output_type": "stream",
          "name": "stdout",
          "text": [
            "Extracting ./data/FashionMNIST/raw/train-labels-idx1-ubyte.gz to ./data/FashionMNIST/raw\n",
            "\n",
            "Downloading http://fashion-mnist.s3-website.eu-central-1.amazonaws.com/t10k-images-idx3-ubyte.gz\n",
            "Downloading http://fashion-mnist.s3-website.eu-central-1.amazonaws.com/t10k-images-idx3-ubyte.gz to ./data/FashionMNIST/raw/t10k-images-idx3-ubyte.gz\n"
          ]
        },
        {
          "output_type": "stream",
          "name": "stderr",
          "text": [
            "100%|██████████| 4.42M/4.42M [00:00<00:00, 6.15MB/s]\n"
          ]
        },
        {
          "output_type": "stream",
          "name": "stdout",
          "text": [
            "Extracting ./data/FashionMNIST/raw/t10k-images-idx3-ubyte.gz to ./data/FashionMNIST/raw\n",
            "\n",
            "Downloading http://fashion-mnist.s3-website.eu-central-1.amazonaws.com/t10k-labels-idx1-ubyte.gz\n",
            "Downloading http://fashion-mnist.s3-website.eu-central-1.amazonaws.com/t10k-labels-idx1-ubyte.gz to ./data/FashionMNIST/raw/t10k-labels-idx1-ubyte.gz\n"
          ]
        },
        {
          "output_type": "stream",
          "name": "stderr",
          "text": [
            "100%|██████████| 5.15k/5.15k [00:00<00:00, 4.29MB/s]"
          ]
        },
        {
          "output_type": "stream",
          "name": "stdout",
          "text": [
            "Extracting ./data/FashionMNIST/raw/t10k-labels-idx1-ubyte.gz to ./data/FashionMNIST/raw\n",
            "\n"
          ]
        },
        {
          "output_type": "stream",
          "name": "stderr",
          "text": [
            "\n"
          ]
        }
      ],
      "source": [
        "train_dataset = FashionMNIST(root='./data', train=True,\n",
        "                             download=True, transform=transforms.ToTensor())\n",
        "train_loader = DataLoader(train_dataset, batch_size, shuffle=True)\n",
        "test_dataset = FashionMNIST(root='./data', train=False,\n",
        "                            download=True, transform=transforms.ToTensor())\n",
        "test_loader = DataLoader(test_dataset, batch_size)"
      ]
    },
    {
      "cell_type": "code",
      "execution_count": null,
      "metadata": {
        "id": "nokMsee8If3l"
      },
      "outputs": [],
      "source": [
        "class MLP(nn.Module):\n",
        "    def __init__(self, input_dims, hidden_dims, output_dims):\n",
        "        super(MLP, self).__init__()\n",
        "        self.layer1 = nn.Linear(input_dims, hidden_dims)\n",
        "        self.layer2 = nn.Linear(hidden_dims, hidden_dims)\n",
        "        self.layer3 = nn.Linear(hidden_dims, hidden_dims)\n",
        "        self.layer4 = nn.Linear(hidden_dims, hidden_dims)\n",
        "        self.layer5 = nn.Linear(hidden_dims, hidden_dims)\n",
        "        self.output = nn.Linear(hidden_dims, output_dims)\n",
        "        self.sigmoid = nn.Sigmoid()\n",
        "\n",
        "    def forward(self, x):\n",
        "        x = nn.Flatten()(x)\n",
        "        x = self.layer1(x)\n",
        "        x = self.sigmoid(x)\n",
        "        x = self.layer2(x)\n",
        "        x = self.sigmoid(x)\n",
        "        x = self.layer3(x)\n",
        "        x = self.sigmoid(x)\n",
        "        x = self.layer4(x)\n",
        "        x = self.sigmoid(x)\n",
        "        x = self.layer5(x)\n",
        "        x = self.sigmoid(x)\n",
        "        output = self.output(x)\n",
        "        return output"
      ]
    },
    {
      "cell_type": "code",
      "execution_count": null,
      "metadata": {
        "id": "Sf9NSmCsIf3m"
      },
      "outputs": [],
      "source": [
        "device = torch.device('cuda' if torch.cuda.is_available() else 'cpu')"
      ]
    },
    {
      "cell_type": "code",
      "execution_count": null,
      "metadata": {
        "id": "LnFnWFdPIf3n"
      },
      "outputs": [],
      "source": [
        "model = MLP(input_dims=784,\n",
        "            hidden_dims=128,\n",
        "            output_dims=10).to(device)\n",
        "criterion = nn.CrossEntropyLoss()\n",
        "optimizer = RMSprop(model.parameters(), lr=lr, alpha=0.99)"
      ]
    },
    {
      "cell_type": "code",
      "execution_count": null,
      "metadata": {
        "colab": {
          "base_uri": "https://localhost:8080/"
        },
        "id": "80aR9sj0If3n",
        "outputId": "a3261a3d-bbb0-4206-96a0-492e38c8a9e9"
      },
      "outputs": [
        {
          "output_type": "stream",
          "name": "stdout",
          "text": [
            "Epoch 1\tTraining Loss: 2.392\tValidation Loss: 2.303\n",
            "Epoch 2\tTraining Loss: 2.190\tValidation Loss: 1.707\n",
            "Epoch 3\tTraining Loss: 1.269\tValidation Loss: 1.047\n",
            "Epoch 4\tTraining Loss: 0.916\tValidation Loss: 0.845\n",
            "Epoch 5\tTraining Loss: 0.708\tValidation Loss: 0.753\n",
            "Epoch 6\tTraining Loss: 0.591\tValidation Loss: 0.701\n",
            "Epoch 7\tTraining Loss: 0.509\tValidation Loss: 0.637\n",
            "Epoch 8\tTraining Loss: 0.474\tValidation Loss: 0.576\n",
            "Epoch 9\tTraining Loss: 0.434\tValidation Loss: 0.576\n",
            "Epoch 10\tTraining Loss: 0.417\tValidation Loss: 0.509\n",
            "Epoch 11\tTraining Loss: 0.401\tValidation Loss: 0.517\n",
            "Epoch 12\tTraining Loss: 0.376\tValidation Loss: 0.595\n",
            "Epoch 13\tTraining Loss: 0.373\tValidation Loss: 1.376\n",
            "Epoch 14\tTraining Loss: 0.377\tValidation Loss: 0.547\n",
            "Epoch 15\tTraining Loss: 0.351\tValidation Loss: 0.549\n",
            "Epoch 16\tTraining Loss: 0.338\tValidation Loss: 0.411\n",
            "Epoch 17\tTraining Loss: 0.335\tValidation Loss: 0.409\n",
            "Epoch 18\tTraining Loss: 0.327\tValidation Loss: 0.499\n",
            "Epoch 19\tTraining Loss: 0.319\tValidation Loss: 0.389\n",
            "Epoch 20\tTraining Loss: 0.316\tValidation Loss: 0.382\n",
            "Epoch 21\tTraining Loss: 0.312\tValidation Loss: 0.507\n",
            "Epoch 22\tTraining Loss: 0.308\tValidation Loss: 0.542\n",
            "Epoch 23\tTraining Loss: 0.299\tValidation Loss: 0.482\n",
            "Epoch 24\tTraining Loss: 0.304\tValidation Loss: 0.489\n",
            "Epoch 25\tTraining Loss: 0.290\tValidation Loss: 0.513\n",
            "Epoch 26\tTraining Loss: 0.290\tValidation Loss: 0.460\n",
            "Epoch 27\tTraining Loss: 0.285\tValidation Loss: 0.395\n",
            "Epoch 28\tTraining Loss: 0.284\tValidation Loss: 0.456\n",
            "Epoch 29\tTraining Loss: 0.275\tValidation Loss: 0.454\n",
            "Epoch 30\tTraining Loss: 0.279\tValidation Loss: 0.531\n",
            "Epoch 31\tTraining Loss: 0.272\tValidation Loss: 0.811\n",
            "Epoch 32\tTraining Loss: 0.273\tValidation Loss: 0.380\n",
            "Epoch 33\tTraining Loss: 0.266\tValidation Loss: 0.379\n",
            "Epoch 34\tTraining Loss: 0.266\tValidation Loss: 0.382\n",
            "Epoch 35\tTraining Loss: 0.266\tValidation Loss: 0.522\n",
            "Epoch 36\tTraining Loss: 0.265\tValidation Loss: 0.576\n",
            "Epoch 37\tTraining Loss: 0.261\tValidation Loss: 0.403\n",
            "Epoch 38\tTraining Loss: 0.257\tValidation Loss: 0.419\n",
            "Epoch 39\tTraining Loss: 0.256\tValidation Loss: 0.423\n",
            "Epoch 40\tTraining Loss: 0.253\tValidation Loss: 0.429\n",
            "Epoch 41\tTraining Loss: 0.252\tValidation Loss: 0.372\n",
            "Epoch 42\tTraining Loss: 0.254\tValidation Loss: 0.407\n",
            "Epoch 43\tTraining Loss: 0.245\tValidation Loss: 0.446\n",
            "Epoch 44\tTraining Loss: 0.243\tValidation Loss: 0.392\n",
            "Epoch 45\tTraining Loss: 0.241\tValidation Loss: 0.387\n",
            "Epoch 46\tTraining Loss: 0.238\tValidation Loss: 0.477\n",
            "Epoch 47\tTraining Loss: 0.237\tValidation Loss: 0.379\n",
            "Epoch 48\tTraining Loss: 0.233\tValidation Loss: 0.419\n",
            "Epoch 49\tTraining Loss: 0.236\tValidation Loss: 0.398\n",
            "Epoch 50\tTraining Loss: 0.228\tValidation Loss: 0.445\n",
            "Epoch 51\tTraining Loss: 0.232\tValidation Loss: 0.426\n",
            "Epoch 52\tTraining Loss: 0.231\tValidation Loss: 0.419\n",
            "Epoch 53\tTraining Loss: 0.230\tValidation Loss: 0.409\n",
            "Epoch 54\tTraining Loss: 0.232\tValidation Loss: 0.399\n",
            "Epoch 55\tTraining Loss: 0.223\tValidation Loss: 0.474\n",
            "Epoch 56\tTraining Loss: 0.226\tValidation Loss: 0.409\n",
            "Epoch 57\tTraining Loss: 0.230\tValidation Loss: 0.452\n",
            "Epoch 58\tTraining Loss: 0.224\tValidation Loss: 0.554\n",
            "Epoch 59\tTraining Loss: 0.220\tValidation Loss: 0.418\n",
            "Epoch 60\tTraining Loss: 0.221\tValidation Loss: 0.490\n",
            "Epoch 61\tTraining Loss: 0.227\tValidation Loss: 0.435\n",
            "Epoch 62\tTraining Loss: 0.213\tValidation Loss: 0.399\n",
            "Epoch 63\tTraining Loss: 0.215\tValidation Loss: 0.435\n",
            "Epoch 64\tTraining Loss: 0.219\tValidation Loss: 0.421\n",
            "Epoch 65\tTraining Loss: 0.210\tValidation Loss: 0.451\n",
            "Epoch 66\tTraining Loss: 0.215\tValidation Loss: 0.385\n",
            "Epoch 67\tTraining Loss: 0.210\tValidation Loss: 0.426\n",
            "Epoch 68\tTraining Loss: 0.210\tValidation Loss: 0.445\n",
            "Epoch 69\tTraining Loss: 0.210\tValidation Loss: 0.436\n",
            "Epoch 70\tTraining Loss: 0.216\tValidation Loss: 0.437\n",
            "Epoch 71\tTraining Loss: 0.208\tValidation Loss: 0.446\n",
            "Epoch 72\tTraining Loss: 0.206\tValidation Loss: 0.446\n",
            "Epoch 73\tTraining Loss: 0.210\tValidation Loss: 0.490\n",
            "Epoch 74\tTraining Loss: 0.209\tValidation Loss: 0.434\n",
            "Epoch 75\tTraining Loss: 0.205\tValidation Loss: 0.415\n",
            "Epoch 76\tTraining Loss: 0.202\tValidation Loss: 0.420\n",
            "Epoch 77\tTraining Loss: 0.200\tValidation Loss: 0.455\n",
            "Epoch 78\tTraining Loss: 0.205\tValidation Loss: 0.421\n",
            "Epoch 79\tTraining Loss: 0.201\tValidation Loss: 0.444\n",
            "Epoch 80\tTraining Loss: 0.203\tValidation Loss: 0.428\n",
            "Epoch 81\tTraining Loss: 0.202\tValidation Loss: 0.430\n",
            "Epoch 82\tTraining Loss: 0.207\tValidation Loss: 0.471\n",
            "Epoch 83\tTraining Loss: 0.204\tValidation Loss: 0.470\n",
            "Epoch 84\tTraining Loss: 0.201\tValidation Loss: 0.400\n",
            "Epoch 85\tTraining Loss: 0.197\tValidation Loss: 0.446\n",
            "Epoch 86\tTraining Loss: 0.201\tValidation Loss: 0.469\n",
            "Epoch 87\tTraining Loss: 0.203\tValidation Loss: 0.441\n",
            "Epoch 88\tTraining Loss: 0.197\tValidation Loss: 0.484\n",
            "Epoch 89\tTraining Loss: 0.198\tValidation Loss: 0.412\n",
            "Epoch 90\tTraining Loss: 0.196\tValidation Loss: 0.477\n",
            "Epoch 91\tTraining Loss: 0.197\tValidation Loss: 0.406\n",
            "Epoch 92\tTraining Loss: 0.196\tValidation Loss: 0.434\n",
            "Epoch 93\tTraining Loss: 0.193\tValidation Loss: 0.545\n",
            "Epoch 94\tTraining Loss: 0.193\tValidation Loss: 0.518\n",
            "Epoch 95\tTraining Loss: 0.184\tValidation Loss: 0.459\n",
            "Epoch 96\tTraining Loss: 0.190\tValidation Loss: 0.441\n",
            "Epoch 97\tTraining Loss: 0.185\tValidation Loss: 0.464\n",
            "Epoch 98\tTraining Loss: 0.190\tValidation Loss: 0.445\n",
            "Epoch 99\tTraining Loss: 0.185\tValidation Loss: 0.475\n",
            "Epoch 100\tTraining Loss: 0.184\tValidation Loss: 0.434\n",
            "Epoch 101\tTraining Loss: 0.179\tValidation Loss: 0.468\n",
            "Epoch 102\tTraining Loss: 0.186\tValidation Loss: 0.824\n",
            "Epoch 103\tTraining Loss: 0.188\tValidation Loss: 0.493\n",
            "Epoch 104\tTraining Loss: 0.184\tValidation Loss: 0.534\n",
            "Epoch 105\tTraining Loss: 0.182\tValidation Loss: 0.447\n",
            "Epoch 106\tTraining Loss: 0.190\tValidation Loss: 0.412\n",
            "Epoch 107\tTraining Loss: 0.180\tValidation Loss: 0.422\n",
            "Epoch 108\tTraining Loss: 0.181\tValidation Loss: 0.466\n",
            "Epoch 109\tTraining Loss: 0.186\tValidation Loss: 0.427\n",
            "Epoch 110\tTraining Loss: 0.175\tValidation Loss: 0.628\n",
            "Epoch 111\tTraining Loss: 0.179\tValidation Loss: 0.474\n",
            "Epoch 112\tTraining Loss: 0.175\tValidation Loss: 0.520\n",
            "Epoch 113\tTraining Loss: 0.179\tValidation Loss: 0.442\n",
            "Epoch 114\tTraining Loss: 0.176\tValidation Loss: 0.439\n",
            "Epoch 115\tTraining Loss: 0.174\tValidation Loss: 0.465\n",
            "Epoch 116\tTraining Loss: 0.177\tValidation Loss: 0.461\n",
            "Epoch 117\tTraining Loss: 0.172\tValidation Loss: 0.434\n",
            "Epoch 118\tTraining Loss: 0.173\tValidation Loss: 0.409\n",
            "Epoch 119\tTraining Loss: 0.169\tValidation Loss: 0.478\n",
            "Epoch 120\tTraining Loss: 0.181\tValidation Loss: 0.457\n",
            "Epoch 121\tTraining Loss: 0.167\tValidation Loss: 0.438\n",
            "Epoch 122\tTraining Loss: 0.168\tValidation Loss: 0.457\n",
            "Epoch 123\tTraining Loss: 0.172\tValidation Loss: 0.432\n",
            "Epoch 124\tTraining Loss: 0.163\tValidation Loss: 0.499\n",
            "Epoch 125\tTraining Loss: 0.175\tValidation Loss: 0.467\n",
            "Epoch 126\tTraining Loss: 0.171\tValidation Loss: 0.472\n",
            "Epoch 127\tTraining Loss: 0.165\tValidation Loss: 0.463\n",
            "Epoch 128\tTraining Loss: 0.166\tValidation Loss: 0.501\n",
            "Epoch 129\tTraining Loss: 0.163\tValidation Loss: 0.452\n",
            "Epoch 130\tTraining Loss: 0.164\tValidation Loss: 0.482\n",
            "Epoch 131\tTraining Loss: 0.165\tValidation Loss: 0.446\n",
            "Epoch 132\tTraining Loss: 0.169\tValidation Loss: 0.459\n",
            "Epoch 133\tTraining Loss: 0.163\tValidation Loss: 0.466\n",
            "Epoch 134\tTraining Loss: 0.161\tValidation Loss: 0.480\n",
            "Epoch 135\tTraining Loss: 0.167\tValidation Loss: 0.452\n",
            "Epoch 136\tTraining Loss: 0.158\tValidation Loss: 0.469\n",
            "Epoch 137\tTraining Loss: 0.166\tValidation Loss: 0.466\n",
            "Epoch 138\tTraining Loss: 0.160\tValidation Loss: 0.473\n",
            "Epoch 139\tTraining Loss: 0.160\tValidation Loss: 0.491\n",
            "Epoch 140\tTraining Loss: 0.166\tValidation Loss: 0.475\n",
            "Epoch 141\tTraining Loss: 0.153\tValidation Loss: 0.493\n",
            "Epoch 142\tTraining Loss: 0.160\tValidation Loss: 0.529\n",
            "Epoch 143\tTraining Loss: 0.161\tValidation Loss: 0.498\n",
            "Epoch 144\tTraining Loss: 0.157\tValidation Loss: 0.496\n",
            "Epoch 145\tTraining Loss: 0.161\tValidation Loss: 0.459\n",
            "Epoch 146\tTraining Loss: 0.160\tValidation Loss: 0.484\n",
            "Epoch 147\tTraining Loss: 0.153\tValidation Loss: 0.504\n",
            "Epoch 148\tTraining Loss: 0.156\tValidation Loss: 0.455\n",
            "Epoch 149\tTraining Loss: 0.157\tValidation Loss: 0.518\n",
            "Epoch 150\tTraining Loss: 0.160\tValidation Loss: 0.456\n",
            "Epoch 151\tTraining Loss: 0.154\tValidation Loss: 0.468\n",
            "Epoch 152\tTraining Loss: 0.150\tValidation Loss: 0.492\n",
            "Epoch 153\tTraining Loss: 0.161\tValidation Loss: 0.456\n",
            "Epoch 154\tTraining Loss: 0.150\tValidation Loss: 0.453\n",
            "Epoch 155\tTraining Loss: 0.151\tValidation Loss: 0.500\n",
            "Epoch 156\tTraining Loss: 0.149\tValidation Loss: 0.622\n",
            "Epoch 157\tTraining Loss: 0.155\tValidation Loss: 0.511\n",
            "Epoch 158\tTraining Loss: 0.156\tValidation Loss: 0.510\n",
            "Epoch 159\tTraining Loss: 0.150\tValidation Loss: 0.530\n",
            "Epoch 160\tTraining Loss: 0.148\tValidation Loss: 0.522\n",
            "Epoch 161\tTraining Loss: 0.153\tValidation Loss: 0.583\n",
            "Epoch 162\tTraining Loss: 0.157\tValidation Loss: 0.474\n",
            "Epoch 163\tTraining Loss: 0.152\tValidation Loss: 0.490\n",
            "Epoch 164\tTraining Loss: 0.151\tValidation Loss: 0.513\n",
            "Epoch 165\tTraining Loss: 0.150\tValidation Loss: 0.471\n",
            "Epoch 166\tTraining Loss: 0.146\tValidation Loss: 0.500\n",
            "Epoch 167\tTraining Loss: 0.149\tValidation Loss: 0.498\n",
            "Epoch 168\tTraining Loss: 0.157\tValidation Loss: 0.470\n",
            "Epoch 169\tTraining Loss: 0.143\tValidation Loss: 0.513\n",
            "Epoch 170\tTraining Loss: 0.157\tValidation Loss: 0.459\n",
            "Epoch 171\tTraining Loss: 0.151\tValidation Loss: 0.482\n",
            "Epoch 172\tTraining Loss: 0.149\tValidation Loss: 0.482\n",
            "Epoch 173\tTraining Loss: 0.140\tValidation Loss: 0.514\n",
            "Epoch 174\tTraining Loss: 0.157\tValidation Loss: 0.500\n",
            "Epoch 175\tTraining Loss: 0.149\tValidation Loss: 0.489\n",
            "Epoch 176\tTraining Loss: 0.150\tValidation Loss: 0.536\n",
            "Epoch 177\tTraining Loss: 0.146\tValidation Loss: 0.514\n",
            "Epoch 178\tTraining Loss: 0.146\tValidation Loss: 0.525\n",
            "Epoch 179\tTraining Loss: 0.145\tValidation Loss: 0.513\n",
            "Epoch 180\tTraining Loss: 0.144\tValidation Loss: 0.459\n",
            "Epoch 181\tTraining Loss: 0.140\tValidation Loss: 0.503\n",
            "Epoch 182\tTraining Loss: 0.147\tValidation Loss: 0.473\n",
            "Epoch 183\tTraining Loss: 0.145\tValidation Loss: 0.547\n",
            "Epoch 184\tTraining Loss: 0.140\tValidation Loss: 0.483\n",
            "Epoch 185\tTraining Loss: 0.147\tValidation Loss: 0.469\n",
            "Epoch 186\tTraining Loss: 0.132\tValidation Loss: 0.569\n",
            "Epoch 187\tTraining Loss: 0.137\tValidation Loss: 0.491\n",
            "Epoch 188\tTraining Loss: 0.142\tValidation Loss: 0.551\n",
            "Epoch 189\tTraining Loss: 0.140\tValidation Loss: 0.506\n",
            "Epoch 190\tTraining Loss: 0.140\tValidation Loss: 0.519\n",
            "Epoch 191\tTraining Loss: 0.145\tValidation Loss: 0.464\n",
            "Epoch 192\tTraining Loss: 0.141\tValidation Loss: 0.502\n",
            "Epoch 193\tTraining Loss: 0.140\tValidation Loss: 0.481\n",
            "Epoch 194\tTraining Loss: 0.130\tValidation Loss: 0.558\n",
            "Epoch 195\tTraining Loss: 0.136\tValidation Loss: 0.464\n",
            "Epoch 196\tTraining Loss: 0.138\tValidation Loss: 0.470\n",
            "Epoch 197\tTraining Loss: 0.142\tValidation Loss: 0.511\n",
            "Epoch 198\tTraining Loss: 0.141\tValidation Loss: 0.556\n",
            "Epoch 199\tTraining Loss: 0.141\tValidation Loss: 0.505\n",
            "Epoch 200\tTraining Loss: 0.139\tValidation Loss: 0.539\n",
            "Epoch 201\tTraining Loss: 0.139\tValidation Loss: 0.583\n",
            "Epoch 202\tTraining Loss: 0.138\tValidation Loss: 0.506\n",
            "Epoch 203\tTraining Loss: 0.135\tValidation Loss: 0.499\n",
            "Epoch 204\tTraining Loss: 0.133\tValidation Loss: 0.505\n",
            "Epoch 205\tTraining Loss: 0.128\tValidation Loss: 0.524\n",
            "Epoch 206\tTraining Loss: 0.138\tValidation Loss: 0.478\n",
            "Epoch 207\tTraining Loss: 0.122\tValidation Loss: 0.493\n",
            "Epoch 208\tTraining Loss: 0.138\tValidation Loss: 0.516\n",
            "Epoch 209\tTraining Loss: 0.135\tValidation Loss: 0.526\n",
            "Epoch 210\tTraining Loss: 0.136\tValidation Loss: 0.565\n",
            "Epoch 211\tTraining Loss: 0.139\tValidation Loss: 0.558\n",
            "Epoch 212\tTraining Loss: 0.129\tValidation Loss: 0.506\n",
            "Epoch 213\tTraining Loss: 0.129\tValidation Loss: 0.582\n",
            "Epoch 214\tTraining Loss: 0.141\tValidation Loss: 0.486\n",
            "Epoch 215\tTraining Loss: 0.134\tValidation Loss: 0.502\n",
            "Epoch 216\tTraining Loss: 0.129\tValidation Loss: 0.528\n",
            "Epoch 217\tTraining Loss: 0.127\tValidation Loss: 0.594\n",
            "Epoch 218\tTraining Loss: 0.136\tValidation Loss: 0.523\n",
            "Epoch 219\tTraining Loss: 0.142\tValidation Loss: 0.472\n",
            "Epoch 220\tTraining Loss: 0.132\tValidation Loss: 0.532\n",
            "Epoch 221\tTraining Loss: 0.128\tValidation Loss: 0.503\n",
            "Epoch 222\tTraining Loss: 0.131\tValidation Loss: 0.564\n",
            "Epoch 223\tTraining Loss: 0.133\tValidation Loss: 0.473\n",
            "Epoch 224\tTraining Loss: 0.131\tValidation Loss: 0.499\n",
            "Epoch 225\tTraining Loss: 0.138\tValidation Loss: 0.507\n",
            "Epoch 226\tTraining Loss: 0.131\tValidation Loss: 0.553\n",
            "Epoch 227\tTraining Loss: 0.124\tValidation Loss: 0.596\n",
            "Epoch 228\tTraining Loss: 0.135\tValidation Loss: 0.511\n",
            "Epoch 229\tTraining Loss: 0.131\tValidation Loss: 0.488\n",
            "Epoch 230\tTraining Loss: 0.128\tValidation Loss: 0.545\n",
            "Epoch 231\tTraining Loss: 0.130\tValidation Loss: 0.524\n",
            "Epoch 232\tTraining Loss: 0.122\tValidation Loss: 0.622\n",
            "Epoch 233\tTraining Loss: 0.133\tValidation Loss: 0.518\n",
            "Epoch 234\tTraining Loss: 0.131\tValidation Loss: 0.500\n",
            "Epoch 235\tTraining Loss: 0.124\tValidation Loss: 0.476\n",
            "Epoch 236\tTraining Loss: 0.129\tValidation Loss: 0.477\n",
            "Epoch 237\tTraining Loss: 0.120\tValidation Loss: 0.556\n",
            "Epoch 238\tTraining Loss: 0.131\tValidation Loss: 0.548\n",
            "Epoch 239\tTraining Loss: 0.124\tValidation Loss: 0.526\n",
            "Epoch 240\tTraining Loss: 0.129\tValidation Loss: 0.460\n",
            "Epoch 241\tTraining Loss: 0.127\tValidation Loss: 0.559\n",
            "Epoch 242\tTraining Loss: 0.134\tValidation Loss: 0.484\n",
            "Epoch 243\tTraining Loss: 0.126\tValidation Loss: 0.502\n",
            "Epoch 244\tTraining Loss: 0.125\tValidation Loss: 0.526\n",
            "Epoch 245\tTraining Loss: 0.133\tValidation Loss: 0.502\n",
            "Epoch 246\tTraining Loss: 0.121\tValidation Loss: 0.509\n",
            "Epoch 247\tTraining Loss: 0.123\tValidation Loss: 0.499\n",
            "Epoch 248\tTraining Loss: 0.120\tValidation Loss: 0.521\n",
            "Epoch 249\tTraining Loss: 0.123\tValidation Loss: 0.508\n",
            "Epoch 250\tTraining Loss: 0.123\tValidation Loss: 0.511\n",
            "Epoch 251\tTraining Loss: 0.118\tValidation Loss: 0.518\n",
            "Epoch 252\tTraining Loss: 0.122\tValidation Loss: 0.547\n",
            "Epoch 253\tTraining Loss: 0.124\tValidation Loss: 0.537\n",
            "Epoch 254\tTraining Loss: 0.128\tValidation Loss: 0.613\n",
            "Epoch 255\tTraining Loss: 0.125\tValidation Loss: 0.535\n",
            "Epoch 256\tTraining Loss: 0.125\tValidation Loss: 0.529\n",
            "Epoch 257\tTraining Loss: 0.116\tValidation Loss: 0.583\n",
            "Epoch 258\tTraining Loss: 0.120\tValidation Loss: 0.557\n",
            "Epoch 259\tTraining Loss: 0.140\tValidation Loss: 0.547\n",
            "Epoch 260\tTraining Loss: 0.130\tValidation Loss: 0.555\n",
            "Epoch 261\tTraining Loss: 0.117\tValidation Loss: 0.584\n",
            "Epoch 262\tTraining Loss: 0.121\tValidation Loss: 0.602\n",
            "Epoch 263\tTraining Loss: 0.120\tValidation Loss: 0.555\n",
            "Epoch 264\tTraining Loss: 0.125\tValidation Loss: 0.578\n",
            "Epoch 265\tTraining Loss: 0.126\tValidation Loss: 0.584\n",
            "Epoch 266\tTraining Loss: 0.127\tValidation Loss: 0.552\n",
            "Epoch 267\tTraining Loss: 0.122\tValidation Loss: 0.608\n",
            "Epoch 268\tTraining Loss: 0.121\tValidation Loss: 0.525\n",
            "Epoch 269\tTraining Loss: 0.117\tValidation Loss: 0.507\n",
            "Epoch 270\tTraining Loss: 0.114\tValidation Loss: 0.505\n",
            "Epoch 271\tTraining Loss: 0.109\tValidation Loss: 0.565\n",
            "Epoch 272\tTraining Loss: 0.122\tValidation Loss: 0.541\n",
            "Epoch 273\tTraining Loss: 0.134\tValidation Loss: 0.521\n",
            "Epoch 274\tTraining Loss: 0.116\tValidation Loss: 0.548\n",
            "Epoch 275\tTraining Loss: 0.128\tValidation Loss: 0.499\n",
            "Epoch 276\tTraining Loss: 0.118\tValidation Loss: 0.574\n",
            "Epoch 277\tTraining Loss: 0.131\tValidation Loss: 0.494\n",
            "Epoch 278\tTraining Loss: 0.116\tValidation Loss: 0.532\n",
            "Epoch 279\tTraining Loss: 0.129\tValidation Loss: 0.513\n",
            "Epoch 280\tTraining Loss: 0.114\tValidation Loss: 0.490\n",
            "Epoch 281\tTraining Loss: 0.116\tValidation Loss: 0.578\n",
            "Epoch 282\tTraining Loss: 0.115\tValidation Loss: 0.523\n",
            "Epoch 283\tTraining Loss: 0.117\tValidation Loss: 0.517\n",
            "Epoch 284\tTraining Loss: 0.125\tValidation Loss: 0.522\n",
            "Epoch 285\tTraining Loss: 0.118\tValidation Loss: 0.597\n",
            "Epoch 286\tTraining Loss: 0.117\tValidation Loss: 0.598\n",
            "Epoch 287\tTraining Loss: 0.118\tValidation Loss: 0.597\n",
            "Epoch 288\tTraining Loss: 0.122\tValidation Loss: 0.523\n",
            "Epoch 289\tTraining Loss: 0.107\tValidation Loss: 0.564\n",
            "Epoch 290\tTraining Loss: 0.112\tValidation Loss: 0.572\n",
            "Epoch 291\tTraining Loss: 0.125\tValidation Loss: 0.558\n",
            "Epoch 292\tTraining Loss: 0.105\tValidation Loss: 0.570\n",
            "Epoch 293\tTraining Loss: 0.118\tValidation Loss: 0.595\n",
            "Epoch 294\tTraining Loss: 0.127\tValidation Loss: 0.557\n",
            "Epoch 295\tTraining Loss: 0.129\tValidation Loss: 0.556\n",
            "Epoch 296\tTraining Loss: 0.114\tValidation Loss: 0.524\n",
            "Epoch 297\tTraining Loss: 0.107\tValidation Loss: 0.504\n",
            "Epoch 298\tTraining Loss: 0.111\tValidation Loss: 0.609\n",
            "Epoch 299\tTraining Loss: 0.121\tValidation Loss: 0.540\n",
            "Epoch 300\tTraining Loss: 0.118\tValidation Loss: 0.554\n"
          ]
        }
      ],
      "source": [
        "train_losses = []\n",
        "train_acc = []\n",
        "val_losses = []\n",
        "val_acc = []\n",
        "\n",
        "for epoch in range(num_epochs):\n",
        "    model.train()\n",
        "    t_loss = 0\n",
        "    t_acc = 0\n",
        "    cnt = 0\n",
        "    for X, y in train_loader:\n",
        "        X, y = X.to(device), y.to(device)\n",
        "        optimizer.zero_grad()\n",
        "        outputs = model(X)\n",
        "        loss = criterion(outputs, y)\n",
        "        loss.backward()\n",
        "        optimizer.step()\n",
        "        t_loss += loss.item()\n",
        "        t_acc += (torch.argmax(outputs, 1) == y).sum().item()\n",
        "        cnt += len(y)\n",
        "    t_loss /= len(train_loader)\n",
        "    train_losses.append(t_loss)\n",
        "    t_acc /= cnt\n",
        "    train_acc.append(t_acc)\n",
        "\n",
        "    model.eval()\n",
        "    v_loss = 0\n",
        "    v_acc = 0\n",
        "    cnt = 0\n",
        "    with torch.no_grad():\n",
        "        for X, y in test_loader:\n",
        "            X, y = X.to(device), y.to(device)\n",
        "            outputs = model(X)\n",
        "            loss = criterion(outputs, y)\n",
        "            v_loss += loss.item()\n",
        "            v_acc += (torch.argmax(outputs, 1) == y).sum().item()\n",
        "            cnt += len(y)\n",
        "        v_loss /= len(test_loader)\n",
        "        val_losses.append(v_loss)\n",
        "        v_acc /= cnt\n",
        "        val_acc.append(v_acc)\n",
        "    print(f'Epoch {epoch+1}\\tTraining Loss: {t_loss:.3f}\\tValidation Loss: {v_loss:.3f}')"
      ]
    },
    {
      "cell_type": "code",
      "execution_count": null,
      "metadata": {
        "colab": {
          "base_uri": "https://localhost:8080/",
          "height": 890
        },
        "id": "MzFGeW1pIf3o",
        "outputId": "3ac6b6c4-792b-4556-e44d-5f0efe659af9"
      },
      "outputs": [
        {
          "output_type": "execute_result",
          "data": {
            "text/plain": [
              "Text(0, 0.5, 'Accuracy')"
            ]
          },
          "metadata": {},
          "execution_count": 10
        },
        {
          "output_type": "display_data",
          "data": {
            "text/plain": [
              "<Figure size 1200x1000 with 4 Axes>"
            ],
            "image/png": "[encoded data removed]"
          },
          "metadata": {}
        }
      ],
      "source": [
        "fig, ax = plt.subplots(2, 2, figsize=(12, 10))\n",
        "\n",
        "ax[0, 0].plot(train_losses)\n",
        "ax[0, 0].set_title('Train Loss')\n",
        "ax[0, 0].set_xlabel('Epoch')\n",
        "ax[0, 0].set_ylabel('Loss')\n",
        "\n",
        "ax[0, 1].plot(val_losses)\n",
        "ax[0, 1].set_title('Validation Loss')\n",
        "ax[0, 1].set_xlabel('Epoch')\n",
        "ax[0, 1].set_ylabel('Loss')\n",
        "\n",
        "ax[1, 0].plot(train_acc, color='orange')\n",
        "ax[1, 0].set_title('Train Accuracy')\n",
        "ax[1, 0].set_xlabel('Epoch')\n",
        "ax[1, 0].set_ylabel('Accuracy')\n",
        "\n",
        "ax[1, 1].plot(val_acc, color='orange')\n",
        "ax[1, 1].set_title('Validation Accuracy')\n",
        "ax[1, 1].set_xlabel('Epoch')\n",
        "ax[1, 1].set_ylabel('Accuracy')"
      ]
    },
    {
      "cell_type": "code",
      "execution_count": null,
      "metadata": {
        "colab": {
          "base_uri": "https://localhost:8080/"
        },
        "id": "at9oZkqcIf3o",
        "outputId": "93fb320c-aa08-4529-e634-243892a15750"
      },
      "outputs": [
        {
          "output_type": "execute_result",
          "data": {
            "text/plain": [
              "0.8748"
            ]
          },
          "metadata": {},
          "execution_count": 11
        }
      ],
      "source": [
        "test_target = []\n",
        "test_predict = []\n",
        "with torch.no_grad():\n",
        "    for X, y in test_loader:\n",
        "        X, y = X.to(device), y.to(device)\n",
        "        outputs = model(X)\n",
        "        test_target.append(y.cpu())\n",
        "        test_predict.append(outputs.cpu())\n",
        "\n",
        "test_predict = torch.cat(test_predict)\n",
        "test_target = torch.cat(test_target)\n",
        "acc = (torch.argmax(test_predict, 1) == test_target).sum().item() / len(test_target)\n",
        "acc"
      ]
    }
  ],
  "metadata": {
    "kernelspec": {
      "display_name": "aio2024-exercise",
      "language": "python",
      "name": "python3"
    },
    "language_info": {
      "codemirror_mode": {
        "name": "ipython",
        "version": 3
      },
      "file_extension": ".py",
      "mimetype": "text/x-python",
      "name": "python",
      "nbconvert_exporter": "python",
      "pygments_lexer": "ipython3",
      "version": "3.11.9"
    },
    "colab": {
      "provenance": []
    }
  },
  "nbformat": 4,
  "nbformat_minor": 0
}